{
 "cells": [
  {
   "cell_type": "code",
   "execution_count": 237,
   "id": "cee2bef0",
   "metadata": {},
   "outputs": [],
   "source": [
    "import pandas as pd \n",
    "import numpy as np\n",
    "import matplotlib.pyplot as plt \n",
    "import pickle"
   ]
  },
  {
   "cell_type": "code",
   "execution_count": 238,
   "id": "e0c93f8c",
   "metadata": {},
   "outputs": [],
   "source": [
    "df = pd.read_csv('athlete_events.csv')\n",
    "region_df = pd.read_csv('noc_regions.csv')"
   ]
  },
  {
   "cell_type": "code",
   "execution_count": 239,
   "id": "197617d3",
   "metadata": {},
   "outputs": [
    {
     "data": {
      "text/html": [
       "<div>\n",
       "<style scoped>\n",
       "    .dataframe tbody tr th:only-of-type {\n",
       "        vertical-align: middle;\n",
       "    }\n",
       "\n",
       "    .dataframe tbody tr th {\n",
       "        vertical-align: top;\n",
       "    }\n",
       "\n",
       "    .dataframe thead th {\n",
       "        text-align: right;\n",
       "    }\n",
       "</style>\n",
       "<table border=\"1\" class=\"dataframe\">\n",
       "  <thead>\n",
       "    <tr style=\"text-align: right;\">\n",
       "      <th></th>\n",
       "      <th>ID</th>\n",
       "      <th>Name</th>\n",
       "      <th>Sex</th>\n",
       "      <th>Age</th>\n",
       "      <th>Height</th>\n",
       "      <th>Weight</th>\n",
       "      <th>Team</th>\n",
       "      <th>NOC</th>\n",
       "      <th>Games</th>\n",
       "      <th>Year</th>\n",
       "      <th>Season</th>\n",
       "      <th>City</th>\n",
       "      <th>Sport</th>\n",
       "      <th>Event</th>\n",
       "      <th>Medal</th>\n",
       "    </tr>\n",
       "  </thead>\n",
       "  <tbody>\n",
       "    <tr>\n",
       "      <th>271111</th>\n",
       "      <td>135569</td>\n",
       "      <td>Andrzej ya</td>\n",
       "      <td>M</td>\n",
       "      <td>29.0</td>\n",
       "      <td>179.0</td>\n",
       "      <td>89.0</td>\n",
       "      <td>Poland-1</td>\n",
       "      <td>POL</td>\n",
       "      <td>1976 Winter</td>\n",
       "      <td>1976</td>\n",
       "      <td>Winter</td>\n",
       "      <td>Innsbruck</td>\n",
       "      <td>Luge</td>\n",
       "      <td>Luge Mixed (Men)'s Doubles</td>\n",
       "      <td>NaN</td>\n",
       "    </tr>\n",
       "    <tr>\n",
       "      <th>271112</th>\n",
       "      <td>135570</td>\n",
       "      <td>Piotr ya</td>\n",
       "      <td>M</td>\n",
       "      <td>27.0</td>\n",
       "      <td>176.0</td>\n",
       "      <td>59.0</td>\n",
       "      <td>Poland</td>\n",
       "      <td>POL</td>\n",
       "      <td>2014 Winter</td>\n",
       "      <td>2014</td>\n",
       "      <td>Winter</td>\n",
       "      <td>Sochi</td>\n",
       "      <td>Ski Jumping</td>\n",
       "      <td>Ski Jumping Men's Large Hill, Individual</td>\n",
       "      <td>NaN</td>\n",
       "    </tr>\n",
       "    <tr>\n",
       "      <th>271113</th>\n",
       "      <td>135570</td>\n",
       "      <td>Piotr ya</td>\n",
       "      <td>M</td>\n",
       "      <td>27.0</td>\n",
       "      <td>176.0</td>\n",
       "      <td>59.0</td>\n",
       "      <td>Poland</td>\n",
       "      <td>POL</td>\n",
       "      <td>2014 Winter</td>\n",
       "      <td>2014</td>\n",
       "      <td>Winter</td>\n",
       "      <td>Sochi</td>\n",
       "      <td>Ski Jumping</td>\n",
       "      <td>Ski Jumping Men's Large Hill, Team</td>\n",
       "      <td>NaN</td>\n",
       "    </tr>\n",
       "    <tr>\n",
       "      <th>271114</th>\n",
       "      <td>135571</td>\n",
       "      <td>Tomasz Ireneusz ya</td>\n",
       "      <td>M</td>\n",
       "      <td>30.0</td>\n",
       "      <td>185.0</td>\n",
       "      <td>96.0</td>\n",
       "      <td>Poland</td>\n",
       "      <td>POL</td>\n",
       "      <td>1998 Winter</td>\n",
       "      <td>1998</td>\n",
       "      <td>Winter</td>\n",
       "      <td>Nagano</td>\n",
       "      <td>Bobsleigh</td>\n",
       "      <td>Bobsleigh Men's Four</td>\n",
       "      <td>NaN</td>\n",
       "    </tr>\n",
       "    <tr>\n",
       "      <th>271115</th>\n",
       "      <td>135571</td>\n",
       "      <td>Tomasz Ireneusz ya</td>\n",
       "      <td>M</td>\n",
       "      <td>34.0</td>\n",
       "      <td>185.0</td>\n",
       "      <td>96.0</td>\n",
       "      <td>Poland</td>\n",
       "      <td>POL</td>\n",
       "      <td>2002 Winter</td>\n",
       "      <td>2002</td>\n",
       "      <td>Winter</td>\n",
       "      <td>Salt Lake City</td>\n",
       "      <td>Bobsleigh</td>\n",
       "      <td>Bobsleigh Men's Four</td>\n",
       "      <td>NaN</td>\n",
       "    </tr>\n",
       "  </tbody>\n",
       "</table>\n",
       "</div>"
      ],
      "text/plain": [
       "            ID                Name Sex   Age  Height  Weight      Team  NOC  \\\n",
       "271111  135569          Andrzej ya   M  29.0   179.0    89.0  Poland-1  POL   \n",
       "271112  135570            Piotr ya   M  27.0   176.0    59.0    Poland  POL   \n",
       "271113  135570            Piotr ya   M  27.0   176.0    59.0    Poland  POL   \n",
       "271114  135571  Tomasz Ireneusz ya   M  30.0   185.0    96.0    Poland  POL   \n",
       "271115  135571  Tomasz Ireneusz ya   M  34.0   185.0    96.0    Poland  POL   \n",
       "\n",
       "              Games  Year  Season            City        Sport  \\\n",
       "271111  1976 Winter  1976  Winter       Innsbruck         Luge   \n",
       "271112  2014 Winter  2014  Winter           Sochi  Ski Jumping   \n",
       "271113  2014 Winter  2014  Winter           Sochi  Ski Jumping   \n",
       "271114  1998 Winter  1998  Winter          Nagano    Bobsleigh   \n",
       "271115  2002 Winter  2002  Winter  Salt Lake City    Bobsleigh   \n",
       "\n",
       "                                           Event Medal  \n",
       "271111                Luge Mixed (Men)'s Doubles   NaN  \n",
       "271112  Ski Jumping Men's Large Hill, Individual   NaN  \n",
       "271113        Ski Jumping Men's Large Hill, Team   NaN  \n",
       "271114                      Bobsleigh Men's Four   NaN  \n",
       "271115                      Bobsleigh Men's Four   NaN  "
      ]
     },
     "execution_count": 239,
     "metadata": {},
     "output_type": "execute_result"
    }
   ],
   "source": [
    "df.tail()"
   ]
  },
  {
   "cell_type": "code",
   "execution_count": 240,
   "id": "c6802c21",
   "metadata": {},
   "outputs": [],
   "source": [
    "# We only want the summer season\n",
    "df = df[df['Season'] == 'Summer']"
   ]
  },
  {
   "cell_type": "code",
   "execution_count": 241,
   "id": "7c35823c",
   "metadata": {},
   "outputs": [],
   "source": [
    "# Now Merging the two dataset based on the NOC and the country name in the noc_region\n",
    "df = df.merge(region_df , on='NOC' , how='left')"
   ]
  },
  {
   "cell_type": "code",
   "execution_count": 242,
   "id": "b37d7b0f",
   "metadata": {},
   "outputs": [
    {
     "data": {
      "text/html": [
       "<div>\n",
       "<style scoped>\n",
       "    .dataframe tbody tr th:only-of-type {\n",
       "        vertical-align: middle;\n",
       "    }\n",
       "\n",
       "    .dataframe tbody tr th {\n",
       "        vertical-align: top;\n",
       "    }\n",
       "\n",
       "    .dataframe thead th {\n",
       "        text-align: right;\n",
       "    }\n",
       "</style>\n",
       "<table border=\"1\" class=\"dataframe\">\n",
       "  <thead>\n",
       "    <tr style=\"text-align: right;\">\n",
       "      <th></th>\n",
       "      <th>ID</th>\n",
       "      <th>Name</th>\n",
       "      <th>Sex</th>\n",
       "      <th>Age</th>\n",
       "      <th>Height</th>\n",
       "      <th>Weight</th>\n",
       "      <th>Team</th>\n",
       "      <th>NOC</th>\n",
       "      <th>Games</th>\n",
       "      <th>Year</th>\n",
       "      <th>Season</th>\n",
       "      <th>City</th>\n",
       "      <th>Sport</th>\n",
       "      <th>Event</th>\n",
       "      <th>Medal</th>\n",
       "      <th>region</th>\n",
       "      <th>notes</th>\n",
       "    </tr>\n",
       "  </thead>\n",
       "  <tbody>\n",
       "    <tr>\n",
       "      <th>68273</th>\n",
       "      <td>41561</td>\n",
       "      <td>Jos Lus Gonzlez</td>\n",
       "      <td>M</td>\n",
       "      <td>31.0</td>\n",
       "      <td>206.0</td>\n",
       "      <td>97.0</td>\n",
       "      <td>Argentina</td>\n",
       "      <td>ARG</td>\n",
       "      <td>2016 Summer</td>\n",
       "      <td>2016</td>\n",
       "      <td>Summer</td>\n",
       "      <td>Rio de Janeiro</td>\n",
       "      <td>Volleyball</td>\n",
       "      <td>Volleyball Men's Volleyball</td>\n",
       "      <td>NaN</td>\n",
       "      <td>Argentina</td>\n",
       "      <td>NaN</td>\n",
       "    </tr>\n",
       "    <tr>\n",
       "      <th>148296</th>\n",
       "      <td>90525</td>\n",
       "      <td>Hctor Leonardo Pez Len</td>\n",
       "      <td>M</td>\n",
       "      <td>30.0</td>\n",
       "      <td>175.0</td>\n",
       "      <td>63.0</td>\n",
       "      <td>Colombia</td>\n",
       "      <td>COL</td>\n",
       "      <td>2012 Summer</td>\n",
       "      <td>2012</td>\n",
       "      <td>Summer</td>\n",
       "      <td>London</td>\n",
       "      <td>Cycling</td>\n",
       "      <td>Cycling Men's Mountainbike, Cross-Country</td>\n",
       "      <td>NaN</td>\n",
       "      <td>Colombia</td>\n",
       "      <td>NaN</td>\n",
       "    </tr>\n",
       "    <tr>\n",
       "      <th>152746</th>\n",
       "      <td>93285</td>\n",
       "      <td>Carlos Enrique Reinaldo Prez</td>\n",
       "      <td>M</td>\n",
       "      <td>32.0</td>\n",
       "      <td>198.0</td>\n",
       "      <td>107.0</td>\n",
       "      <td>Hungary</td>\n",
       "      <td>HUN</td>\n",
       "      <td>2004 Summer</td>\n",
       "      <td>2004</td>\n",
       "      <td>Summer</td>\n",
       "      <td>Athina</td>\n",
       "      <td>Handball</td>\n",
       "      <td>Handball Men's Handball</td>\n",
       "      <td>NaN</td>\n",
       "      <td>Hungary</td>\n",
       "      <td>NaN</td>\n",
       "    </tr>\n",
       "    <tr>\n",
       "      <th>6162</th>\n",
       "      <td>3949</td>\n",
       "      <td>Agne Lennart Andersson (-Agnred)</td>\n",
       "      <td>M</td>\n",
       "      <td>22.0</td>\n",
       "      <td>179.0</td>\n",
       "      <td>69.0</td>\n",
       "      <td>Sweden</td>\n",
       "      <td>SWE</td>\n",
       "      <td>1936 Summer</td>\n",
       "      <td>1936</td>\n",
       "      <td>Summer</td>\n",
       "      <td>Berlin</td>\n",
       "      <td>Athletics</td>\n",
       "      <td>Athletics Men's Triple Jump</td>\n",
       "      <td>NaN</td>\n",
       "      <td>Sweden</td>\n",
       "      <td>NaN</td>\n",
       "    </tr>\n",
       "    <tr>\n",
       "      <th>94175</th>\n",
       "      <td>57816</td>\n",
       "      <td>Darya Sergeyevna Kasatkina</td>\n",
       "      <td>F</td>\n",
       "      <td>19.0</td>\n",
       "      <td>170.0</td>\n",
       "      <td>62.0</td>\n",
       "      <td>Russia-1</td>\n",
       "      <td>RUS</td>\n",
       "      <td>2016 Summer</td>\n",
       "      <td>2016</td>\n",
       "      <td>Summer</td>\n",
       "      <td>Rio de Janeiro</td>\n",
       "      <td>Tennis</td>\n",
       "      <td>Tennis Women's Doubles</td>\n",
       "      <td>NaN</td>\n",
       "      <td>Russia</td>\n",
       "      <td>NaN</td>\n",
       "    </tr>\n",
       "  </tbody>\n",
       "</table>\n",
       "</div>"
      ],
      "text/plain": [
       "           ID                              Name Sex   Age  Height  Weight  \\\n",
       "68273   41561                   Jos Lus Gonzlez   M  31.0   206.0    97.0   \n",
       "148296  90525            Hctor Leonardo Pez Len   M  30.0   175.0    63.0   \n",
       "152746  93285      Carlos Enrique Reinaldo Prez   M  32.0   198.0   107.0   \n",
       "6162     3949  Agne Lennart Andersson (-Agnred)   M  22.0   179.0    69.0   \n",
       "94175   57816        Darya Sergeyevna Kasatkina   F  19.0   170.0    62.0   \n",
       "\n",
       "             Team  NOC        Games  Year  Season            City       Sport  \\\n",
       "68273   Argentina  ARG  2016 Summer  2016  Summer  Rio de Janeiro  Volleyball   \n",
       "148296   Colombia  COL  2012 Summer  2012  Summer          London     Cycling   \n",
       "152746    Hungary  HUN  2004 Summer  2004  Summer          Athina    Handball   \n",
       "6162       Sweden  SWE  1936 Summer  1936  Summer          Berlin   Athletics   \n",
       "94175    Russia-1  RUS  2016 Summer  2016  Summer  Rio de Janeiro      Tennis   \n",
       "\n",
       "                                            Event Medal     region notes  \n",
       "68273                 Volleyball Men's Volleyball   NaN  Argentina   NaN  \n",
       "148296  Cycling Men's Mountainbike, Cross-Country   NaN   Colombia   NaN  \n",
       "152746                    Handball Men's Handball   NaN    Hungary   NaN  \n",
       "6162                  Athletics Men's Triple Jump   NaN     Sweden   NaN  \n",
       "94175                      Tennis Women's Doubles   NaN     Russia   NaN  "
      ]
     },
     "execution_count": 242,
     "metadata": {},
     "output_type": "execute_result"
    }
   ],
   "source": [
    "df.sample(5)"
   ]
  },
  {
   "cell_type": "code",
   "execution_count": 243,
   "id": "4b350b52",
   "metadata": {},
   "outputs": [
    {
     "data": {
      "text/plain": [
       "206"
      ]
     },
     "execution_count": 243,
     "metadata": {},
     "output_type": "execute_result"
    }
   ],
   "source": [
    "len(df['region'].unique().tolist())"
   ]
  },
  {
   "cell_type": "code",
   "execution_count": 244,
   "id": "b63e6c5a",
   "metadata": {},
   "outputs": [
    {
     "data": {
      "text/plain": [
       "ID             0\n",
       "Name           0\n",
       "Sex            0\n",
       "Age         9189\n",
       "Height     51857\n",
       "Weight     53854\n",
       "Team           0\n",
       "NOC            0\n",
       "Games          0\n",
       "Year           0\n",
       "Season         0\n",
       "City           0\n",
       "Sport          0\n",
       "Event          0\n",
       "Medal     188464\n",
       "region       370\n",
       "notes     218151\n",
       "dtype: int64"
      ]
     },
     "execution_count": 244,
     "metadata": {},
     "output_type": "execute_result"
    }
   ],
   "source": [
    "df.isnull().sum()"
   ]
  },
  {
   "cell_type": "code",
   "execution_count": 245,
   "id": "67f3e307",
   "metadata": {},
   "outputs": [
    {
     "data": {
      "text/plain": [
       "np.int64(1385)"
      ]
     },
     "execution_count": 245,
     "metadata": {},
     "output_type": "execute_result"
    }
   ],
   "source": [
    "df.duplicated().sum()"
   ]
  },
  {
   "cell_type": "code",
   "execution_count": 246,
   "id": "3d13a9b4",
   "metadata": {},
   "outputs": [],
   "source": [
    "# Removing the Duplicate Values\n",
    "df.drop_duplicates(inplace=True)"
   ]
  },
  {
   "cell_type": "code",
   "execution_count": 247,
   "id": "92bc4f8d",
   "metadata": {},
   "outputs": [
    {
     "data": {
      "text/plain": [
       "Medal\n",
       "Gold      11456\n",
       "Bronze    11409\n",
       "Silver    11212\n",
       "Name: count, dtype: int64"
      ]
     },
     "execution_count": 247,
     "metadata": {},
     "output_type": "execute_result"
    }
   ],
   "source": [
    "df['Medal'].value_counts()"
   ]
  },
  {
   "cell_type": "code",
   "execution_count": 248,
   "id": "b8a491de",
   "metadata": {},
   "outputs": [],
   "source": [
    "# Now lets do the onehot encoding on it and then concatinate to the main df\n",
    "df = pd.concat([df, pd.get_dummies(df['Medal'] , dtype=int)] , axis=1)"
   ]
  },
  {
   "cell_type": "code",
   "execution_count": 249,
   "id": "662834e7",
   "metadata": {},
   "outputs": [
    {
     "data": {
      "text/plain": [
       "(221167, 20)"
      ]
     },
     "execution_count": 249,
     "metadata": {},
     "output_type": "execute_result"
    }
   ],
   "source": [
    "df.shape"
   ]
  },
  {
   "cell_type": "code",
   "execution_count": 250,
   "id": "0647e4c0",
   "metadata": {},
   "outputs": [
    {
     "data": {
      "text/html": [
       "<div>\n",
       "<style scoped>\n",
       "    .dataframe tbody tr th:only-of-type {\n",
       "        vertical-align: middle;\n",
       "    }\n",
       "\n",
       "    .dataframe tbody tr th {\n",
       "        vertical-align: top;\n",
       "    }\n",
       "\n",
       "    .dataframe thead th {\n",
       "        text-align: right;\n",
       "    }\n",
       "</style>\n",
       "<table border=\"1\" class=\"dataframe\">\n",
       "  <thead>\n",
       "    <tr style=\"text-align: right;\">\n",
       "      <th></th>\n",
       "      <th>Gold</th>\n",
       "      <th>Silver</th>\n",
       "      <th>Bronze</th>\n",
       "    </tr>\n",
       "    <tr>\n",
       "      <th>NOC</th>\n",
       "      <th></th>\n",
       "      <th></th>\n",
       "      <th></th>\n",
       "    </tr>\n",
       "  </thead>\n",
       "  <tbody>\n",
       "    <tr>\n",
       "      <th>USA</th>\n",
       "      <td>2472</td>\n",
       "      <td>1333</td>\n",
       "      <td>1197</td>\n",
       "    </tr>\n",
       "    <tr>\n",
       "      <th>URS</th>\n",
       "      <td>832</td>\n",
       "      <td>635</td>\n",
       "      <td>596</td>\n",
       "    </tr>\n",
       "    <tr>\n",
       "      <th>GBR</th>\n",
       "      <td>635</td>\n",
       "      <td>729</td>\n",
       "      <td>620</td>\n",
       "    </tr>\n",
       "    <tr>\n",
       "      <th>GER</th>\n",
       "      <td>592</td>\n",
       "      <td>538</td>\n",
       "      <td>649</td>\n",
       "    </tr>\n",
       "    <tr>\n",
       "      <th>ITA</th>\n",
       "      <td>518</td>\n",
       "      <td>474</td>\n",
       "      <td>454</td>\n",
       "    </tr>\n",
       "    <tr>\n",
       "      <th>...</th>\n",
       "      <td>...</td>\n",
       "      <td>...</td>\n",
       "      <td>...</td>\n",
       "    </tr>\n",
       "    <tr>\n",
       "      <th>AHO</th>\n",
       "      <td>0</td>\n",
       "      <td>1</td>\n",
       "      <td>0</td>\n",
       "    </tr>\n",
       "    <tr>\n",
       "      <th>LBR</th>\n",
       "      <td>0</td>\n",
       "      <td>0</td>\n",
       "      <td>0</td>\n",
       "    </tr>\n",
       "    <tr>\n",
       "      <th>LCA</th>\n",
       "      <td>0</td>\n",
       "      <td>0</td>\n",
       "      <td>0</td>\n",
       "    </tr>\n",
       "    <tr>\n",
       "      <th>LES</th>\n",
       "      <td>0</td>\n",
       "      <td>0</td>\n",
       "      <td>0</td>\n",
       "    </tr>\n",
       "    <tr>\n",
       "      <th>LBA</th>\n",
       "      <td>0</td>\n",
       "      <td>0</td>\n",
       "      <td>0</td>\n",
       "    </tr>\n",
       "  </tbody>\n",
       "</table>\n",
       "<p>230 rows × 3 columns</p>\n",
       "</div>"
      ],
      "text/plain": [
       "     Gold  Silver  Bronze\n",
       "NOC                      \n",
       "USA  2472    1333    1197\n",
       "URS   832     635     596\n",
       "GBR   635     729     620\n",
       "GER   592     538     649\n",
       "ITA   518     474     454\n",
       "..    ...     ...     ...\n",
       "AHO     0       1       0\n",
       "LBR     0       0       0\n",
       "LCA     0       0       0\n",
       "LES     0       0       0\n",
       "LBA     0       0       0\n",
       "\n",
       "[230 rows x 3 columns]"
      ]
     },
     "execution_count": 250,
     "metadata": {},
     "output_type": "execute_result"
    }
   ],
   "source": [
    "df.groupby('NOC').sum()[['Gold','Silver','Bronze']].sort_values('Gold',ascending=False)"
   ]
  },
  {
   "cell_type": "code",
   "execution_count": 251,
   "id": "a2b296fe",
   "metadata": {},
   "outputs": [
    {
     "data": {
      "text/html": [
       "<div>\n",
       "<style scoped>\n",
       "    .dataframe tbody tr th:only-of-type {\n",
       "        vertical-align: middle;\n",
       "    }\n",
       "\n",
       "    .dataframe tbody tr th {\n",
       "        vertical-align: top;\n",
       "    }\n",
       "\n",
       "    .dataframe thead th {\n",
       "        text-align: right;\n",
       "    }\n",
       "</style>\n",
       "<table border=\"1\" class=\"dataframe\">\n",
       "  <thead>\n",
       "    <tr style=\"text-align: right;\">\n",
       "      <th></th>\n",
       "      <th>NOC</th>\n",
       "      <th>Gold</th>\n",
       "      <th>Silver</th>\n",
       "      <th>Bronze</th>\n",
       "    </tr>\n",
       "  </thead>\n",
       "  <tbody>\n",
       "    <tr>\n",
       "      <th>0</th>\n",
       "      <td>USA</td>\n",
       "      <td>2472</td>\n",
       "      <td>1333</td>\n",
       "      <td>1197</td>\n",
       "    </tr>\n",
       "    <tr>\n",
       "      <th>1</th>\n",
       "      <td>URS</td>\n",
       "      <td>832</td>\n",
       "      <td>635</td>\n",
       "      <td>596</td>\n",
       "    </tr>\n",
       "    <tr>\n",
       "      <th>2</th>\n",
       "      <td>GBR</td>\n",
       "      <td>635</td>\n",
       "      <td>729</td>\n",
       "      <td>620</td>\n",
       "    </tr>\n",
       "    <tr>\n",
       "      <th>3</th>\n",
       "      <td>GER</td>\n",
       "      <td>592</td>\n",
       "      <td>538</td>\n",
       "      <td>649</td>\n",
       "    </tr>\n",
       "    <tr>\n",
       "      <th>4</th>\n",
       "      <td>ITA</td>\n",
       "      <td>518</td>\n",
       "      <td>474</td>\n",
       "      <td>454</td>\n",
       "    </tr>\n",
       "    <tr>\n",
       "      <th>...</th>\n",
       "      <td>...</td>\n",
       "      <td>...</td>\n",
       "      <td>...</td>\n",
       "      <td>...</td>\n",
       "    </tr>\n",
       "    <tr>\n",
       "      <th>225</th>\n",
       "      <td>AHO</td>\n",
       "      <td>0</td>\n",
       "      <td>1</td>\n",
       "      <td>0</td>\n",
       "    </tr>\n",
       "    <tr>\n",
       "      <th>226</th>\n",
       "      <td>LBR</td>\n",
       "      <td>0</td>\n",
       "      <td>0</td>\n",
       "      <td>0</td>\n",
       "    </tr>\n",
       "    <tr>\n",
       "      <th>227</th>\n",
       "      <td>LCA</td>\n",
       "      <td>0</td>\n",
       "      <td>0</td>\n",
       "      <td>0</td>\n",
       "    </tr>\n",
       "    <tr>\n",
       "      <th>228</th>\n",
       "      <td>LES</td>\n",
       "      <td>0</td>\n",
       "      <td>0</td>\n",
       "      <td>0</td>\n",
       "    </tr>\n",
       "    <tr>\n",
       "      <th>229</th>\n",
       "      <td>LBA</td>\n",
       "      <td>0</td>\n",
       "      <td>0</td>\n",
       "      <td>0</td>\n",
       "    </tr>\n",
       "  </tbody>\n",
       "</table>\n",
       "<p>230 rows × 4 columns</p>\n",
       "</div>"
      ],
      "text/plain": [
       "     NOC  Gold  Silver  Bronze\n",
       "0    USA  2472    1333    1197\n",
       "1    URS   832     635     596\n",
       "2    GBR   635     729     620\n",
       "3    GER   592     538     649\n",
       "4    ITA   518     474     454\n",
       "..   ...   ...     ...     ...\n",
       "225  AHO     0       1       0\n",
       "226  LBR     0       0       0\n",
       "227  LCA     0       0       0\n",
       "228  LES     0       0       0\n",
       "229  LBA     0       0       0\n",
       "\n",
       "[230 rows x 4 columns]"
      ]
     },
     "execution_count": 251,
     "metadata": {},
     "output_type": "execute_result"
    }
   ],
   "source": [
    "df.groupby('NOC').sum()[['Gold','Silver','Bronze']].sort_values('Gold',ascending=False).reset_index()\n",
    "# So here the values are too big and that is wrong the thing here is that if india wins in hockey then the data is shows that all the 11 players win the gold medal because this is based on the player not on the game so instead of 11 entry there should be only 1 entry so that is the reason behind it why the table is coming wrong.."
   ]
  },
  {
   "cell_type": "code",
   "execution_count": 252,
   "id": "e558a91e",
   "metadata": {},
   "outputs": [],
   "source": [
    "# So what we have to do is we have to work on removing the duplicate items based on some column which is not related to player we will keep the player thing as it is but based on the same country same event same year same season we will remove the duplicate items \n",
    "medal_tally = df.drop_duplicates(subset=['Team','NOC','Games','Year','City','Sport','Event','Medal'])"
   ]
  },
  {
   "cell_type": "code",
   "execution_count": 253,
   "id": "726d5a62",
   "metadata": {},
   "outputs": [],
   "source": [
    "medal_tally = medal_tally.groupby('NOC').sum()[['Gold','Silver','Bronze']].sort_values('Gold',ascending=False).reset_index()"
   ]
  },
  {
   "cell_type": "code",
   "execution_count": 254,
   "id": "c7e8f3ec",
   "metadata": {},
   "outputs": [],
   "source": [
    "medal_tally['total'] = medal_tally['Gold'] + medal_tally['Silver'] + medal_tally['Bronze']"
   ]
  },
  {
   "cell_type": "code",
   "execution_count": 255,
   "id": "c411d504",
   "metadata": {},
   "outputs": [
    {
     "data": {
      "text/html": [
       "<div>\n",
       "<style scoped>\n",
       "    .dataframe tbody tr th:only-of-type {\n",
       "        vertical-align: middle;\n",
       "    }\n",
       "\n",
       "    .dataframe tbody tr th {\n",
       "        vertical-align: top;\n",
       "    }\n",
       "\n",
       "    .dataframe thead th {\n",
       "        text-align: right;\n",
       "    }\n",
       "</style>\n",
       "<table border=\"1\" class=\"dataframe\">\n",
       "  <thead>\n",
       "    <tr style=\"text-align: right;\">\n",
       "      <th></th>\n",
       "      <th>NOC</th>\n",
       "      <th>Gold</th>\n",
       "      <th>Silver</th>\n",
       "      <th>Bronze</th>\n",
       "      <th>total</th>\n",
       "    </tr>\n",
       "  </thead>\n",
       "  <tbody>\n",
       "    <tr>\n",
       "      <th>0</th>\n",
       "      <td>USA</td>\n",
       "      <td>1035</td>\n",
       "      <td>802</td>\n",
       "      <td>708</td>\n",
       "      <td>2545</td>\n",
       "    </tr>\n",
       "    <tr>\n",
       "      <th>1</th>\n",
       "      <td>URS</td>\n",
       "      <td>394</td>\n",
       "      <td>317</td>\n",
       "      <td>294</td>\n",
       "      <td>1005</td>\n",
       "    </tr>\n",
       "    <tr>\n",
       "      <th>2</th>\n",
       "      <td>GBR</td>\n",
       "      <td>278</td>\n",
       "      <td>317</td>\n",
       "      <td>300</td>\n",
       "      <td>895</td>\n",
       "    </tr>\n",
       "    <tr>\n",
       "      <th>3</th>\n",
       "      <td>GER</td>\n",
       "      <td>235</td>\n",
       "      <td>261</td>\n",
       "      <td>283</td>\n",
       "      <td>779</td>\n",
       "    </tr>\n",
       "    <tr>\n",
       "      <th>4</th>\n",
       "      <td>FRA</td>\n",
       "      <td>234</td>\n",
       "      <td>256</td>\n",
       "      <td>287</td>\n",
       "      <td>777</td>\n",
       "    </tr>\n",
       "  </tbody>\n",
       "</table>\n",
       "</div>"
      ],
      "text/plain": [
       "   NOC  Gold  Silver  Bronze  total\n",
       "0  USA  1035     802     708   2545\n",
       "1  URS   394     317     294   1005\n",
       "2  GBR   278     317     300    895\n",
       "3  GER   235     261     283    779\n",
       "4  FRA   234     256     287    777"
      ]
     },
     "execution_count": 255,
     "metadata": {},
     "output_type": "execute_result"
    }
   ],
   "source": [
    "medal_tally.head()"
   ]
  },
  {
   "cell_type": "code",
   "execution_count": 256,
   "id": "82982af6",
   "metadata": {},
   "outputs": [
    {
     "data": {
      "text/html": [
       "<div>\n",
       "<style scoped>\n",
       "    .dataframe tbody tr th:only-of-type {\n",
       "        vertical-align: middle;\n",
       "    }\n",
       "\n",
       "    .dataframe tbody tr th {\n",
       "        vertical-align: top;\n",
       "    }\n",
       "\n",
       "    .dataframe thead th {\n",
       "        text-align: right;\n",
       "    }\n",
       "</style>\n",
       "<table border=\"1\" class=\"dataframe\">\n",
       "  <thead>\n",
       "    <tr style=\"text-align: right;\">\n",
       "      <th></th>\n",
       "      <th>ID</th>\n",
       "      <th>Name</th>\n",
       "      <th>Sex</th>\n",
       "      <th>Age</th>\n",
       "      <th>Height</th>\n",
       "      <th>Weight</th>\n",
       "      <th>Team</th>\n",
       "      <th>NOC</th>\n",
       "      <th>Games</th>\n",
       "      <th>Year</th>\n",
       "      <th>Season</th>\n",
       "      <th>City</th>\n",
       "      <th>Sport</th>\n",
       "      <th>Event</th>\n",
       "      <th>Medal</th>\n",
       "      <th>region</th>\n",
       "      <th>notes</th>\n",
       "      <th>Bronze</th>\n",
       "      <th>Gold</th>\n",
       "      <th>Silver</th>\n",
       "    </tr>\n",
       "  </thead>\n",
       "  <tbody>\n",
       "    <tr>\n",
       "      <th>0</th>\n",
       "      <td>1</td>\n",
       "      <td>A Dijiang</td>\n",
       "      <td>M</td>\n",
       "      <td>24.0</td>\n",
       "      <td>180.0</td>\n",
       "      <td>80.0</td>\n",
       "      <td>China</td>\n",
       "      <td>CHN</td>\n",
       "      <td>1992 Summer</td>\n",
       "      <td>1992</td>\n",
       "      <td>Summer</td>\n",
       "      <td>Barcelona</td>\n",
       "      <td>Basketball</td>\n",
       "      <td>Basketball Men's Basketball</td>\n",
       "      <td>NaN</td>\n",
       "      <td>China</td>\n",
       "      <td>NaN</td>\n",
       "      <td>0</td>\n",
       "      <td>0</td>\n",
       "      <td>0</td>\n",
       "    </tr>\n",
       "    <tr>\n",
       "      <th>1</th>\n",
       "      <td>2</td>\n",
       "      <td>A Lamusi</td>\n",
       "      <td>M</td>\n",
       "      <td>23.0</td>\n",
       "      <td>170.0</td>\n",
       "      <td>60.0</td>\n",
       "      <td>China</td>\n",
       "      <td>CHN</td>\n",
       "      <td>2012 Summer</td>\n",
       "      <td>2012</td>\n",
       "      <td>Summer</td>\n",
       "      <td>London</td>\n",
       "      <td>Judo</td>\n",
       "      <td>Judo Men's Extra-Lightweight</td>\n",
       "      <td>NaN</td>\n",
       "      <td>China</td>\n",
       "      <td>NaN</td>\n",
       "      <td>0</td>\n",
       "      <td>0</td>\n",
       "      <td>0</td>\n",
       "    </tr>\n",
       "    <tr>\n",
       "      <th>2</th>\n",
       "      <td>3</td>\n",
       "      <td>Gunnar Nielsen Aaby</td>\n",
       "      <td>M</td>\n",
       "      <td>24.0</td>\n",
       "      <td>NaN</td>\n",
       "      <td>NaN</td>\n",
       "      <td>Denmark</td>\n",
       "      <td>DEN</td>\n",
       "      <td>1920 Summer</td>\n",
       "      <td>1920</td>\n",
       "      <td>Summer</td>\n",
       "      <td>Antwerpen</td>\n",
       "      <td>Football</td>\n",
       "      <td>Football Men's Football</td>\n",
       "      <td>NaN</td>\n",
       "      <td>Denmark</td>\n",
       "      <td>NaN</td>\n",
       "      <td>0</td>\n",
       "      <td>0</td>\n",
       "      <td>0</td>\n",
       "    </tr>\n",
       "    <tr>\n",
       "      <th>3</th>\n",
       "      <td>4</td>\n",
       "      <td>Edgar Lindenau Aabye</td>\n",
       "      <td>M</td>\n",
       "      <td>34.0</td>\n",
       "      <td>NaN</td>\n",
       "      <td>NaN</td>\n",
       "      <td>Denmark/Sweden</td>\n",
       "      <td>DEN</td>\n",
       "      <td>1900 Summer</td>\n",
       "      <td>1900</td>\n",
       "      <td>Summer</td>\n",
       "      <td>Paris</td>\n",
       "      <td>Tug-Of-War</td>\n",
       "      <td>Tug-Of-War Men's Tug-Of-War</td>\n",
       "      <td>Gold</td>\n",
       "      <td>Denmark</td>\n",
       "      <td>NaN</td>\n",
       "      <td>0</td>\n",
       "      <td>1</td>\n",
       "      <td>0</td>\n",
       "    </tr>\n",
       "    <tr>\n",
       "      <th>4</th>\n",
       "      <td>8</td>\n",
       "      <td>Cornelia \"Cor\" Aalten (-Strannood)</td>\n",
       "      <td>F</td>\n",
       "      <td>18.0</td>\n",
       "      <td>168.0</td>\n",
       "      <td>NaN</td>\n",
       "      <td>Netherlands</td>\n",
       "      <td>NED</td>\n",
       "      <td>1932 Summer</td>\n",
       "      <td>1932</td>\n",
       "      <td>Summer</td>\n",
       "      <td>Los Angeles</td>\n",
       "      <td>Athletics</td>\n",
       "      <td>Athletics Women's 100 metres</td>\n",
       "      <td>NaN</td>\n",
       "      <td>Netherlands</td>\n",
       "      <td>NaN</td>\n",
       "      <td>0</td>\n",
       "      <td>0</td>\n",
       "      <td>0</td>\n",
       "    </tr>\n",
       "  </tbody>\n",
       "</table>\n",
       "</div>"
      ],
      "text/plain": [
       "   ID                                Name Sex   Age  Height  Weight  \\\n",
       "0   1                           A Dijiang   M  24.0   180.0    80.0   \n",
       "1   2                            A Lamusi   M  23.0   170.0    60.0   \n",
       "2   3                 Gunnar Nielsen Aaby   M  24.0     NaN     NaN   \n",
       "3   4                Edgar Lindenau Aabye   M  34.0     NaN     NaN   \n",
       "4   8  Cornelia \"Cor\" Aalten (-Strannood)   F  18.0   168.0     NaN   \n",
       "\n",
       "             Team  NOC        Games  Year  Season         City       Sport  \\\n",
       "0           China  CHN  1992 Summer  1992  Summer    Barcelona  Basketball   \n",
       "1           China  CHN  2012 Summer  2012  Summer       London        Judo   \n",
       "2         Denmark  DEN  1920 Summer  1920  Summer    Antwerpen    Football   \n",
       "3  Denmark/Sweden  DEN  1900 Summer  1900  Summer        Paris  Tug-Of-War   \n",
       "4     Netherlands  NED  1932 Summer  1932  Summer  Los Angeles   Athletics   \n",
       "\n",
       "                          Event Medal       region notes  Bronze  Gold  Silver  \n",
       "0   Basketball Men's Basketball   NaN        China   NaN       0     0       0  \n",
       "1  Judo Men's Extra-Lightweight   NaN        China   NaN       0     0       0  \n",
       "2       Football Men's Football   NaN      Denmark   NaN       0     0       0  \n",
       "3   Tug-Of-War Men's Tug-Of-War  Gold      Denmark   NaN       0     1       0  \n",
       "4  Athletics Women's 100 metres   NaN  Netherlands   NaN       0     0       0  "
      ]
     },
     "execution_count": 256,
     "metadata": {},
     "output_type": "execute_result"
    }
   ],
   "source": [
    "df.head()"
   ]
  },
  {
   "cell_type": "code",
   "execution_count": 257,
   "id": "373e225a",
   "metadata": {},
   "outputs": [],
   "source": [
    "a = sorted(df['Year'].unique().tolist())"
   ]
  },
  {
   "cell_type": "code",
   "execution_count": 258,
   "id": "37f3a789",
   "metadata": {},
   "outputs": [],
   "source": [
    "a.insert(0,'Overall')"
   ]
  },
  {
   "cell_type": "code",
   "execution_count": 259,
   "id": "69c214d0",
   "metadata": {},
   "outputs": [],
   "source": [
    "country = np.unique(df['region'].dropna().values).tolist()"
   ]
  },
  {
   "cell_type": "code",
   "execution_count": null,
   "id": "d6beacfb",
   "metadata": {},
   "outputs": [],
   "source": []
  },
  {
   "cell_type": "code",
   "execution_count": 260,
   "id": "d7d90a85",
   "metadata": {},
   "outputs": [],
   "source": [
    "a = df['region'].dropna().unique().tolist()\n",
    "a.sort()"
   ]
  },
  {
   "cell_type": "code",
   "execution_count": 261,
   "id": "a0ed8ce4",
   "metadata": {},
   "outputs": [],
   "source": [
    "a.insert(0,'Overall')"
   ]
  },
  {
   "cell_type": "code",
   "execution_count": 262,
   "id": "d65d9df3",
   "metadata": {},
   "outputs": [
    {
     "data": {
      "text/html": [
       "<div>\n",
       "<style scoped>\n",
       "    .dataframe tbody tr th:only-of-type {\n",
       "        vertical-align: middle;\n",
       "    }\n",
       "\n",
       "    .dataframe tbody tr th {\n",
       "        vertical-align: top;\n",
       "    }\n",
       "\n",
       "    .dataframe thead th {\n",
       "        text-align: right;\n",
       "    }\n",
       "</style>\n",
       "<table border=\"1\" class=\"dataframe\">\n",
       "  <thead>\n",
       "    <tr style=\"text-align: right;\">\n",
       "      <th></th>\n",
       "      <th>NOC</th>\n",
       "      <th>Gold</th>\n",
       "      <th>Silver</th>\n",
       "      <th>Bronze</th>\n",
       "      <th>total</th>\n",
       "    </tr>\n",
       "  </thead>\n",
       "  <tbody>\n",
       "    <tr>\n",
       "      <th>0</th>\n",
       "      <td>USA</td>\n",
       "      <td>1035</td>\n",
       "      <td>802</td>\n",
       "      <td>708</td>\n",
       "      <td>2545</td>\n",
       "    </tr>\n",
       "    <tr>\n",
       "      <th>1</th>\n",
       "      <td>URS</td>\n",
       "      <td>394</td>\n",
       "      <td>317</td>\n",
       "      <td>294</td>\n",
       "      <td>1005</td>\n",
       "    </tr>\n",
       "    <tr>\n",
       "      <th>2</th>\n",
       "      <td>GBR</td>\n",
       "      <td>278</td>\n",
       "      <td>317</td>\n",
       "      <td>300</td>\n",
       "      <td>895</td>\n",
       "    </tr>\n",
       "    <tr>\n",
       "      <th>3</th>\n",
       "      <td>GER</td>\n",
       "      <td>235</td>\n",
       "      <td>261</td>\n",
       "      <td>283</td>\n",
       "      <td>779</td>\n",
       "    </tr>\n",
       "    <tr>\n",
       "      <th>4</th>\n",
       "      <td>FRA</td>\n",
       "      <td>234</td>\n",
       "      <td>256</td>\n",
       "      <td>287</td>\n",
       "      <td>777</td>\n",
       "    </tr>\n",
       "    <tr>\n",
       "      <th>...</th>\n",
       "      <td>...</td>\n",
       "      <td>...</td>\n",
       "      <td>...</td>\n",
       "      <td>...</td>\n",
       "      <td>...</td>\n",
       "    </tr>\n",
       "    <tr>\n",
       "      <th>225</th>\n",
       "      <td>AHO</td>\n",
       "      <td>0</td>\n",
       "      <td>1</td>\n",
       "      <td>0</td>\n",
       "      <td>1</td>\n",
       "    </tr>\n",
       "    <tr>\n",
       "      <th>226</th>\n",
       "      <td>LBR</td>\n",
       "      <td>0</td>\n",
       "      <td>0</td>\n",
       "      <td>0</td>\n",
       "      <td>0</td>\n",
       "    </tr>\n",
       "    <tr>\n",
       "      <th>227</th>\n",
       "      <td>LCA</td>\n",
       "      <td>0</td>\n",
       "      <td>0</td>\n",
       "      <td>0</td>\n",
       "      <td>0</td>\n",
       "    </tr>\n",
       "    <tr>\n",
       "      <th>228</th>\n",
       "      <td>LES</td>\n",
       "      <td>0</td>\n",
       "      <td>0</td>\n",
       "      <td>0</td>\n",
       "      <td>0</td>\n",
       "    </tr>\n",
       "    <tr>\n",
       "      <th>229</th>\n",
       "      <td>LBA</td>\n",
       "      <td>0</td>\n",
       "      <td>0</td>\n",
       "      <td>0</td>\n",
       "      <td>0</td>\n",
       "    </tr>\n",
       "  </tbody>\n",
       "</table>\n",
       "<p>230 rows × 5 columns</p>\n",
       "</div>"
      ],
      "text/plain": [
       "     NOC  Gold  Silver  Bronze  total\n",
       "0    USA  1035     802     708   2545\n",
       "1    URS   394     317     294   1005\n",
       "2    GBR   278     317     300    895\n",
       "3    GER   235     261     283    779\n",
       "4    FRA   234     256     287    777\n",
       "..   ...   ...     ...     ...    ...\n",
       "225  AHO     0       1       0      1\n",
       "226  LBR     0       0       0      0\n",
       "227  LCA     0       0       0      0\n",
       "228  LES     0       0       0      0\n",
       "229  LBA     0       0       0      0\n",
       "\n",
       "[230 rows x 5 columns]"
      ]
     },
     "execution_count": 262,
     "metadata": {},
     "output_type": "execute_result"
    }
   ],
   "source": [
    "medal_tally"
   ]
  },
  {
   "cell_type": "code",
   "execution_count": 263,
   "id": "a0e12198",
   "metadata": {},
   "outputs": [],
   "source": [
    "def fetch_metal_tally(df,year,country):\n",
    "    flag = 0 \n",
    "    medal_df = df.drop_duplicates(subset=['Team','NOC','Games','Year','City','Sport','Event','Medal'])\n",
    "    if year == 'Overall' and country == 'Overall':\n",
    "        temp_df = medal_df \n",
    "    if year == 'Overall' and country != 'Overall':\n",
    "        flag = 1 \n",
    "        temp_df = medal_df[medal_df['region'] == country]\n",
    "    if year != 'Overall' and country == 'Overall':\n",
    "        temp_df = medal_df[medal_df['Year'] == int(year)] \n",
    "    if year != 'Overall' and country != 'Overall':\n",
    "        temp_df = medal_df[(medal_df['Year'] == int(year)) & (medal_df['region'] == country)] \n",
    "    \n",
    "    if flag == 1:\n",
    "        x = temp_df.groupby('Year').sum()[['Gold','Silver','Bronze']].sort_values('Year').reset_index()\n",
    "    else:\n",
    "        x = temp_df.groupby('region').sum()[['Gold','Silver','Bronze']].sort_values('Gold',ascending=False).reset_index()\n",
    "    x['total'] = x['Gold'] + x['Silver'] + x['Bronze']\n",
    "\n",
    "    print(x)"
   ]
  },
  {
   "cell_type": "markdown",
   "id": "26b6b301",
   "metadata": {},
   "source": [
    "**OVERALL STATS**\n",
    "* No of Editions\n",
    "* No of Cities\n",
    "* No of Event/Sports\n",
    "* No of athletes\n",
    "* participating Nations"
   ]
  },
  {
   "cell_type": "code",
   "execution_count": 264,
   "id": "317afd29",
   "metadata": {},
   "outputs": [
    {
     "data": {
      "text/plain": [
       "28"
      ]
     },
     "execution_count": 264,
     "metadata": {},
     "output_type": "execute_result"
    }
   ],
   "source": [
    "# No of Editions\n",
    "df['Year'].unique().shape[0] - 1 "
   ]
  },
  {
   "cell_type": "code",
   "execution_count": 265,
   "id": "7d523900",
   "metadata": {},
   "outputs": [
    {
     "data": {
      "text/plain": [
       "23"
      ]
     },
     "execution_count": 265,
     "metadata": {},
     "output_type": "execute_result"
    }
   ],
   "source": [
    "# No of Cities Olympic Played\n",
    "df['City'].unique().shape[0]"
   ]
  },
  {
   "cell_type": "code",
   "execution_count": 266,
   "id": "44a2b97b",
   "metadata": {},
   "outputs": [
    {
     "data": {
      "text/plain": [
       "651"
      ]
     },
     "execution_count": 266,
     "metadata": {},
     "output_type": "execute_result"
    }
   ],
   "source": [
    "# No of events/sports\n",
    "df['Event'].unique().shape[0]"
   ]
  },
  {
   "cell_type": "code",
   "execution_count": 267,
   "id": "0c642fbe",
   "metadata": {},
   "outputs": [
    {
     "data": {
      "text/plain": [
       "52"
      ]
     },
     "execution_count": 267,
     "metadata": {},
     "output_type": "execute_result"
    }
   ],
   "source": [
    "# No of Sports\n",
    "df['Sport'].unique().shape[0]"
   ]
  },
  {
   "cell_type": "code",
   "execution_count": 268,
   "id": "032bf89a",
   "metadata": {},
   "outputs": [
    {
     "data": {
      "text/plain": [
       "116122"
      ]
     },
     "execution_count": 268,
     "metadata": {},
     "output_type": "execute_result"
    }
   ],
   "source": [
    "# No of Athelets\n",
    "df['Name'].unique().shape[0]"
   ]
  },
  {
   "cell_type": "code",
   "execution_count": 269,
   "id": "555e28e5",
   "metadata": {},
   "outputs": [
    {
     "data": {
      "text/plain": [
       "206"
      ]
     },
     "execution_count": 269,
     "metadata": {},
     "output_type": "execute_result"
    }
   ],
   "source": [
    "# Participating Nations\n",
    "df['region'].unique().shape[0]"
   ]
  },
  {
   "cell_type": "code",
   "execution_count": 270,
   "id": "ffbd665c",
   "metadata": {},
   "outputs": [],
   "source": [
    "# So now we want to find how many country did participate in each year which can be write with below thing\n",
    "# First we will remove duplicate it means that per country per year it will be one entry and then if we go with region then it will give us all the total contribution of each country throughout the total period of time and if we are doing years then we know per country there is only one entry so 2012 -> 12 it means total 12 country participate in 2012 \n",
    "nations_over_time = df.drop_duplicates(['Year','region'])['Year'].value_counts().reset_index().sort_values(['Year'],ascending=True)"
   ]
  },
  {
   "cell_type": "code",
   "execution_count": 271,
   "id": "30f36a7c",
   "metadata": {},
   "outputs": [
    {
     "data": {
      "image/png": "[encoded data removed]",
      "text/plain": [
       "<Figure size 640x480 with 1 Axes>"
      ]
     },
     "metadata": {},
     "output_type": "display_data"
    }
   ],
   "source": [
    "years = [1896, 1900, 1904, 1906, 1908, 1912, 1920, 1924]\n",
    "counts = [12, 31, 14, 20, 22, 29, 29, 45]\n",
    "\n",
    "plt.plot(nations_over_time['Year'].to_list(), nations_over_time['count'].to_list(), marker='o', linestyle='-', color='b')\n",
    "\n",
    "# Add labels and title\n",
    "plt.xlabel(\"Year\")\n",
    "plt.ylabel(\"Number of Countries\")\n",
    "plt.title(\"Olympic Participation Over Years\")\n",
    "plt.grid(True)   # adds grid lines\n",
    "plt.show()"
   ]
  },
  {
   "cell_type": "code",
   "execution_count": 272,
   "id": "39e30ab2",
   "metadata": {},
   "outputs": [
    {
     "data": {
      "application/vnd.plotly.v1+json": {
       "config": {
        "plotlyServerURL": "https://plot.ly"
       },
       "data": [
        {
         "hovertemplate": "Year=%{x}<br>count=%{y}<extra></extra>",
         "legendgroup": "",
         "line": {
          "color": "#636efa",
          "dash": "solid"
         },
         "marker": {
          "symbol": "circle"
         },
         "mode": "lines",
         "name": "",
         "orientation": "v",
         "showlegend": false,
         "type": "scatter",
         "x": {
          "bdata": "aAdsB3AHcgd0B3gHgAeEB4gHjAeQB5wHoAekB6gHrAewB7QHuAe8B8AHxAfIB8wH0AfUB9gH3AfgBw==",
          "dtype": "i2"
         },
         "xaxis": "x",
         "y": {
          "bdata": "DAAfAA4AFAAWAB0AHQAtAC4ALwAxADsAQwBHAFMAXQBvAHgAWwBQAIsAnACoAMQAxwDIAMoAywDMAA==",
          "dtype": "i2"
         },
         "yaxis": "y"
        }
       ],
       "layout": {
        "legend": {
         "tracegroupgap": 0
        },
        "margin": {
         "t": 60
        },
        "template": {
         "data": {
          "bar": [
           {
            "error_x": {
             "color": "#2a3f5f"
            },
            "error_y": {
             "color": "#2a3f5f"
            },
            "marker": {
             "line": {
              "color": "#E5ECF6",
              "width": 0.5
             },
             "pattern": {
              "fillmode": "overlay",
              "size": 10,
              "solidity": 0.2
             }
            },
            "type": "bar"
           }
          ],
          "barpolar": [
           {
            "marker": {
             "line": {
              "color": "#E5ECF6",
              "width": 0.5
             },
             "pattern": {
              "fillmode": "overlay",
              "size": 10,
              "solidity": 0.2
             }
            },
            "type": "barpolar"
           }
          ],
          "carpet": [
           {
            "aaxis": {
             "endlinecolor": "#2a3f5f",
             "gridcolor": "white",
             "linecolor": "white",
             "minorgridcolor": "white",
             "startlinecolor": "#2a3f5f"
            },
            "baxis": {
             "endlinecolor": "#2a3f5f",
             "gridcolor": "white",
             "linecolor": "white",
             "minorgridcolor": "white",
             "startlinecolor": "#2a3f5f"
            },
            "type": "carpet"
           }
          ],
          "choropleth": [
           {
            "colorbar": {
             "outlinewidth": 0,
             "ticks": ""
            },
            "type": "choropleth"
           }
          ],
          "contour": [
           {
            "colorbar": {
             "outlinewidth": 0,
             "ticks": ""
            },
            "colorscale": [
             [
              0,
              "#0d0887"
             ],
             [
              0.1111111111111111,
              "#46039f"
             ],
             [
              0.2222222222222222,
              "#7201a8"
             ],
             [
              0.3333333333333333,
              "#9c179e"
             ],
             [
              0.4444444444444444,
              "#bd3786"
             ],
             [
              0.5555555555555556,
              "#d8576b"
             ],
             [
              0.6666666666666666,
              "#ed7953"
             ],
             [
              0.7777777777777778,
              "#fb9f3a"
             ],
             [
              0.8888888888888888,
              "#fdca26"
             ],
             [
              1,
              "#f0f921"
             ]
            ],
            "type": "contour"
           }
          ],
          "contourcarpet": [
           {
            "colorbar": {
             "outlinewidth": 0,
             "ticks": ""
            },
            "type": "contourcarpet"
           }
          ],
          "heatmap": [
           {
            "colorbar": {
             "outlinewidth": 0,
             "ticks": ""
            },
            "colorscale": [
             [
              0,
              "#0d0887"
             ],
             [
              0.1111111111111111,
              "#46039f"
             ],
             [
              0.2222222222222222,
              "#7201a8"
             ],
             [
              0.3333333333333333,
              "#9c179e"
             ],
             [
              0.4444444444444444,
              "#bd3786"
             ],
             [
              0.5555555555555556,
              "#d8576b"
             ],
             [
              0.6666666666666666,
              "#ed7953"
             ],
             [
              0.7777777777777778,
              "#fb9f3a"
             ],
             [
              0.8888888888888888,
              "#fdca26"
             ],
             [
              1,
              "#f0f921"
             ]
            ],
            "type": "heatmap"
           }
          ],
          "histogram": [
           {
            "marker": {
             "pattern": {
              "fillmode": "overlay",
              "size": 10,
              "solidity": 0.2
             }
            },
            "type": "histogram"
           }
          ],
          "histogram2d": [
           {
            "colorbar": {
             "outlinewidth": 0,
             "ticks": ""
            },
            "colorscale": [
             [
              0,
              "#0d0887"
             ],
             [
              0.1111111111111111,
              "#46039f"
             ],
             [
              0.2222222222222222,
              "#7201a8"
             ],
             [
              0.3333333333333333,
              "#9c179e"
             ],
             [
              0.4444444444444444,
              "#bd3786"
             ],
             [
              0.5555555555555556,
              "#d8576b"
             ],
             [
              0.6666666666666666,
              "#ed7953"
             ],
             [
              0.7777777777777778,
              "#fb9f3a"
             ],
             [
              0.8888888888888888,
              "#fdca26"
             ],
             [
              1,
              "#f0f921"
             ]
            ],
            "type": "histogram2d"
           }
          ],
          "histogram2dcontour": [
           {
            "colorbar": {
             "outlinewidth": 0,
             "ticks": ""
            },
            "colorscale": [
             [
              0,
              "#0d0887"
             ],
             [
              0.1111111111111111,
              "#46039f"
             ],
             [
              0.2222222222222222,
              "#7201a8"
             ],
             [
              0.3333333333333333,
              "#9c179e"
             ],
             [
              0.4444444444444444,
              "#bd3786"
             ],
             [
              0.5555555555555556,
              "#d8576b"
             ],
             [
              0.6666666666666666,
              "#ed7953"
             ],
             [
              0.7777777777777778,
              "#fb9f3a"
             ],
             [
              0.8888888888888888,
              "#fdca26"
             ],
             [
              1,
              "#f0f921"
             ]
            ],
            "type": "histogram2dcontour"
           }
          ],
          "mesh3d": [
           {
            "colorbar": {
             "outlinewidth": 0,
             "ticks": ""
            },
            "type": "mesh3d"
           }
          ],
          "parcoords": [
           {
            "line": {
             "colorbar": {
              "outlinewidth": 0,
              "ticks": ""
             }
            },
            "type": "parcoords"
           }
          ],
          "pie": [
           {
            "automargin": true,
            "type": "pie"
           }
          ],
          "scatter": [
           {
            "fillpattern": {
             "fillmode": "overlay",
             "size": 10,
             "solidity": 0.2
            },
            "type": "scatter"
           }
          ],
          "scatter3d": [
           {
            "line": {
             "colorbar": {
              "outlinewidth": 0,
              "ticks": ""
             }
            },
            "marker": {
             "colorbar": {
              "outlinewidth": 0,
              "ticks": ""
             }
            },
            "type": "scatter3d"
           }
          ],
          "scattercarpet": [
           {
            "marker": {
             "colorbar": {
              "outlinewidth": 0,
              "ticks": ""
             }
            },
            "type": "scattercarpet"
           }
          ],
          "scattergeo": [
           {
            "marker": {
             "colorbar": {
              "outlinewidth": 0,
              "ticks": ""
             }
            },
            "type": "scattergeo"
           }
          ],
          "scattergl": [
           {
            "marker": {
             "colorbar": {
              "outlinewidth": 0,
              "ticks": ""
             }
            },
            "type": "scattergl"
           }
          ],
          "scattermap": [
           {
            "marker": {
             "colorbar": {
              "outlinewidth": 0,
              "ticks": ""
             }
            },
            "type": "scattermap"
           }
          ],
          "scattermapbox": [
           {
            "marker": {
             "colorbar": {
              "outlinewidth": 0,
              "ticks": ""
             }
            },
            "type": "scattermapbox"
           }
          ],
          "scatterpolar": [
           {
            "marker": {
             "colorbar": {
              "outlinewidth": 0,
              "ticks": ""
             }
            },
            "type": "scatterpolar"
           }
          ],
          "scatterpolargl": [
           {
            "marker": {
             "colorbar": {
              "outlinewidth": 0,
              "ticks": ""
             }
            },
            "type": "scatterpolargl"
           }
          ],
          "scatterternary": [
           {
            "marker": {
             "colorbar": {
              "outlinewidth": 0,
              "ticks": ""
             }
            },
            "type": "scatterternary"
           }
          ],
          "surface": [
           {
            "colorbar": {
             "outlinewidth": 0,
             "ticks": ""
            },
            "colorscale": [
             [
              0,
              "#0d0887"
             ],
             [
              0.1111111111111111,
              "#46039f"
             ],
             [
              0.2222222222222222,
              "#7201a8"
             ],
             [
              0.3333333333333333,
              "#9c179e"
             ],
             [
              0.4444444444444444,
              "#bd3786"
             ],
             [
              0.5555555555555556,
              "#d8576b"
             ],
             [
              0.6666666666666666,
              "#ed7953"
             ],
             [
              0.7777777777777778,
              "#fb9f3a"
             ],
             [
              0.8888888888888888,
              "#fdca26"
             ],
             [
              1,
              "#f0f921"
             ]
            ],
            "type": "surface"
           }
          ],
          "table": [
           {
            "cells": {
             "fill": {
              "color": "#EBF0F8"
             },
             "line": {
              "color": "white"
             }
            },
            "header": {
             "fill": {
              "color": "#C8D4E3"
             },
             "line": {
              "color": "white"
             }
            },
            "type": "table"
           }
          ]
         },
         "layout": {
          "annotationdefaults": {
           "arrowcolor": "#2a3f5f",
           "arrowhead": 0,
           "arrowwidth": 1
          },
          "autotypenumbers": "strict",
          "coloraxis": {
           "colorbar": {
            "outlinewidth": 0,
            "ticks": ""
           }
          },
          "colorscale": {
           "diverging": [
            [
             0,
             "#8e0152"
            ],
            [
             0.1,
             "#c51b7d"
            ],
            [
             0.2,
             "#de77ae"
            ],
            [
             0.3,
             "#f1b6da"
            ],
            [
             0.4,
             "#fde0ef"
            ],
            [
             0.5,
             "#f7f7f7"
            ],
            [
             0.6,
             "#e6f5d0"
            ],
            [
             0.7,
             "#b8e186"
            ],
            [
             0.8,
             "#7fbc41"
            ],
            [
             0.9,
             "#4d9221"
            ],
            [
             1,
             "#276419"
            ]
           ],
           "sequential": [
            [
             0,
             "#0d0887"
            ],
            [
             0.1111111111111111,
             "#46039f"
            ],
            [
             0.2222222222222222,
             "#7201a8"
            ],
            [
             0.3333333333333333,
             "#9c179e"
            ],
            [
             0.4444444444444444,
             "#bd3786"
            ],
            [
             0.5555555555555556,
             "#d8576b"
            ],
            [
             0.6666666666666666,
             "#ed7953"
            ],
            [
             0.7777777777777778,
             "#fb9f3a"
            ],
            [
             0.8888888888888888,
             "#fdca26"
            ],
            [
             1,
             "#f0f921"
            ]
           ],
           "sequentialminus": [
            [
             0,
             "#0d0887"
            ],
            [
             0.1111111111111111,
             "#46039f"
            ],
            [
             0.2222222222222222,
             "#7201a8"
            ],
            [
             0.3333333333333333,
             "#9c179e"
            ],
            [
             0.4444444444444444,
             "#bd3786"
            ],
            [
             0.5555555555555556,
             "#d8576b"
            ],
            [
             0.6666666666666666,
             "#ed7953"
            ],
            [
             0.7777777777777778,
             "#fb9f3a"
            ],
            [
             0.8888888888888888,
             "#fdca26"
            ],
            [
             1,
             "#f0f921"
            ]
           ]
          },
          "colorway": [
           "#636efa",
           "#EF553B",
           "#00cc96",
           "#ab63fa",
           "#FFA15A",
           "#19d3f3",
           "#FF6692",
           "#B6E880",
           "#FF97FF",
           "#FECB52"
          ],
          "font": {
           "color": "#2a3f5f"
          },
          "geo": {
           "bgcolor": "white",
           "lakecolor": "white",
           "landcolor": "#E5ECF6",
           "showlakes": true,
           "showland": true,
           "subunitcolor": "white"
          },
          "hoverlabel": {
           "align": "left"
          },
          "hovermode": "closest",
          "mapbox": {
           "style": "light"
          },
          "paper_bgcolor": "white",
          "plot_bgcolor": "#E5ECF6",
          "polar": {
           "angularaxis": {
            "gridcolor": "white",
            "linecolor": "white",
            "ticks": ""
           },
           "bgcolor": "#E5ECF6",
           "radialaxis": {
            "gridcolor": "white",
            "linecolor": "white",
            "ticks": ""
           }
          },
          "scene": {
           "xaxis": {
            "backgroundcolor": "#E5ECF6",
            "gridcolor": "white",
            "gridwidth": 2,
            "linecolor": "white",
            "showbackground": true,
            "ticks": "",
            "zerolinecolor": "white"
           },
           "yaxis": {
            "backgroundcolor": "#E5ECF6",
            "gridcolor": "white",
            "gridwidth": 2,
            "linecolor": "white",
            "showbackground": true,
            "ticks": "",
            "zerolinecolor": "white"
           },
           "zaxis": {
            "backgroundcolor": "#E5ECF6",
            "gridcolor": "white",
            "gridwidth": 2,
            "linecolor": "white",
            "showbackground": true,
            "ticks": "",
            "zerolinecolor": "white"
           }
          },
          "shapedefaults": {
           "line": {
            "color": "#2a3f5f"
           }
          },
          "ternary": {
           "aaxis": {
            "gridcolor": "white",
            "linecolor": "white",
            "ticks": ""
           },
           "baxis": {
            "gridcolor": "white",
            "linecolor": "white",
            "ticks": ""
           },
           "bgcolor": "#E5ECF6",
           "caxis": {
            "gridcolor": "white",
            "linecolor": "white",
            "ticks": ""
           }
          },
          "title": {
           "x": 0.05
          },
          "xaxis": {
           "automargin": true,
           "gridcolor": "white",
           "linecolor": "white",
           "ticks": "",
           "title": {
            "standoff": 15
           },
           "zerolinecolor": "white",
           "zerolinewidth": 2
          },
          "yaxis": {
           "automargin": true,
           "gridcolor": "white",
           "linecolor": "white",
           "ticks": "",
           "title": {
            "standoff": 15
           },
           "zerolinecolor": "white",
           "zerolinewidth": 2
          }
         }
        },
        "xaxis": {
         "anchor": "y",
         "domain": [
          0,
          1
         ],
         "title": {
          "text": "Year"
         }
        },
        "yaxis": {
         "anchor": "x",
         "domain": [
          0,
          1
         ],
         "title": {
          "text": "count"
         }
        }
       }
      }
     },
     "metadata": {},
     "output_type": "display_data"
    }
   ],
   "source": [
    "import plotly.express as px \n",
    "fig = px.line(nations_over_time , x='Year',y='count')\n",
    "fig.show()"
   ]
  },
  {
   "cell_type": "code",
   "execution_count": 273,
   "id": "f6c6a2a8",
   "metadata": {},
   "outputs": [
    {
     "data": {
      "text/html": [
       "<div>\n",
       "<style scoped>\n",
       "    .dataframe tbody tr th:only-of-type {\n",
       "        vertical-align: middle;\n",
       "    }\n",
       "\n",
       "    .dataframe tbody tr th {\n",
       "        vertical-align: top;\n",
       "    }\n",
       "\n",
       "    .dataframe thead th {\n",
       "        text-align: right;\n",
       "    }\n",
       "</style>\n",
       "<table border=\"1\" class=\"dataframe\">\n",
       "  <thead>\n",
       "    <tr style=\"text-align: right;\">\n",
       "      <th></th>\n",
       "      <th>Year</th>\n",
       "      <th>count</th>\n",
       "    </tr>\n",
       "  </thead>\n",
       "  <tbody>\n",
       "    <tr>\n",
       "      <th>28</th>\n",
       "      <td>1896</td>\n",
       "      <td>43</td>\n",
       "    </tr>\n",
       "    <tr>\n",
       "      <th>26</th>\n",
       "      <td>1900</td>\n",
       "      <td>90</td>\n",
       "    </tr>\n",
       "    <tr>\n",
       "      <th>25</th>\n",
       "      <td>1904</td>\n",
       "      <td>95</td>\n",
       "    </tr>\n",
       "    <tr>\n",
       "      <th>27</th>\n",
       "      <td>1906</td>\n",
       "      <td>74</td>\n",
       "    </tr>\n",
       "    <tr>\n",
       "      <th>23</th>\n",
       "      <td>1908</td>\n",
       "      <td>109</td>\n",
       "    </tr>\n",
       "    <tr>\n",
       "      <th>24</th>\n",
       "      <td>1912</td>\n",
       "      <td>107</td>\n",
       "    </tr>\n",
       "    <tr>\n",
       "      <th>14</th>\n",
       "      <td>1920</td>\n",
       "      <td>158</td>\n",
       "    </tr>\n",
       "    <tr>\n",
       "      <th>20</th>\n",
       "      <td>1924</td>\n",
       "      <td>131</td>\n",
       "    </tr>\n",
       "    <tr>\n",
       "      <th>22</th>\n",
       "      <td>1928</td>\n",
       "      <td>122</td>\n",
       "    </tr>\n",
       "    <tr>\n",
       "      <th>21</th>\n",
       "      <td>1932</td>\n",
       "      <td>131</td>\n",
       "    </tr>\n",
       "    <tr>\n",
       "      <th>18</th>\n",
       "      <td>1936</td>\n",
       "      <td>150</td>\n",
       "    </tr>\n",
       "    <tr>\n",
       "      <th>15</th>\n",
       "      <td>1948</td>\n",
       "      <td>153</td>\n",
       "    </tr>\n",
       "    <tr>\n",
       "      <th>19</th>\n",
       "      <td>1952</td>\n",
       "      <td>149</td>\n",
       "    </tr>\n",
       "    <tr>\n",
       "      <th>16</th>\n",
       "      <td>1956</td>\n",
       "      <td>151</td>\n",
       "    </tr>\n",
       "    <tr>\n",
       "      <th>17</th>\n",
       "      <td>1960</td>\n",
       "      <td>150</td>\n",
       "    </tr>\n",
       "    <tr>\n",
       "      <th>13</th>\n",
       "      <td>1964</td>\n",
       "      <td>163</td>\n",
       "    </tr>\n",
       "    <tr>\n",
       "      <th>12</th>\n",
       "      <td>1968</td>\n",
       "      <td>172</td>\n",
       "    </tr>\n",
       "    <tr>\n",
       "      <th>11</th>\n",
       "      <td>1972</td>\n",
       "      <td>193</td>\n",
       "    </tr>\n",
       "    <tr>\n",
       "      <th>10</th>\n",
       "      <td>1976</td>\n",
       "      <td>198</td>\n",
       "    </tr>\n",
       "    <tr>\n",
       "      <th>9</th>\n",
       "      <td>1980</td>\n",
       "      <td>203</td>\n",
       "    </tr>\n",
       "    <tr>\n",
       "      <th>8</th>\n",
       "      <td>1984</td>\n",
       "      <td>221</td>\n",
       "    </tr>\n",
       "    <tr>\n",
       "      <th>7</th>\n",
       "      <td>1988</td>\n",
       "      <td>237</td>\n",
       "    </tr>\n",
       "    <tr>\n",
       "      <th>6</th>\n",
       "      <td>1992</td>\n",
       "      <td>257</td>\n",
       "    </tr>\n",
       "    <tr>\n",
       "      <th>5</th>\n",
       "      <td>1996</td>\n",
       "      <td>271</td>\n",
       "    </tr>\n",
       "    <tr>\n",
       "      <th>4</th>\n",
       "      <td>2000</td>\n",
       "      <td>300</td>\n",
       "    </tr>\n",
       "    <tr>\n",
       "      <th>3</th>\n",
       "      <td>2004</td>\n",
       "      <td>301</td>\n",
       "    </tr>\n",
       "    <tr>\n",
       "      <th>1</th>\n",
       "      <td>2008</td>\n",
       "      <td>302</td>\n",
       "    </tr>\n",
       "    <tr>\n",
       "      <th>2</th>\n",
       "      <td>2012</td>\n",
       "      <td>302</td>\n",
       "    </tr>\n",
       "    <tr>\n",
       "      <th>0</th>\n",
       "      <td>2016</td>\n",
       "      <td>306</td>\n",
       "    </tr>\n",
       "  </tbody>\n",
       "</table>\n",
       "</div>"
      ],
      "text/plain": [
       "    Year  count\n",
       "28  1896     43\n",
       "26  1900     90\n",
       "25  1904     95\n",
       "27  1906     74\n",
       "23  1908    109\n",
       "24  1912    107\n",
       "14  1920    158\n",
       "20  1924    131\n",
       "22  1928    122\n",
       "21  1932    131\n",
       "18  1936    150\n",
       "15  1948    153\n",
       "19  1952    149\n",
       "16  1956    151\n",
       "17  1960    150\n",
       "13  1964    163\n",
       "12  1968    172\n",
       "11  1972    193\n",
       "10  1976    198\n",
       "9   1980    203\n",
       "8   1984    221\n",
       "7   1988    237\n",
       "6   1992    257\n",
       "5   1996    271\n",
       "4   2000    300\n",
       "3   2004    301\n",
       "1   2008    302\n",
       "2   2012    302\n",
       "0   2016    306"
      ]
     },
     "execution_count": 273,
     "metadata": {},
     "output_type": "execute_result"
    }
   ],
   "source": [
    "df.drop_duplicates(['Year','Event'])['Year'].value_counts().reset_index().sort_values(['Year'],ascending=True)"
   ]
  },
  {
   "cell_type": "code",
   "execution_count": 274,
   "id": "52c61d25",
   "metadata": {},
   "outputs": [
    {
     "data": {
      "text/html": [
       "<div>\n",
       "<style scoped>\n",
       "    .dataframe tbody tr th:only-of-type {\n",
       "        vertical-align: middle;\n",
       "    }\n",
       "\n",
       "    .dataframe tbody tr th {\n",
       "        vertical-align: top;\n",
       "    }\n",
       "\n",
       "    .dataframe thead th {\n",
       "        text-align: right;\n",
       "    }\n",
       "</style>\n",
       "<table border=\"1\" class=\"dataframe\">\n",
       "  <thead>\n",
       "    <tr style=\"text-align: right;\">\n",
       "      <th></th>\n",
       "      <th>ID</th>\n",
       "      <th>Name</th>\n",
       "      <th>Sex</th>\n",
       "      <th>Age</th>\n",
       "      <th>Height</th>\n",
       "      <th>Weight</th>\n",
       "      <th>Team</th>\n",
       "      <th>NOC</th>\n",
       "      <th>Games</th>\n",
       "      <th>Year</th>\n",
       "      <th>Season</th>\n",
       "      <th>City</th>\n",
       "      <th>Sport</th>\n",
       "      <th>Event</th>\n",
       "      <th>Medal</th>\n",
       "      <th>region</th>\n",
       "      <th>notes</th>\n",
       "      <th>Bronze</th>\n",
       "      <th>Gold</th>\n",
       "      <th>Silver</th>\n",
       "    </tr>\n",
       "  </thead>\n",
       "  <tbody>\n",
       "    <tr>\n",
       "      <th>0</th>\n",
       "      <td>1</td>\n",
       "      <td>A Dijiang</td>\n",
       "      <td>M</td>\n",
       "      <td>24.0</td>\n",
       "      <td>180.0</td>\n",
       "      <td>80.0</td>\n",
       "      <td>China</td>\n",
       "      <td>CHN</td>\n",
       "      <td>1992 Summer</td>\n",
       "      <td>1992</td>\n",
       "      <td>Summer</td>\n",
       "      <td>Barcelona</td>\n",
       "      <td>Basketball</td>\n",
       "      <td>Basketball Men's Basketball</td>\n",
       "      <td>NaN</td>\n",
       "      <td>China</td>\n",
       "      <td>NaN</td>\n",
       "      <td>0</td>\n",
       "      <td>0</td>\n",
       "      <td>0</td>\n",
       "    </tr>\n",
       "    <tr>\n",
       "      <th>1</th>\n",
       "      <td>2</td>\n",
       "      <td>A Lamusi</td>\n",
       "      <td>M</td>\n",
       "      <td>23.0</td>\n",
       "      <td>170.0</td>\n",
       "      <td>60.0</td>\n",
       "      <td>China</td>\n",
       "      <td>CHN</td>\n",
       "      <td>2012 Summer</td>\n",
       "      <td>2012</td>\n",
       "      <td>Summer</td>\n",
       "      <td>London</td>\n",
       "      <td>Judo</td>\n",
       "      <td>Judo Men's Extra-Lightweight</td>\n",
       "      <td>NaN</td>\n",
       "      <td>China</td>\n",
       "      <td>NaN</td>\n",
       "      <td>0</td>\n",
       "      <td>0</td>\n",
       "      <td>0</td>\n",
       "    </tr>\n",
       "    <tr>\n",
       "      <th>2</th>\n",
       "      <td>3</td>\n",
       "      <td>Gunnar Nielsen Aaby</td>\n",
       "      <td>M</td>\n",
       "      <td>24.0</td>\n",
       "      <td>NaN</td>\n",
       "      <td>NaN</td>\n",
       "      <td>Denmark</td>\n",
       "      <td>DEN</td>\n",
       "      <td>1920 Summer</td>\n",
       "      <td>1920</td>\n",
       "      <td>Summer</td>\n",
       "      <td>Antwerpen</td>\n",
       "      <td>Football</td>\n",
       "      <td>Football Men's Football</td>\n",
       "      <td>NaN</td>\n",
       "      <td>Denmark</td>\n",
       "      <td>NaN</td>\n",
       "      <td>0</td>\n",
       "      <td>0</td>\n",
       "      <td>0</td>\n",
       "    </tr>\n",
       "    <tr>\n",
       "      <th>3</th>\n",
       "      <td>4</td>\n",
       "      <td>Edgar Lindenau Aabye</td>\n",
       "      <td>M</td>\n",
       "      <td>34.0</td>\n",
       "      <td>NaN</td>\n",
       "      <td>NaN</td>\n",
       "      <td>Denmark/Sweden</td>\n",
       "      <td>DEN</td>\n",
       "      <td>1900 Summer</td>\n",
       "      <td>1900</td>\n",
       "      <td>Summer</td>\n",
       "      <td>Paris</td>\n",
       "      <td>Tug-Of-War</td>\n",
       "      <td>Tug-Of-War Men's Tug-Of-War</td>\n",
       "      <td>Gold</td>\n",
       "      <td>Denmark</td>\n",
       "      <td>NaN</td>\n",
       "      <td>0</td>\n",
       "      <td>1</td>\n",
       "      <td>0</td>\n",
       "    </tr>\n",
       "    <tr>\n",
       "      <th>4</th>\n",
       "      <td>8</td>\n",
       "      <td>Cornelia \"Cor\" Aalten (-Strannood)</td>\n",
       "      <td>F</td>\n",
       "      <td>18.0</td>\n",
       "      <td>168.0</td>\n",
       "      <td>NaN</td>\n",
       "      <td>Netherlands</td>\n",
       "      <td>NED</td>\n",
       "      <td>1932 Summer</td>\n",
       "      <td>1932</td>\n",
       "      <td>Summer</td>\n",
       "      <td>Los Angeles</td>\n",
       "      <td>Athletics</td>\n",
       "      <td>Athletics Women's 100 metres</td>\n",
       "      <td>NaN</td>\n",
       "      <td>Netherlands</td>\n",
       "      <td>NaN</td>\n",
       "      <td>0</td>\n",
       "      <td>0</td>\n",
       "      <td>0</td>\n",
       "    </tr>\n",
       "  </tbody>\n",
       "</table>\n",
       "</div>"
      ],
      "text/plain": [
       "   ID                                Name Sex   Age  Height  Weight  \\\n",
       "0   1                           A Dijiang   M  24.0   180.0    80.0   \n",
       "1   2                            A Lamusi   M  23.0   170.0    60.0   \n",
       "2   3                 Gunnar Nielsen Aaby   M  24.0     NaN     NaN   \n",
       "3   4                Edgar Lindenau Aabye   M  34.0     NaN     NaN   \n",
       "4   8  Cornelia \"Cor\" Aalten (-Strannood)   F  18.0   168.0     NaN   \n",
       "\n",
       "             Team  NOC        Games  Year  Season         City       Sport  \\\n",
       "0           China  CHN  1992 Summer  1992  Summer    Barcelona  Basketball   \n",
       "1           China  CHN  2012 Summer  2012  Summer       London        Judo   \n",
       "2         Denmark  DEN  1920 Summer  1920  Summer    Antwerpen    Football   \n",
       "3  Denmark/Sweden  DEN  1900 Summer  1900  Summer        Paris  Tug-Of-War   \n",
       "4     Netherlands  NED  1932 Summer  1932  Summer  Los Angeles   Athletics   \n",
       "\n",
       "                          Event Medal       region notes  Bronze  Gold  Silver  \n",
       "0   Basketball Men's Basketball   NaN        China   NaN       0     0       0  \n",
       "1  Judo Men's Extra-Lightweight   NaN        China   NaN       0     0       0  \n",
       "2       Football Men's Football   NaN      Denmark   NaN       0     0       0  \n",
       "3   Tug-Of-War Men's Tug-Of-War  Gold      Denmark   NaN       0     1       0  \n",
       "4  Athletics Women's 100 metres   NaN  Netherlands   NaN       0     0       0  "
      ]
     },
     "execution_count": 274,
     "metadata": {},
     "output_type": "execute_result"
    }
   ],
   "source": [
    "df.head()"
   ]
  },
  {
   "cell_type": "code",
   "execution_count": 275,
   "id": "03478bdc",
   "metadata": {},
   "outputs": [
    {
     "data": {
      "text/html": [
       "<div>\n",
       "<style scoped>\n",
       "    .dataframe tbody tr th:only-of-type {\n",
       "        vertical-align: middle;\n",
       "    }\n",
       "\n",
       "    .dataframe tbody tr th {\n",
       "        vertical-align: top;\n",
       "    }\n",
       "\n",
       "    .dataframe thead th {\n",
       "        text-align: right;\n",
       "    }\n",
       "</style>\n",
       "<table border=\"1\" class=\"dataframe\">\n",
       "  <thead>\n",
       "    <tr style=\"text-align: right;\">\n",
       "      <th></th>\n",
       "      <th>Year</th>\n",
       "      <th>count</th>\n",
       "    </tr>\n",
       "  </thead>\n",
       "  <tbody>\n",
       "    <tr>\n",
       "      <th>28</th>\n",
       "      <td>1896</td>\n",
       "      <td>176</td>\n",
       "    </tr>\n",
       "    <tr>\n",
       "      <th>25</th>\n",
       "      <td>1900</td>\n",
       "      <td>1220</td>\n",
       "    </tr>\n",
       "    <tr>\n",
       "      <th>27</th>\n",
       "      <td>1904</td>\n",
       "      <td>650</td>\n",
       "    </tr>\n",
       "    <tr>\n",
       "      <th>26</th>\n",
       "      <td>1906</td>\n",
       "      <td>841</td>\n",
       "    </tr>\n",
       "    <tr>\n",
       "      <th>23</th>\n",
       "      <td>1908</td>\n",
       "      <td>2024</td>\n",
       "    </tr>\n",
       "    <tr>\n",
       "      <th>22</th>\n",
       "      <td>1912</td>\n",
       "      <td>2409</td>\n",
       "    </tr>\n",
       "    <tr>\n",
       "      <th>21</th>\n",
       "      <td>1920</td>\n",
       "      <td>2675</td>\n",
       "    </tr>\n",
       "    <tr>\n",
       "      <th>19</th>\n",
       "      <td>1924</td>\n",
       "      <td>3256</td>\n",
       "    </tr>\n",
       "    <tr>\n",
       "      <th>20</th>\n",
       "      <td>1928</td>\n",
       "      <td>3246</td>\n",
       "    </tr>\n",
       "    <tr>\n",
       "      <th>24</th>\n",
       "      <td>1932</td>\n",
       "      <td>1922</td>\n",
       "    </tr>\n",
       "    <tr>\n",
       "      <th>16</th>\n",
       "      <td>1936</td>\n",
       "      <td>4482</td>\n",
       "    </tr>\n",
       "    <tr>\n",
       "      <th>17</th>\n",
       "      <td>1948</td>\n",
       "      <td>4402</td>\n",
       "    </tr>\n",
       "    <tr>\n",
       "      <th>15</th>\n",
       "      <td>1952</td>\n",
       "      <td>4931</td>\n",
       "    </tr>\n",
       "    <tr>\n",
       "      <th>18</th>\n",
       "      <td>1956</td>\n",
       "      <td>3346</td>\n",
       "    </tr>\n",
       "    <tr>\n",
       "      <th>12</th>\n",
       "      <td>1960</td>\n",
       "      <td>5348</td>\n",
       "    </tr>\n",
       "    <tr>\n",
       "      <th>14</th>\n",
       "      <td>1964</td>\n",
       "      <td>5134</td>\n",
       "    </tr>\n",
       "    <tr>\n",
       "      <th>11</th>\n",
       "      <td>1968</td>\n",
       "      <td>5552</td>\n",
       "    </tr>\n",
       "    <tr>\n",
       "      <th>8</th>\n",
       "      <td>1972</td>\n",
       "      <td>7105</td>\n",
       "    </tr>\n",
       "    <tr>\n",
       "      <th>10</th>\n",
       "      <td>1976</td>\n",
       "      <td>6070</td>\n",
       "    </tr>\n",
       "    <tr>\n",
       "      <th>13</th>\n",
       "      <td>1980</td>\n",
       "      <td>5252</td>\n",
       "    </tr>\n",
       "    <tr>\n",
       "      <th>9</th>\n",
       "      <td>1984</td>\n",
       "      <td>6791</td>\n",
       "    </tr>\n",
       "    <tr>\n",
       "      <th>7</th>\n",
       "      <td>1988</td>\n",
       "      <td>8443</td>\n",
       "    </tr>\n",
       "    <tr>\n",
       "      <th>6</th>\n",
       "      <td>1992</td>\n",
       "      <td>9380</td>\n",
       "    </tr>\n",
       "    <tr>\n",
       "      <th>5</th>\n",
       "      <td>1996</td>\n",
       "      <td>10324</td>\n",
       "    </tr>\n",
       "    <tr>\n",
       "      <th>2</th>\n",
       "      <td>2000</td>\n",
       "      <td>10639</td>\n",
       "    </tr>\n",
       "    <tr>\n",
       "      <th>3</th>\n",
       "      <td>2004</td>\n",
       "      <td>10537</td>\n",
       "    </tr>\n",
       "    <tr>\n",
       "      <th>1</th>\n",
       "      <td>2008</td>\n",
       "      <td>10880</td>\n",
       "    </tr>\n",
       "    <tr>\n",
       "      <th>4</th>\n",
       "      <td>2012</td>\n",
       "      <td>10502</td>\n",
       "    </tr>\n",
       "    <tr>\n",
       "      <th>0</th>\n",
       "      <td>2016</td>\n",
       "      <td>11174</td>\n",
       "    </tr>\n",
       "  </tbody>\n",
       "</table>\n",
       "</div>"
      ],
      "text/plain": [
       "    Year  count\n",
       "28  1896    176\n",
       "25  1900   1220\n",
       "27  1904    650\n",
       "26  1906    841\n",
       "23  1908   2024\n",
       "22  1912   2409\n",
       "21  1920   2675\n",
       "19  1924   3256\n",
       "20  1928   3246\n",
       "24  1932   1922\n",
       "16  1936   4482\n",
       "17  1948   4402\n",
       "15  1952   4931\n",
       "18  1956   3346\n",
       "12  1960   5348\n",
       "14  1964   5134\n",
       "11  1968   5552\n",
       "8   1972   7105\n",
       "10  1976   6070\n",
       "13  1980   5252\n",
       "9   1984   6791\n",
       "7   1988   8443\n",
       "6   1992   9380\n",
       "5   1996  10324\n",
       "2   2000  10639\n",
       "3   2004  10537\n",
       "1   2008  10880\n",
       "4   2012  10502\n",
       "0   2016  11174"
      ]
     },
     "execution_count": 275,
     "metadata": {},
     "output_type": "execute_result"
    }
   ],
   "source": [
    "df.drop_duplicates(['Year','Name'])['Year'].value_counts().reset_index().sort_values(['Year'],ascending=True)"
   ]
  },
  {
   "cell_type": "code",
   "execution_count": 276,
   "id": "c752d37e",
   "metadata": {},
   "outputs": [
    {
     "data": {
      "text/html": [
       "<div>\n",
       "<style scoped>\n",
       "    .dataframe tbody tr th:only-of-type {\n",
       "        vertical-align: middle;\n",
       "    }\n",
       "\n",
       "    .dataframe tbody tr th {\n",
       "        vertical-align: top;\n",
       "    }\n",
       "\n",
       "    .dataframe thead th {\n",
       "        text-align: right;\n",
       "    }\n",
       "</style>\n",
       "<table border=\"1\" class=\"dataframe\">\n",
       "  <thead>\n",
       "    <tr style=\"text-align: right;\">\n",
       "      <th></th>\n",
       "      <th>ID</th>\n",
       "      <th>Name</th>\n",
       "      <th>Sex</th>\n",
       "      <th>Age</th>\n",
       "      <th>Height</th>\n",
       "      <th>Weight</th>\n",
       "      <th>Team</th>\n",
       "      <th>NOC</th>\n",
       "      <th>Games</th>\n",
       "      <th>Year</th>\n",
       "      <th>Season</th>\n",
       "      <th>City</th>\n",
       "      <th>Sport</th>\n",
       "      <th>Event</th>\n",
       "      <th>Medal</th>\n",
       "      <th>region</th>\n",
       "      <th>notes</th>\n",
       "      <th>Bronze</th>\n",
       "      <th>Gold</th>\n",
       "      <th>Silver</th>\n",
       "    </tr>\n",
       "  </thead>\n",
       "  <tbody>\n",
       "    <tr>\n",
       "      <th>0</th>\n",
       "      <td>1</td>\n",
       "      <td>A Dijiang</td>\n",
       "      <td>M</td>\n",
       "      <td>24.0</td>\n",
       "      <td>180.0</td>\n",
       "      <td>80.0</td>\n",
       "      <td>China</td>\n",
       "      <td>CHN</td>\n",
       "      <td>1992 Summer</td>\n",
       "      <td>1992</td>\n",
       "      <td>Summer</td>\n",
       "      <td>Barcelona</td>\n",
       "      <td>Basketball</td>\n",
       "      <td>Basketball Men's Basketball</td>\n",
       "      <td>NaN</td>\n",
       "      <td>China</td>\n",
       "      <td>NaN</td>\n",
       "      <td>0</td>\n",
       "      <td>0</td>\n",
       "      <td>0</td>\n",
       "    </tr>\n",
       "    <tr>\n",
       "      <th>1</th>\n",
       "      <td>2</td>\n",
       "      <td>A Lamusi</td>\n",
       "      <td>M</td>\n",
       "      <td>23.0</td>\n",
       "      <td>170.0</td>\n",
       "      <td>60.0</td>\n",
       "      <td>China</td>\n",
       "      <td>CHN</td>\n",
       "      <td>2012 Summer</td>\n",
       "      <td>2012</td>\n",
       "      <td>Summer</td>\n",
       "      <td>London</td>\n",
       "      <td>Judo</td>\n",
       "      <td>Judo Men's Extra-Lightweight</td>\n",
       "      <td>NaN</td>\n",
       "      <td>China</td>\n",
       "      <td>NaN</td>\n",
       "      <td>0</td>\n",
       "      <td>0</td>\n",
       "      <td>0</td>\n",
       "    </tr>\n",
       "    <tr>\n",
       "      <th>2</th>\n",
       "      <td>3</td>\n",
       "      <td>Gunnar Nielsen Aaby</td>\n",
       "      <td>M</td>\n",
       "      <td>24.0</td>\n",
       "      <td>NaN</td>\n",
       "      <td>NaN</td>\n",
       "      <td>Denmark</td>\n",
       "      <td>DEN</td>\n",
       "      <td>1920 Summer</td>\n",
       "      <td>1920</td>\n",
       "      <td>Summer</td>\n",
       "      <td>Antwerpen</td>\n",
       "      <td>Football</td>\n",
       "      <td>Football Men's Football</td>\n",
       "      <td>NaN</td>\n",
       "      <td>Denmark</td>\n",
       "      <td>NaN</td>\n",
       "      <td>0</td>\n",
       "      <td>0</td>\n",
       "      <td>0</td>\n",
       "    </tr>\n",
       "  </tbody>\n",
       "</table>\n",
       "</div>"
      ],
      "text/plain": [
       "   ID                 Name Sex   Age  Height  Weight     Team  NOC  \\\n",
       "0   1            A Dijiang   M  24.0   180.0    80.0    China  CHN   \n",
       "1   2             A Lamusi   M  23.0   170.0    60.0    China  CHN   \n",
       "2   3  Gunnar Nielsen Aaby   M  24.0     NaN     NaN  Denmark  DEN   \n",
       "\n",
       "         Games  Year  Season       City       Sport  \\\n",
       "0  1992 Summer  1992  Summer  Barcelona  Basketball   \n",
       "1  2012 Summer  2012  Summer     London        Judo   \n",
       "2  1920 Summer  1920  Summer  Antwerpen    Football   \n",
       "\n",
       "                          Event Medal   region notes  Bronze  Gold  Silver  \n",
       "0   Basketball Men's Basketball   NaN    China   NaN       0     0       0  \n",
       "1  Judo Men's Extra-Lightweight   NaN    China   NaN       0     0       0  \n",
       "2       Football Men's Football   NaN  Denmark   NaN       0     0       0  "
      ]
     },
     "execution_count": 276,
     "metadata": {},
     "output_type": "execute_result"
    }
   ],
   "source": [
    "df.head(3)"
   ]
  },
  {
   "cell_type": "code",
   "execution_count": 277,
   "id": "7444a8c0",
   "metadata": {},
   "outputs": [],
   "source": [
    "x = df.drop_duplicates(['Year','Sport','Event'])"
   ]
  },
  {
   "cell_type": "code",
   "execution_count": 278,
   "id": "207523ba",
   "metadata": {},
   "outputs": [
    {
     "data": {
      "text/plain": [
       "<Axes: xlabel='Year', ylabel='Sport'>"
      ]
     },
     "execution_count": 278,
     "metadata": {},
     "output_type": "execute_result"
    },
    {
     "data": {
      "image/png": "[encoded data removed]",
      "text/plain": [
       "<Figure size 2000x2000 with 2 Axes>"
      ]
     },
     "metadata": {},
     "output_type": "display_data"
    }
   ],
   "source": [
    "import seaborn as sns \n",
    "plt.figure(figsize=(20,20))\n",
    "sns.heatmap(x.pivot_table(index='Sport' , columns='Year' , values ='Event',aggfunc='count').fillna(0).astype(int),annot=True)"
   ]
  },
  {
   "cell_type": "code",
   "execution_count": 279,
   "id": "aaa83ef9",
   "metadata": {},
   "outputs": [
    {
     "data": {
      "text/html": [
       "<div>\n",
       "<style scoped>\n",
       "    .dataframe tbody tr th:only-of-type {\n",
       "        vertical-align: middle;\n",
       "    }\n",
       "\n",
       "    .dataframe tbody tr th {\n",
       "        vertical-align: top;\n",
       "    }\n",
       "\n",
       "    .dataframe thead th {\n",
       "        text-align: right;\n",
       "    }\n",
       "</style>\n",
       "<table border=\"1\" class=\"dataframe\">\n",
       "  <thead>\n",
       "    <tr style=\"text-align: right;\">\n",
       "      <th></th>\n",
       "      <th>ID</th>\n",
       "      <th>Name</th>\n",
       "      <th>Sex</th>\n",
       "      <th>Age</th>\n",
       "      <th>Height</th>\n",
       "      <th>Weight</th>\n",
       "      <th>Team</th>\n",
       "      <th>NOC</th>\n",
       "      <th>Games</th>\n",
       "      <th>Year</th>\n",
       "      <th>Season</th>\n",
       "      <th>City</th>\n",
       "      <th>Sport</th>\n",
       "      <th>Event</th>\n",
       "      <th>Medal</th>\n",
       "      <th>region</th>\n",
       "      <th>notes</th>\n",
       "      <th>Bronze</th>\n",
       "      <th>Gold</th>\n",
       "      <th>Silver</th>\n",
       "    </tr>\n",
       "  </thead>\n",
       "  <tbody>\n",
       "    <tr>\n",
       "      <th>0</th>\n",
       "      <td>1</td>\n",
       "      <td>A Dijiang</td>\n",
       "      <td>M</td>\n",
       "      <td>24.0</td>\n",
       "      <td>180.0</td>\n",
       "      <td>80.0</td>\n",
       "      <td>China</td>\n",
       "      <td>CHN</td>\n",
       "      <td>1992 Summer</td>\n",
       "      <td>1992</td>\n",
       "      <td>Summer</td>\n",
       "      <td>Barcelona</td>\n",
       "      <td>Basketball</td>\n",
       "      <td>Basketball Men's Basketball</td>\n",
       "      <td>NaN</td>\n",
       "      <td>China</td>\n",
       "      <td>NaN</td>\n",
       "      <td>0</td>\n",
       "      <td>0</td>\n",
       "      <td>0</td>\n",
       "    </tr>\n",
       "    <tr>\n",
       "      <th>1</th>\n",
       "      <td>2</td>\n",
       "      <td>A Lamusi</td>\n",
       "      <td>M</td>\n",
       "      <td>23.0</td>\n",
       "      <td>170.0</td>\n",
       "      <td>60.0</td>\n",
       "      <td>China</td>\n",
       "      <td>CHN</td>\n",
       "      <td>2012 Summer</td>\n",
       "      <td>2012</td>\n",
       "      <td>Summer</td>\n",
       "      <td>London</td>\n",
       "      <td>Judo</td>\n",
       "      <td>Judo Men's Extra-Lightweight</td>\n",
       "      <td>NaN</td>\n",
       "      <td>China</td>\n",
       "      <td>NaN</td>\n",
       "      <td>0</td>\n",
       "      <td>0</td>\n",
       "      <td>0</td>\n",
       "    </tr>\n",
       "    <tr>\n",
       "      <th>2</th>\n",
       "      <td>3</td>\n",
       "      <td>Gunnar Nielsen Aaby</td>\n",
       "      <td>M</td>\n",
       "      <td>24.0</td>\n",
       "      <td>NaN</td>\n",
       "      <td>NaN</td>\n",
       "      <td>Denmark</td>\n",
       "      <td>DEN</td>\n",
       "      <td>1920 Summer</td>\n",
       "      <td>1920</td>\n",
       "      <td>Summer</td>\n",
       "      <td>Antwerpen</td>\n",
       "      <td>Football</td>\n",
       "      <td>Football Men's Football</td>\n",
       "      <td>NaN</td>\n",
       "      <td>Denmark</td>\n",
       "      <td>NaN</td>\n",
       "      <td>0</td>\n",
       "      <td>0</td>\n",
       "      <td>0</td>\n",
       "    </tr>\n",
       "    <tr>\n",
       "      <th>3</th>\n",
       "      <td>4</td>\n",
       "      <td>Edgar Lindenau Aabye</td>\n",
       "      <td>M</td>\n",
       "      <td>34.0</td>\n",
       "      <td>NaN</td>\n",
       "      <td>NaN</td>\n",
       "      <td>Denmark/Sweden</td>\n",
       "      <td>DEN</td>\n",
       "      <td>1900 Summer</td>\n",
       "      <td>1900</td>\n",
       "      <td>Summer</td>\n",
       "      <td>Paris</td>\n",
       "      <td>Tug-Of-War</td>\n",
       "      <td>Tug-Of-War Men's Tug-Of-War</td>\n",
       "      <td>Gold</td>\n",
       "      <td>Denmark</td>\n",
       "      <td>NaN</td>\n",
       "      <td>0</td>\n",
       "      <td>1</td>\n",
       "      <td>0</td>\n",
       "    </tr>\n",
       "    <tr>\n",
       "      <th>4</th>\n",
       "      <td>8</td>\n",
       "      <td>Cornelia \"Cor\" Aalten (-Strannood)</td>\n",
       "      <td>F</td>\n",
       "      <td>18.0</td>\n",
       "      <td>168.0</td>\n",
       "      <td>NaN</td>\n",
       "      <td>Netherlands</td>\n",
       "      <td>NED</td>\n",
       "      <td>1932 Summer</td>\n",
       "      <td>1932</td>\n",
       "      <td>Summer</td>\n",
       "      <td>Los Angeles</td>\n",
       "      <td>Athletics</td>\n",
       "      <td>Athletics Women's 100 metres</td>\n",
       "      <td>NaN</td>\n",
       "      <td>Netherlands</td>\n",
       "      <td>NaN</td>\n",
       "      <td>0</td>\n",
       "      <td>0</td>\n",
       "      <td>0</td>\n",
       "    </tr>\n",
       "    <tr>\n",
       "      <th>...</th>\n",
       "      <td>...</td>\n",
       "      <td>...</td>\n",
       "      <td>...</td>\n",
       "      <td>...</td>\n",
       "      <td>...</td>\n",
       "      <td>...</td>\n",
       "      <td>...</td>\n",
       "      <td>...</td>\n",
       "      <td>...</td>\n",
       "      <td>...</td>\n",
       "      <td>...</td>\n",
       "      <td>...</td>\n",
       "      <td>...</td>\n",
       "      <td>...</td>\n",
       "      <td>...</td>\n",
       "      <td>...</td>\n",
       "      <td>...</td>\n",
       "      <td>...</td>\n",
       "      <td>...</td>\n",
       "      <td>...</td>\n",
       "    </tr>\n",
       "    <tr>\n",
       "      <th>222547</th>\n",
       "      <td>135565</td>\n",
       "      <td>Fernando scar Zylberberg</td>\n",
       "      <td>M</td>\n",
       "      <td>27.0</td>\n",
       "      <td>168.0</td>\n",
       "      <td>76.0</td>\n",
       "      <td>Argentina</td>\n",
       "      <td>ARG</td>\n",
       "      <td>2004 Summer</td>\n",
       "      <td>2004</td>\n",
       "      <td>Summer</td>\n",
       "      <td>Athina</td>\n",
       "      <td>Hockey</td>\n",
       "      <td>Hockey Men's Hockey</td>\n",
       "      <td>NaN</td>\n",
       "      <td>Argentina</td>\n",
       "      <td>NaN</td>\n",
       "      <td>0</td>\n",
       "      <td>0</td>\n",
       "      <td>0</td>\n",
       "    </tr>\n",
       "    <tr>\n",
       "      <th>222548</th>\n",
       "      <td>135566</td>\n",
       "      <td>James Francis \"Jim\" Zylker</td>\n",
       "      <td>M</td>\n",
       "      <td>21.0</td>\n",
       "      <td>175.0</td>\n",
       "      <td>75.0</td>\n",
       "      <td>United States</td>\n",
       "      <td>USA</td>\n",
       "      <td>1972 Summer</td>\n",
       "      <td>1972</td>\n",
       "      <td>Summer</td>\n",
       "      <td>Munich</td>\n",
       "      <td>Football</td>\n",
       "      <td>Football Men's Football</td>\n",
       "      <td>NaN</td>\n",
       "      <td>USA</td>\n",
       "      <td>NaN</td>\n",
       "      <td>0</td>\n",
       "      <td>0</td>\n",
       "      <td>0</td>\n",
       "    </tr>\n",
       "    <tr>\n",
       "      <th>222549</th>\n",
       "      <td>135567</td>\n",
       "      <td>Aleksandr Viktorovich Zyuzin</td>\n",
       "      <td>M</td>\n",
       "      <td>24.0</td>\n",
       "      <td>183.0</td>\n",
       "      <td>72.0</td>\n",
       "      <td>Russia</td>\n",
       "      <td>RUS</td>\n",
       "      <td>2000 Summer</td>\n",
       "      <td>2000</td>\n",
       "      <td>Summer</td>\n",
       "      <td>Sydney</td>\n",
       "      <td>Rowing</td>\n",
       "      <td>Rowing Men's Lightweight Coxless Fours</td>\n",
       "      <td>NaN</td>\n",
       "      <td>Russia</td>\n",
       "      <td>NaN</td>\n",
       "      <td>0</td>\n",
       "      <td>0</td>\n",
       "      <td>0</td>\n",
       "    </tr>\n",
       "    <tr>\n",
       "      <th>222550</th>\n",
       "      <td>135567</td>\n",
       "      <td>Aleksandr Viktorovich Zyuzin</td>\n",
       "      <td>M</td>\n",
       "      <td>28.0</td>\n",
       "      <td>183.0</td>\n",
       "      <td>72.0</td>\n",
       "      <td>Russia</td>\n",
       "      <td>RUS</td>\n",
       "      <td>2004 Summer</td>\n",
       "      <td>2004</td>\n",
       "      <td>Summer</td>\n",
       "      <td>Athina</td>\n",
       "      <td>Rowing</td>\n",
       "      <td>Rowing Men's Lightweight Coxless Fours</td>\n",
       "      <td>NaN</td>\n",
       "      <td>Russia</td>\n",
       "      <td>NaN</td>\n",
       "      <td>0</td>\n",
       "      <td>0</td>\n",
       "      <td>0</td>\n",
       "    </tr>\n",
       "    <tr>\n",
       "      <th>222551</th>\n",
       "      <td>135568</td>\n",
       "      <td>Olga Igorevna Zyuzkova</td>\n",
       "      <td>F</td>\n",
       "      <td>33.0</td>\n",
       "      <td>171.0</td>\n",
       "      <td>69.0</td>\n",
       "      <td>Belarus</td>\n",
       "      <td>BLR</td>\n",
       "      <td>2016 Summer</td>\n",
       "      <td>2016</td>\n",
       "      <td>Summer</td>\n",
       "      <td>Rio de Janeiro</td>\n",
       "      <td>Basketball</td>\n",
       "      <td>Basketball Women's Basketball</td>\n",
       "      <td>NaN</td>\n",
       "      <td>Belarus</td>\n",
       "      <td>NaN</td>\n",
       "      <td>0</td>\n",
       "      <td>0</td>\n",
       "      <td>0</td>\n",
       "    </tr>\n",
       "  </tbody>\n",
       "</table>\n",
       "<p>221067 rows × 20 columns</p>\n",
       "</div>"
      ],
      "text/plain": [
       "            ID                                Name Sex   Age  Height  Weight  \\\n",
       "0            1                           A Dijiang   M  24.0   180.0    80.0   \n",
       "1            2                            A Lamusi   M  23.0   170.0    60.0   \n",
       "2            3                 Gunnar Nielsen Aaby   M  24.0     NaN     NaN   \n",
       "3            4                Edgar Lindenau Aabye   M  34.0     NaN     NaN   \n",
       "4            8  Cornelia \"Cor\" Aalten (-Strannood)   F  18.0   168.0     NaN   \n",
       "...        ...                                 ...  ..   ...     ...     ...   \n",
       "222547  135565            Fernando scar Zylberberg   M  27.0   168.0    76.0   \n",
       "222548  135566          James Francis \"Jim\" Zylker   M  21.0   175.0    75.0   \n",
       "222549  135567        Aleksandr Viktorovich Zyuzin   M  24.0   183.0    72.0   \n",
       "222550  135567        Aleksandr Viktorovich Zyuzin   M  28.0   183.0    72.0   \n",
       "222551  135568              Olga Igorevna Zyuzkova   F  33.0   171.0    69.0   \n",
       "\n",
       "                  Team  NOC        Games  Year  Season            City  \\\n",
       "0                China  CHN  1992 Summer  1992  Summer       Barcelona   \n",
       "1                China  CHN  2012 Summer  2012  Summer          London   \n",
       "2              Denmark  DEN  1920 Summer  1920  Summer       Antwerpen   \n",
       "3       Denmark/Sweden  DEN  1900 Summer  1900  Summer           Paris   \n",
       "4          Netherlands  NED  1932 Summer  1932  Summer     Los Angeles   \n",
       "...                ...  ...          ...   ...     ...             ...   \n",
       "222547       Argentina  ARG  2004 Summer  2004  Summer          Athina   \n",
       "222548   United States  USA  1972 Summer  1972  Summer          Munich   \n",
       "222549          Russia  RUS  2000 Summer  2000  Summer          Sydney   \n",
       "222550          Russia  RUS  2004 Summer  2004  Summer          Athina   \n",
       "222551         Belarus  BLR  2016 Summer  2016  Summer  Rio de Janeiro   \n",
       "\n",
       "             Sport                                   Event Medal       region  \\\n",
       "0       Basketball             Basketball Men's Basketball   NaN        China   \n",
       "1             Judo            Judo Men's Extra-Lightweight   NaN        China   \n",
       "2         Football                 Football Men's Football   NaN      Denmark   \n",
       "3       Tug-Of-War             Tug-Of-War Men's Tug-Of-War  Gold      Denmark   \n",
       "4        Athletics            Athletics Women's 100 metres   NaN  Netherlands   \n",
       "...            ...                                     ...   ...          ...   \n",
       "222547      Hockey                     Hockey Men's Hockey   NaN    Argentina   \n",
       "222548    Football                 Football Men's Football   NaN          USA   \n",
       "222549      Rowing  Rowing Men's Lightweight Coxless Fours   NaN       Russia   \n",
       "222550      Rowing  Rowing Men's Lightweight Coxless Fours   NaN       Russia   \n",
       "222551  Basketball           Basketball Women's Basketball   NaN      Belarus   \n",
       "\n",
       "       notes  Bronze  Gold  Silver  \n",
       "0        NaN       0     0       0  \n",
       "1        NaN       0     0       0  \n",
       "2        NaN       0     0       0  \n",
       "3        NaN       0     1       0  \n",
       "4        NaN       0     0       0  \n",
       "...      ...     ...   ...     ...  \n",
       "222547   NaN       0     0       0  \n",
       "222548   NaN       0     0       0  \n",
       "222549   NaN       0     0       0  \n",
       "222550   NaN       0     0       0  \n",
       "222551   NaN       0     0       0  \n",
       "\n",
       "[221067 rows x 20 columns]"
      ]
     },
     "execution_count": 279,
     "metadata": {},
     "output_type": "execute_result"
    }
   ],
   "source": [
    "df.drop_duplicates(['Year','Sport','Event','Name'])"
   ]
  },
  {
   "cell_type": "code",
   "execution_count": 280,
   "id": "b21e69c0",
   "metadata": {},
   "outputs": [],
   "source": [
    "# def most_successfull(df,sport_val):\n",
    "#     temp_df = df.dropna(subset=['Medal'])\n",
    "\n",
    "#     if sport_val != 'Overall':\n",
    "#         temp_df = temp_df[temp_df['Sport'] == sport_val]\n",
    "\n",
    "#     return temp_df['Name'].value_counts().reset_index().head(15).merge(df , on='Name',how='left')[['Name','count','region','Sport']].drop_duplicates()\n",
    "#     # return temp_df['Name'].value_counts().reset_index().head(15).merge(df,left_on='Name' , right_on='count',how='left')\n",
    "# most_successfull(df,'Overall')"
   ]
  },
  {
   "cell_type": "code",
   "execution_count": 281,
   "id": "da16c234",
   "metadata": {},
   "outputs": [
    {
     "data": {
      "text/html": [
       "<div>\n",
       "<style scoped>\n",
       "    .dataframe tbody tr th:only-of-type {\n",
       "        vertical-align: middle;\n",
       "    }\n",
       "\n",
       "    .dataframe tbody tr th {\n",
       "        vertical-align: top;\n",
       "    }\n",
       "\n",
       "    .dataframe thead th {\n",
       "        text-align: right;\n",
       "    }\n",
       "</style>\n",
       "<table border=\"1\" class=\"dataframe\">\n",
       "  <thead>\n",
       "    <tr style=\"text-align: right;\">\n",
       "      <th></th>\n",
       "      <th>Name</th>\n",
       "      <th>Medals</th>\n",
       "      <th>Region</th>\n",
       "      <th>Sport</th>\n",
       "    </tr>\n",
       "  </thead>\n",
       "  <tbody>\n",
       "    <tr>\n",
       "      <th>0</th>\n",
       "      <td>Ryoko Tamura-Tani</td>\n",
       "      <td>5</td>\n",
       "      <td>Japan</td>\n",
       "      <td>Judo</td>\n",
       "    </tr>\n",
       "    <tr>\n",
       "      <th>5</th>\n",
       "      <td>Angelo Parisi</td>\n",
       "      <td>4</td>\n",
       "      <td>UK</td>\n",
       "      <td>Judo</td>\n",
       "    </tr>\n",
       "    <tr>\n",
       "      <th>6</th>\n",
       "      <td>Angelo Parisi</td>\n",
       "      <td>4</td>\n",
       "      <td>France</td>\n",
       "      <td>Judo</td>\n",
       "    </tr>\n",
       "    <tr>\n",
       "      <th>9</th>\n",
       "      <td>Driulys Gonzlez Morales</td>\n",
       "      <td>4</td>\n",
       "      <td>Cuba</td>\n",
       "      <td>Judo</td>\n",
       "    </tr>\n",
       "    <tr>\n",
       "      <th>14</th>\n",
       "      <td>David Douillet</td>\n",
       "      <td>3</td>\n",
       "      <td>France</td>\n",
       "      <td>Judo</td>\n",
       "    </tr>\n",
       "    <tr>\n",
       "      <th>17</th>\n",
       "      <td>Rishod Rashidovich Sobirov</td>\n",
       "      <td>3</td>\n",
       "      <td>Uzbekistan</td>\n",
       "      <td>Judo</td>\n",
       "    </tr>\n",
       "    <tr>\n",
       "      <th>20</th>\n",
       "      <td>Edith Bosch</td>\n",
       "      <td>3</td>\n",
       "      <td>Netherlands</td>\n",
       "      <td>Judo</td>\n",
       "    </tr>\n",
       "    <tr>\n",
       "      <th>24</th>\n",
       "      <td>Amarilys Savn Carmenate</td>\n",
       "      <td>3</td>\n",
       "      <td>Cuba</td>\n",
       "      <td>Judo</td>\n",
       "    </tr>\n",
       "    <tr>\n",
       "      <th>28</th>\n",
       "      <td>Teddy Pierre-Marie Riner</td>\n",
       "      <td>3</td>\n",
       "      <td>France</td>\n",
       "      <td>Judo</td>\n",
       "    </tr>\n",
       "    <tr>\n",
       "      <th>31</th>\n",
       "      <td>Kye Sun-Hui</td>\n",
       "      <td>3</td>\n",
       "      <td>North Korea</td>\n",
       "      <td>Judo</td>\n",
       "    </tr>\n",
       "    <tr>\n",
       "      <th>35</th>\n",
       "      <td>Mark Huizinga</td>\n",
       "      <td>3</td>\n",
       "      <td>Netherlands</td>\n",
       "      <td>Judo</td>\n",
       "    </tr>\n",
       "    <tr>\n",
       "      <th>39</th>\n",
       "      <td>Idalys Ortz Bocourt</td>\n",
       "      <td>3</td>\n",
       "      <td>Cuba</td>\n",
       "      <td>Judo</td>\n",
       "    </tr>\n",
       "    <tr>\n",
       "      <th>42</th>\n",
       "      <td>Tadahiro Nomura</td>\n",
       "      <td>3</td>\n",
       "      <td>Japan</td>\n",
       "      <td>Judo</td>\n",
       "    </tr>\n",
       "    <tr>\n",
       "      <th>45</th>\n",
       "      <td>Mara Isabel Fernndez Gutirrez</td>\n",
       "      <td>2</td>\n",
       "      <td>Spain</td>\n",
       "      <td>Judo</td>\n",
       "    </tr>\n",
       "    <tr>\n",
       "      <th>49</th>\n",
       "      <td>Hindrik Harmannus Arnoldus \"Henk\" Grol</td>\n",
       "      <td>2</td>\n",
       "      <td>Netherlands</td>\n",
       "      <td>Judo</td>\n",
       "    </tr>\n",
       "    <tr>\n",
       "      <th>52</th>\n",
       "      <td>Shinji Hosokawa</td>\n",
       "      <td>2</td>\n",
       "      <td>Japan</td>\n",
       "      <td>Judo</td>\n",
       "    </tr>\n",
       "  </tbody>\n",
       "</table>\n",
       "</div>"
      ],
      "text/plain": [
       "                                      Name  Medals       Region Sport\n",
       "0                        Ryoko Tamura-Tani       5        Japan  Judo\n",
       "5                            Angelo Parisi       4           UK  Judo\n",
       "6                            Angelo Parisi       4       France  Judo\n",
       "9                  Driulys Gonzlez Morales       4         Cuba  Judo\n",
       "14                          David Douillet       3       France  Judo\n",
       "17              Rishod Rashidovich Sobirov       3   Uzbekistan  Judo\n",
       "20                             Edith Bosch       3  Netherlands  Judo\n",
       "24                 Amarilys Savn Carmenate       3         Cuba  Judo\n",
       "28                Teddy Pierre-Marie Riner       3       France  Judo\n",
       "31                             Kye Sun-Hui       3  North Korea  Judo\n",
       "35                           Mark Huizinga       3  Netherlands  Judo\n",
       "39                     Idalys Ortz Bocourt       3         Cuba  Judo\n",
       "42                         Tadahiro Nomura       3        Japan  Judo\n",
       "45           Mara Isabel Fernndez Gutirrez       2        Spain  Judo\n",
       "49  Hindrik Harmannus Arnoldus \"Henk\" Grol       2  Netherlands  Judo\n",
       "52                         Shinji Hosokawa       2        Japan  Judo"
      ]
     },
     "execution_count": 281,
     "metadata": {},
     "output_type": "execute_result"
    }
   ],
   "source": [
    "def most_successfull(df,sport_val):\n",
    "    temp_df = df.dropna(subset=['Medal'])\n",
    "    \n",
    "\n",
    "    if sport_val != 'Overall':\n",
    "        temp_df = temp_df[temp_df['Sport']==sport_val]\n",
    "    \n",
    "    x =  temp_df['Name'].value_counts().reset_index().head(15).merge(df , on=\"Name\",how=\"left\")[['Name','count','region','Sport']].drop_duplicates()\n",
    "\n",
    "    x.rename(columns={'count':'Medals' , 'region' : 'Region'} , inplace=True)\n",
    "\n",
    "    return x \n",
    "\n",
    "most_successfull(df,'Judo')"
   ]
  },
  {
   "cell_type": "code",
   "execution_count": 282,
   "id": "4c72e3db",
   "metadata": {},
   "outputs": [],
   "source": [
    "temp_df = df.dropna(subset=['Medal'])"
   ]
  },
  {
   "cell_type": "code",
   "execution_count": 283,
   "id": "d0eaa536",
   "metadata": {},
   "outputs": [],
   "source": [
    "# country Wise medal tally   -> Removing the duplicates then removing teams duplicates then group by year \n",
    "temp_df = df.dropna(subset=['Medal'])\n",
    "temp_df.drop_duplicates(subset=['Team','NOC','Games','Year','City','Sport','Event','Medal'] , inplace=True)"
   ]
  },
  {
   "cell_type": "code",
   "execution_count": 284,
   "id": "e6ee256c",
   "metadata": {},
   "outputs": [],
   "source": [
    "temp_df = temp_df[temp_df['region'] == 'USA']\n",
    "final_df = temp_df.groupby('Year').count()['Medal'].reset_index()"
   ]
  },
  {
   "cell_type": "code",
   "execution_count": 285,
   "id": "fba57779",
   "metadata": {},
   "outputs": [
    {
     "data": {
      "application/vnd.plotly.v1+json": {
       "config": {
        "plotlyServerURL": "https://plot.ly"
       },
       "data": [
        {
         "hovertemplate": "Year=%{x}<br>Medal=%{y}<extra></extra>",
         "legendgroup": "",
         "line": {
          "color": "#636efa",
          "dash": "solid"
         },
         "marker": {
          "symbol": "circle"
         },
         "mode": "lines",
         "name": "",
         "orientation": "v",
         "showlegend": false,
         "type": "scatter",
         "x": {
          "bdata": "aAdsB3AHcgd0B3gHgAeEB4gHjAeQB5wHoAekB6gHrAewB7QHuAfAB8QHyAfMB9AH1AfYB9wH4Ac=",
          "dtype": "i2"
         },
         "xaxis": "x",
         "y": {
          "bdata": "EwA2AOcAFwAuAD8AXwBjADgAbgA5AFQATABKAEcAWgBrAF4AXgCtAF4AbABlAFsAZQBuAGcAeQA=",
          "dtype": "i2"
         },
         "yaxis": "y"
        }
       ],
       "layout": {
        "legend": {
         "tracegroupgap": 0
        },
        "margin": {
         "t": 60
        },
        "template": {
         "data": {
          "bar": [
           {
            "error_x": {
             "color": "#2a3f5f"
            },
            "error_y": {
             "color": "#2a3f5f"
            },
            "marker": {
             "line": {
              "color": "#E5ECF6",
              "width": 0.5
             },
             "pattern": {
              "fillmode": "overlay",
              "size": 10,
              "solidity": 0.2
             }
            },
            "type": "bar"
           }
          ],
          "barpolar": [
           {
            "marker": {
             "line": {
              "color": "#E5ECF6",
              "width": 0.5
             },
             "pattern": {
              "fillmode": "overlay",
              "size": 10,
              "solidity": 0.2
             }
            },
            "type": "barpolar"
           }
          ],
          "carpet": [
           {
            "aaxis": {
             "endlinecolor": "#2a3f5f",
             "gridcolor": "white",
             "linecolor": "white",
             "minorgridcolor": "white",
             "startlinecolor": "#2a3f5f"
            },
            "baxis": {
             "endlinecolor": "#2a3f5f",
             "gridcolor": "white",
             "linecolor": "white",
             "minorgridcolor": "white",
             "startlinecolor": "#2a3f5f"
            },
            "type": "carpet"
           }
          ],
          "choropleth": [
           {
            "colorbar": {
             "outlinewidth": 0,
             "ticks": ""
            },
            "type": "choropleth"
           }
          ],
          "contour": [
           {
            "colorbar": {
             "outlinewidth": 0,
             "ticks": ""
            },
            "colorscale": [
             [
              0,
              "#0d0887"
             ],
             [
              0.1111111111111111,
              "#46039f"
             ],
             [
              0.2222222222222222,
              "#7201a8"
             ],
             [
              0.3333333333333333,
              "#9c179e"
             ],
             [
              0.4444444444444444,
              "#bd3786"
             ],
             [
              0.5555555555555556,
              "#d8576b"
             ],
             [
              0.6666666666666666,
              "#ed7953"
             ],
             [
              0.7777777777777778,
              "#fb9f3a"
             ],
             [
              0.8888888888888888,
              "#fdca26"
             ],
             [
              1,
              "#f0f921"
             ]
            ],
            "type": "contour"
           }
          ],
          "contourcarpet": [
           {
            "colorbar": {
             "outlinewidth": 0,
             "ticks": ""
            },
            "type": "contourcarpet"
           }
          ],
          "heatmap": [
           {
            "colorbar": {
             "outlinewidth": 0,
             "ticks": ""
            },
            "colorscale": [
             [
              0,
              "#0d0887"
             ],
             [
              0.1111111111111111,
              "#46039f"
             ],
             [
              0.2222222222222222,
              "#7201a8"
             ],
             [
              0.3333333333333333,
              "#9c179e"
             ],
             [
              0.4444444444444444,
              "#bd3786"
             ],
             [
              0.5555555555555556,
              "#d8576b"
             ],
             [
              0.6666666666666666,
              "#ed7953"
             ],
             [
              0.7777777777777778,
              "#fb9f3a"
             ],
             [
              0.8888888888888888,
              "#fdca26"
             ],
             [
              1,
              "#f0f921"
             ]
            ],
            "type": "heatmap"
           }
          ],
          "histogram": [
           {
            "marker": {
             "pattern": {
              "fillmode": "overlay",
              "size": 10,
              "solidity": 0.2
             }
            },
            "type": "histogram"
           }
          ],
          "histogram2d": [
           {
            "colorbar": {
             "outlinewidth": 0,
             "ticks": ""
            },
            "colorscale": [
             [
              0,
              "#0d0887"
             ],
             [
              0.1111111111111111,
              "#46039f"
             ],
             [
              0.2222222222222222,
              "#7201a8"
             ],
             [
              0.3333333333333333,
              "#9c179e"
             ],
             [
              0.4444444444444444,
              "#bd3786"
             ],
             [
              0.5555555555555556,
              "#d8576b"
             ],
             [
              0.6666666666666666,
              "#ed7953"
             ],
             [
              0.7777777777777778,
              "#fb9f3a"
             ],
             [
              0.8888888888888888,
              "#fdca26"
             ],
             [
              1,
              "#f0f921"
             ]
            ],
            "type": "histogram2d"
           }
          ],
          "histogram2dcontour": [
           {
            "colorbar": {
             "outlinewidth": 0,
             "ticks": ""
            },
            "colorscale": [
             [
              0,
              "#0d0887"
             ],
             [
              0.1111111111111111,
              "#46039f"
             ],
             [
              0.2222222222222222,
              "#7201a8"
             ],
             [
              0.3333333333333333,
              "#9c179e"
             ],
             [
              0.4444444444444444,
              "#bd3786"
             ],
             [
              0.5555555555555556,
              "#d8576b"
             ],
             [
              0.6666666666666666,
              "#ed7953"
             ],
             [
              0.7777777777777778,
              "#fb9f3a"
             ],
             [
              0.8888888888888888,
              "#fdca26"
             ],
             [
              1,
              "#f0f921"
             ]
            ],
            "type": "histogram2dcontour"
           }
          ],
          "mesh3d": [
           {
            "colorbar": {
             "outlinewidth": 0,
             "ticks": ""
            },
            "type": "mesh3d"
           }
          ],
          "parcoords": [
           {
            "line": {
             "colorbar": {
              "outlinewidth": 0,
              "ticks": ""
             }
            },
            "type": "parcoords"
           }
          ],
          "pie": [
           {
            "automargin": true,
            "type": "pie"
           }
          ],
          "scatter": [
           {
            "fillpattern": {
             "fillmode": "overlay",
             "size": 10,
             "solidity": 0.2
            },
            "type": "scatter"
           }
          ],
          "scatter3d": [
           {
            "line": {
             "colorbar": {
              "outlinewidth": 0,
              "ticks": ""
             }
            },
            "marker": {
             "colorbar": {
              "outlinewidth": 0,
              "ticks": ""
             }
            },
            "type": "scatter3d"
           }
          ],
          "scattercarpet": [
           {
            "marker": {
             "colorbar": {
              "outlinewidth": 0,
              "ticks": ""
             }
            },
            "type": "scattercarpet"
           }
          ],
          "scattergeo": [
           {
            "marker": {
             "colorbar": {
              "outlinewidth": 0,
              "ticks": ""
             }
            },
            "type": "scattergeo"
           }
          ],
          "scattergl": [
           {
            "marker": {
             "colorbar": {
              "outlinewidth": 0,
              "ticks": ""
             }
            },
            "type": "scattergl"
           }
          ],
          "scattermap": [
           {
            "marker": {
             "colorbar": {
              "outlinewidth": 0,
              "ticks": ""
             }
            },
            "type": "scattermap"
           }
          ],
          "scattermapbox": [
           {
            "marker": {
             "colorbar": {
              "outlinewidth": 0,
              "ticks": ""
             }
            },
            "type": "scattermapbox"
           }
          ],
          "scatterpolar": [
           {
            "marker": {
             "colorbar": {
              "outlinewidth": 0,
              "ticks": ""
             }
            },
            "type": "scatterpolar"
           }
          ],
          "scatterpolargl": [
           {
            "marker": {
             "colorbar": {
              "outlinewidth": 0,
              "ticks": ""
             }
            },
            "type": "scatterpolargl"
           }
          ],
          "scatterternary": [
           {
            "marker": {
             "colorbar": {
              "outlinewidth": 0,
              "ticks": ""
             }
            },
            "type": "scatterternary"
           }
          ],
          "surface": [
           {
            "colorbar": {
             "outlinewidth": 0,
             "ticks": ""
            },
            "colorscale": [
             [
              0,
              "#0d0887"
             ],
             [
              0.1111111111111111,
              "#46039f"
             ],
             [
              0.2222222222222222,
              "#7201a8"
             ],
             [
              0.3333333333333333,
              "#9c179e"
             ],
             [
              0.4444444444444444,
              "#bd3786"
             ],
             [
              0.5555555555555556,
              "#d8576b"
             ],
             [
              0.6666666666666666,
              "#ed7953"
             ],
             [
              0.7777777777777778,
              "#fb9f3a"
             ],
             [
              0.8888888888888888,
              "#fdca26"
             ],
             [
              1,
              "#f0f921"
             ]
            ],
            "type": "surface"
           }
          ],
          "table": [
           {
            "cells": {
             "fill": {
              "color": "#EBF0F8"
             },
             "line": {
              "color": "white"
             }
            },
            "header": {
             "fill": {
              "color": "#C8D4E3"
             },
             "line": {
              "color": "white"
             }
            },
            "type": "table"
           }
          ]
         },
         "layout": {
          "annotationdefaults": {
           "arrowcolor": "#2a3f5f",
           "arrowhead": 0,
           "arrowwidth": 1
          },
          "autotypenumbers": "strict",
          "coloraxis": {
           "colorbar": {
            "outlinewidth": 0,
            "ticks": ""
           }
          },
          "colorscale": {
           "diverging": [
            [
             0,
             "#8e0152"
            ],
            [
             0.1,
             "#c51b7d"
            ],
            [
             0.2,
             "#de77ae"
            ],
            [
             0.3,
             "#f1b6da"
            ],
            [
             0.4,
             "#fde0ef"
            ],
            [
             0.5,
             "#f7f7f7"
            ],
            [
             0.6,
             "#e6f5d0"
            ],
            [
             0.7,
             "#b8e186"
            ],
            [
             0.8,
             "#7fbc41"
            ],
            [
             0.9,
             "#4d9221"
            ],
            [
             1,
             "#276419"
            ]
           ],
           "sequential": [
            [
             0,
             "#0d0887"
            ],
            [
             0.1111111111111111,
             "#46039f"
            ],
            [
             0.2222222222222222,
             "#7201a8"
            ],
            [
             0.3333333333333333,
             "#9c179e"
            ],
            [
             0.4444444444444444,
             "#bd3786"
            ],
            [
             0.5555555555555556,
             "#d8576b"
            ],
            [
             0.6666666666666666,
             "#ed7953"
            ],
            [
             0.7777777777777778,
             "#fb9f3a"
            ],
            [
             0.8888888888888888,
             "#fdca26"
            ],
            [
             1,
             "#f0f921"
            ]
           ],
           "sequentialminus": [
            [
             0,
             "#0d0887"
            ],
            [
             0.1111111111111111,
             "#46039f"
            ],
            [
             0.2222222222222222,
             "#7201a8"
            ],
            [
             0.3333333333333333,
             "#9c179e"
            ],
            [
             0.4444444444444444,
             "#bd3786"
            ],
            [
             0.5555555555555556,
             "#d8576b"
            ],
            [
             0.6666666666666666,
             "#ed7953"
            ],
            [
             0.7777777777777778,
             "#fb9f3a"
            ],
            [
             0.8888888888888888,
             "#fdca26"
            ],
            [
             1,
             "#f0f921"
            ]
           ]
          },
          "colorway": [
           "#636efa",
           "#EF553B",
           "#00cc96",
           "#ab63fa",
           "#FFA15A",
           "#19d3f3",
           "#FF6692",
           "#B6E880",
           "#FF97FF",
           "#FECB52"
          ],
          "font": {
           "color": "#2a3f5f"
          },
          "geo": {
           "bgcolor": "white",
           "lakecolor": "white",
           "landcolor": "#E5ECF6",
           "showlakes": true,
           "showland": true,
           "subunitcolor": "white"
          },
          "hoverlabel": {
           "align": "left"
          },
          "hovermode": "closest",
          "mapbox": {
           "style": "light"
          },
          "paper_bgcolor": "white",
          "plot_bgcolor": "#E5ECF6",
          "polar": {
           "angularaxis": {
            "gridcolor": "white",
            "linecolor": "white",
            "ticks": ""
           },
           "bgcolor": "#E5ECF6",
           "radialaxis": {
            "gridcolor": "white",
            "linecolor": "white",
            "ticks": ""
           }
          },
          "scene": {
           "xaxis": {
            "backgroundcolor": "#E5ECF6",
            "gridcolor": "white",
            "gridwidth": 2,
            "linecolor": "white",
            "showbackground": true,
            "ticks": "",
            "zerolinecolor": "white"
           },
           "yaxis": {
            "backgroundcolor": "#E5ECF6",
            "gridcolor": "white",
            "gridwidth": 2,
            "linecolor": "white",
            "showbackground": true,
            "ticks": "",
            "zerolinecolor": "white"
           },
           "zaxis": {
            "backgroundcolor": "#E5ECF6",
            "gridcolor": "white",
            "gridwidth": 2,
            "linecolor": "white",
            "showbackground": true,
            "ticks": "",
            "zerolinecolor": "white"
           }
          },
          "shapedefaults": {
           "line": {
            "color": "#2a3f5f"
           }
          },
          "ternary": {
           "aaxis": {
            "gridcolor": "white",
            "linecolor": "white",
            "ticks": ""
           },
           "baxis": {
            "gridcolor": "white",
            "linecolor": "white",
            "ticks": ""
           },
           "bgcolor": "#E5ECF6",
           "caxis": {
            "gridcolor": "white",
            "linecolor": "white",
            "ticks": ""
           }
          },
          "title": {
           "x": 0.05
          },
          "xaxis": {
           "automargin": true,
           "gridcolor": "white",
           "linecolor": "white",
           "ticks": "",
           "title": {
            "standoff": 15
           },
           "zerolinecolor": "white",
           "zerolinewidth": 2
          },
          "yaxis": {
           "automargin": true,
           "gridcolor": "white",
           "linecolor": "white",
           "ticks": "",
           "title": {
            "standoff": 15
           },
           "zerolinecolor": "white",
           "zerolinewidth": 2
          }
         }
        },
        "xaxis": {
         "anchor": "y",
         "domain": [
          0,
          1
         ],
         "title": {
          "text": "Year"
         }
        },
        "yaxis": {
         "anchor": "x",
         "domain": [
          0,
          1
         ],
         "title": {
          "text": "Medal"
         }
        }
       }
      }
     },
     "metadata": {},
     "output_type": "display_data"
    }
   ],
   "source": [
    "fig = px.line(final_df , x='Year',y='Medal')\n",
    "fig.show()"
   ]
  },
  {
   "cell_type": "code",
   "execution_count": 286,
   "id": "5abffc3d",
   "metadata": {},
   "outputs": [
    {
     "data": {
      "text/plain": [
       "<Axes: xlabel='Year', ylabel='Sport'>"
      ]
     },
     "execution_count": 286,
     "metadata": {},
     "output_type": "execute_result"
    },
    {
     "data": {
      "image/png": "[encoded data removed]",
      "text/plain": [
       "<Figure size 2000x2000 with 2 Axes>"
      ]
     },
     "metadata": {},
     "output_type": "display_data"
    }
   ],
   "source": [
    "temp_df = df.dropna(subset=['Medal'])\n",
    "temp_df.drop_duplicates(subset=['Team','NOC','Games','Year','City','Sport','Event','Medal'] , inplace=True)\n",
    "temp_df = temp_df[temp_df['region'] == 'UK']\n",
    "plt.figure(figsize=(20,20))\n",
    "sns.heatmap(temp_df.pivot_table(index='Sport',columns='Year',values='Medal',aggfunc='count').fillna(0).astype(int),annot=True,cmap='Greens')"
   ]
  },
  {
   "cell_type": "code",
   "execution_count": 287,
   "id": "08855d7a",
   "metadata": {},
   "outputs": [
    {
     "data": {
      "text/html": [
       "<div>\n",
       "<style scoped>\n",
       "    .dataframe tbody tr th:only-of-type {\n",
       "        vertical-align: middle;\n",
       "    }\n",
       "\n",
       "    .dataframe tbody tr th {\n",
       "        vertical-align: top;\n",
       "    }\n",
       "\n",
       "    .dataframe thead th {\n",
       "        text-align: right;\n",
       "    }\n",
       "</style>\n",
       "<table border=\"1\" class=\"dataframe\">\n",
       "  <thead>\n",
       "    <tr style=\"text-align: right;\">\n",
       "      <th></th>\n",
       "      <th>Name</th>\n",
       "      <th>Medals</th>\n",
       "      <th>Region</th>\n",
       "      <th>Sport</th>\n",
       "    </tr>\n",
       "  </thead>\n",
       "  <tbody>\n",
       "  </tbody>\n",
       "</table>\n",
       "</div>"
      ],
      "text/plain": [
       "Empty DataFrame\n",
       "Columns: [Name, Medals, Region, Sport]\n",
       "Index: []"
      ]
     },
     "execution_count": 287,
     "metadata": {},
     "output_type": "execute_result"
    }
   ],
   "source": [
    "def most_successfull(df,country_name):\n",
    "    temp_df = df.dropna(subset=['Medal'])\n",
    "    \n",
    "    temp_df = temp_df[temp_df['region'] == country_name]\n",
    "\n",
    "    x =  temp_df['Name'].value_counts().reset_index().head(15).merge(df , on=\"Name\",how=\"left\")[['Name','count','region','Sport']].drop_duplicates()\n",
    "\n",
    "    x.rename(columns={'count':'Medals' , 'region' : 'Region'} , inplace=True)\n",
    "\n",
    "    return x \n",
    "\n",
    "most_successfull(df,'Judo')"
   ]
  },
  {
   "cell_type": "code",
   "execution_count": 288,
   "id": "81a1f800",
   "metadata": {},
   "outputs": [
    {
     "data": {
      "text/html": [
       "<div>\n",
       "<style scoped>\n",
       "    .dataframe tbody tr th:only-of-type {\n",
       "        vertical-align: middle;\n",
       "    }\n",
       "\n",
       "    .dataframe tbody tr th {\n",
       "        vertical-align: top;\n",
       "    }\n",
       "\n",
       "    .dataframe thead th {\n",
       "        text-align: right;\n",
       "    }\n",
       "</style>\n",
       "<table border=\"1\" class=\"dataframe\">\n",
       "  <thead>\n",
       "    <tr style=\"text-align: right;\">\n",
       "      <th></th>\n",
       "      <th>Name</th>\n",
       "      <th>Medals</th>\n",
       "      <th>Sport</th>\n",
       "    </tr>\n",
       "  </thead>\n",
       "  <tbody>\n",
       "    <tr>\n",
       "      <th>1</th>\n",
       "      <td>Michael Fred Phelps, II</td>\n",
       "      <td>28</td>\n",
       "      <td>Swimming</td>\n",
       "    </tr>\n",
       "    <tr>\n",
       "      <th>2</th>\n",
       "      <td>Ryan Steven Lochte</td>\n",
       "      <td>12</td>\n",
       "      <td>Swimming</td>\n",
       "    </tr>\n",
       "    <tr>\n",
       "      <th>3</th>\n",
       "      <td>Jennifer Elisabeth \"Jenny\" Thompson (-Cumpelik)</td>\n",
       "      <td>12</td>\n",
       "      <td>Swimming</td>\n",
       "    </tr>\n",
       "    <tr>\n",
       "      <th>4</th>\n",
       "      <td>Natalie Anne Coughlin (-Hall)</td>\n",
       "      <td>12</td>\n",
       "      <td>Swimming</td>\n",
       "    </tr>\n",
       "    <tr>\n",
       "      <th>5</th>\n",
       "      <td>Dara Grace Torres (-Hoffman, -Minas)</td>\n",
       "      <td>12</td>\n",
       "      <td>Swimming</td>\n",
       "    </tr>\n",
       "    <tr>\n",
       "      <th>6</th>\n",
       "      <td>Matthew Nicholas \"Matt\" Biondi</td>\n",
       "      <td>11</td>\n",
       "      <td>Swimming</td>\n",
       "    </tr>\n",
       "    <tr>\n",
       "      <th>7</th>\n",
       "      <td>Carl Townsend Osburn</td>\n",
       "      <td>11</td>\n",
       "      <td>Shooting</td>\n",
       "    </tr>\n",
       "    <tr>\n",
       "      <th>8</th>\n",
       "      <td>Mark Andrew Spitz</td>\n",
       "      <td>11</td>\n",
       "      <td>Swimming</td>\n",
       "    </tr>\n",
       "    <tr>\n",
       "      <th>9</th>\n",
       "      <td>Raymond Clarence \"Ray\" Ewry</td>\n",
       "      <td>10</td>\n",
       "      <td>Athletics</td>\n",
       "    </tr>\n",
       "    <tr>\n",
       "      <th>10</th>\n",
       "      <td>Frederick Carlton \"Carl\" Lewis</td>\n",
       "      <td>10</td>\n",
       "      <td>Athletics</td>\n",
       "    </tr>\n",
       "    <tr>\n",
       "      <th>11</th>\n",
       "      <td>Gary Wayne Hall, Jr.</td>\n",
       "      <td>10</td>\n",
       "      <td>Swimming</td>\n",
       "    </tr>\n",
       "    <tr>\n",
       "      <th>12</th>\n",
       "      <td>Allyson Michelle Felix</td>\n",
       "      <td>9</td>\n",
       "      <td>Athletics</td>\n",
       "    </tr>\n",
       "    <tr>\n",
       "      <th>13</th>\n",
       "      <td>Martin Joseph Sheridan</td>\n",
       "      <td>9</td>\n",
       "      <td>Athletics</td>\n",
       "    </tr>\n",
       "    <tr>\n",
       "      <th>14</th>\n",
       "      <td>Shirley Frances Babashoff</td>\n",
       "      <td>9</td>\n",
       "      <td>Swimming</td>\n",
       "    </tr>\n",
       "    <tr>\n",
       "      <th>15</th>\n",
       "      <td>Nathan Ghar-Jun Adrian</td>\n",
       "      <td>8</td>\n",
       "      <td>Swimming</td>\n",
       "    </tr>\n",
       "  </tbody>\n",
       "</table>\n",
       "</div>"
      ],
      "text/plain": [
       "                                               Name  Medals      Sport\n",
       "1                           Michael Fred Phelps, II      28   Swimming\n",
       "2                                Ryan Steven Lochte      12   Swimming\n",
       "3   Jennifer Elisabeth \"Jenny\" Thompson (-Cumpelik)      12   Swimming\n",
       "4                     Natalie Anne Coughlin (-Hall)      12   Swimming\n",
       "5              Dara Grace Torres (-Hoffman, -Minas)      12   Swimming\n",
       "6                    Matthew Nicholas \"Matt\" Biondi      11   Swimming\n",
       "7                              Carl Townsend Osburn      11   Shooting\n",
       "8                                 Mark Andrew Spitz      11   Swimming\n",
       "9                       Raymond Clarence \"Ray\" Ewry      10  Athletics\n",
       "10                   Frederick Carlton \"Carl\" Lewis      10  Athletics\n",
       "11                             Gary Wayne Hall, Jr.      10   Swimming\n",
       "12                           Allyson Michelle Felix       9  Athletics\n",
       "13                           Martin Joseph Sheridan       9  Athletics\n",
       "14                        Shirley Frances Babashoff       9   Swimming\n",
       "15                           Nathan Ghar-Jun Adrian       8   Swimming"
      ]
     },
     "execution_count": 288,
     "metadata": {},
     "output_type": "execute_result"
    }
   ],
   "source": [
    "temp_df = df.dropna(subset=['Medal'])\n",
    "temp_df = temp_df[temp_df['region'] == \"USA\"]\n",
    "x = temp_df['Name'].value_counts().reset_index().head(15).merge(df , on='Name',how='left')[['Name','count','Sport']].drop_duplicates()\n",
    "x.rename(columns={'count':'Medals'} , inplace=True)\n",
    "x = x.reset_index(drop=True)\n",
    "x.index = x.index + 1\n",
    "x  "
   ]
  },
  {
   "cell_type": "code",
   "execution_count": 289,
   "id": "a5529299",
   "metadata": {},
   "outputs": [
    {
     "data": {
      "text/html": [
       "<div>\n",
       "<style scoped>\n",
       "    .dataframe tbody tr th:only-of-type {\n",
       "        vertical-align: middle;\n",
       "    }\n",
       "\n",
       "    .dataframe tbody tr th {\n",
       "        vertical-align: top;\n",
       "    }\n",
       "\n",
       "    .dataframe thead th {\n",
       "        text-align: right;\n",
       "    }\n",
       "</style>\n",
       "<table border=\"1\" class=\"dataframe\">\n",
       "  <thead>\n",
       "    <tr style=\"text-align: right;\">\n",
       "      <th></th>\n",
       "      <th>ID</th>\n",
       "      <th>Name</th>\n",
       "      <th>Sex</th>\n",
       "      <th>Age</th>\n",
       "      <th>Height</th>\n",
       "      <th>Weight</th>\n",
       "      <th>Team</th>\n",
       "      <th>NOC</th>\n",
       "      <th>Games</th>\n",
       "      <th>Year</th>\n",
       "      <th>Season</th>\n",
       "      <th>City</th>\n",
       "      <th>Sport</th>\n",
       "      <th>Event</th>\n",
       "      <th>Medal</th>\n",
       "      <th>region</th>\n",
       "      <th>notes</th>\n",
       "      <th>Bronze</th>\n",
       "      <th>Gold</th>\n",
       "      <th>Silver</th>\n",
       "    </tr>\n",
       "  </thead>\n",
       "  <tbody>\n",
       "    <tr>\n",
       "      <th>0</th>\n",
       "      <td>1</td>\n",
       "      <td>A Dijiang</td>\n",
       "      <td>M</td>\n",
       "      <td>24.0</td>\n",
       "      <td>180.0</td>\n",
       "      <td>80.0</td>\n",
       "      <td>China</td>\n",
       "      <td>CHN</td>\n",
       "      <td>1992 Summer</td>\n",
       "      <td>1992</td>\n",
       "      <td>Summer</td>\n",
       "      <td>Barcelona</td>\n",
       "      <td>Basketball</td>\n",
       "      <td>Basketball Men's Basketball</td>\n",
       "      <td>NaN</td>\n",
       "      <td>China</td>\n",
       "      <td>NaN</td>\n",
       "      <td>0</td>\n",
       "      <td>0</td>\n",
       "      <td>0</td>\n",
       "    </tr>\n",
       "    <tr>\n",
       "      <th>1</th>\n",
       "      <td>2</td>\n",
       "      <td>A Lamusi</td>\n",
       "      <td>M</td>\n",
       "      <td>23.0</td>\n",
       "      <td>170.0</td>\n",
       "      <td>60.0</td>\n",
       "      <td>China</td>\n",
       "      <td>CHN</td>\n",
       "      <td>2012 Summer</td>\n",
       "      <td>2012</td>\n",
       "      <td>Summer</td>\n",
       "      <td>London</td>\n",
       "      <td>Judo</td>\n",
       "      <td>Judo Men's Extra-Lightweight</td>\n",
       "      <td>NaN</td>\n",
       "      <td>China</td>\n",
       "      <td>NaN</td>\n",
       "      <td>0</td>\n",
       "      <td>0</td>\n",
       "      <td>0</td>\n",
       "    </tr>\n",
       "    <tr>\n",
       "      <th>2</th>\n",
       "      <td>3</td>\n",
       "      <td>Gunnar Nielsen Aaby</td>\n",
       "      <td>M</td>\n",
       "      <td>24.0</td>\n",
       "      <td>NaN</td>\n",
       "      <td>NaN</td>\n",
       "      <td>Denmark</td>\n",
       "      <td>DEN</td>\n",
       "      <td>1920 Summer</td>\n",
       "      <td>1920</td>\n",
       "      <td>Summer</td>\n",
       "      <td>Antwerpen</td>\n",
       "      <td>Football</td>\n",
       "      <td>Football Men's Football</td>\n",
       "      <td>NaN</td>\n",
       "      <td>Denmark</td>\n",
       "      <td>NaN</td>\n",
       "      <td>0</td>\n",
       "      <td>0</td>\n",
       "      <td>0</td>\n",
       "    </tr>\n",
       "    <tr>\n",
       "      <th>3</th>\n",
       "      <td>4</td>\n",
       "      <td>Edgar Lindenau Aabye</td>\n",
       "      <td>M</td>\n",
       "      <td>34.0</td>\n",
       "      <td>NaN</td>\n",
       "      <td>NaN</td>\n",
       "      <td>Denmark/Sweden</td>\n",
       "      <td>DEN</td>\n",
       "      <td>1900 Summer</td>\n",
       "      <td>1900</td>\n",
       "      <td>Summer</td>\n",
       "      <td>Paris</td>\n",
       "      <td>Tug-Of-War</td>\n",
       "      <td>Tug-Of-War Men's Tug-Of-War</td>\n",
       "      <td>Gold</td>\n",
       "      <td>Denmark</td>\n",
       "      <td>NaN</td>\n",
       "      <td>0</td>\n",
       "      <td>1</td>\n",
       "      <td>0</td>\n",
       "    </tr>\n",
       "    <tr>\n",
       "      <th>4</th>\n",
       "      <td>8</td>\n",
       "      <td>Cornelia \"Cor\" Aalten (-Strannood)</td>\n",
       "      <td>F</td>\n",
       "      <td>18.0</td>\n",
       "      <td>168.0</td>\n",
       "      <td>NaN</td>\n",
       "      <td>Netherlands</td>\n",
       "      <td>NED</td>\n",
       "      <td>1932 Summer</td>\n",
       "      <td>1932</td>\n",
       "      <td>Summer</td>\n",
       "      <td>Los Angeles</td>\n",
       "      <td>Athletics</td>\n",
       "      <td>Athletics Women's 100 metres</td>\n",
       "      <td>NaN</td>\n",
       "      <td>Netherlands</td>\n",
       "      <td>NaN</td>\n",
       "      <td>0</td>\n",
       "      <td>0</td>\n",
       "      <td>0</td>\n",
       "    </tr>\n",
       "  </tbody>\n",
       "</table>\n",
       "</div>"
      ],
      "text/plain": [
       "   ID                                Name Sex   Age  Height  Weight  \\\n",
       "0   1                           A Dijiang   M  24.0   180.0    80.0   \n",
       "1   2                            A Lamusi   M  23.0   170.0    60.0   \n",
       "2   3                 Gunnar Nielsen Aaby   M  24.0     NaN     NaN   \n",
       "3   4                Edgar Lindenau Aabye   M  34.0     NaN     NaN   \n",
       "4   8  Cornelia \"Cor\" Aalten (-Strannood)   F  18.0   168.0     NaN   \n",
       "\n",
       "             Team  NOC        Games  Year  Season         City       Sport  \\\n",
       "0           China  CHN  1992 Summer  1992  Summer    Barcelona  Basketball   \n",
       "1           China  CHN  2012 Summer  2012  Summer       London        Judo   \n",
       "2         Denmark  DEN  1920 Summer  1920  Summer    Antwerpen    Football   \n",
       "3  Denmark/Sweden  DEN  1900 Summer  1900  Summer        Paris  Tug-Of-War   \n",
       "4     Netherlands  NED  1932 Summer  1932  Summer  Los Angeles   Athletics   \n",
       "\n",
       "                          Event Medal       region notes  Bronze  Gold  Silver  \n",
       "0   Basketball Men's Basketball   NaN        China   NaN       0     0       0  \n",
       "1  Judo Men's Extra-Lightweight   NaN        China   NaN       0     0       0  \n",
       "2       Football Men's Football   NaN      Denmark   NaN       0     0       0  \n",
       "3   Tug-Of-War Men's Tug-Of-War  Gold      Denmark   NaN       0     1       0  \n",
       "4  Athletics Women's 100 metres   NaN  Netherlands   NaN       0     0       0  "
      ]
     },
     "execution_count": 289,
     "metadata": {},
     "output_type": "execute_result"
    }
   ],
   "source": [
    "df.head()"
   ]
  },
  {
   "cell_type": "code",
   "execution_count": 290,
   "id": "9c3e76c5",
   "metadata": {},
   "outputs": [
    {
     "data": {
      "text/plain": [
       "Age\n",
       "23.0    2610\n",
       "24.0    2519\n",
       "22.0    2427\n",
       "25.0    2414\n",
       "26.0    2276\n",
       "        ... \n",
       "11.0       1\n",
       "10.0       1\n",
       "73.0       1\n",
       "71.0       1\n",
       "65.0       1\n",
       "Name: count, Length: 61, dtype: int64"
      ]
     },
     "execution_count": 290,
     "metadata": {},
     "output_type": "execute_result"
    }
   ],
   "source": [
    "temp_df = df.dropna(subset=['Medal'])\n",
    "temp_df = temp_df.drop_duplicates(subset=['Name','Age','Height','Weight','region'])[['Name','Age']]\n",
    "temp_df['Age'].value_counts()"
   ]
  },
  {
   "cell_type": "code",
   "execution_count": 291,
   "id": "ba0b58ed",
   "metadata": {},
   "outputs": [],
   "source": [
    "import plotly.figure_factory as ff"
   ]
  },
  {
   "cell_type": "code",
   "execution_count": 292,
   "id": "d0015a07",
   "metadata": {},
   "outputs": [],
   "source": [
    "athelete_df = df.drop_duplicates(subset=['Name','region'])"
   ]
  },
  {
   "cell_type": "code",
   "execution_count": 293,
   "id": "01c1c294",
   "metadata": {},
   "outputs": [],
   "source": [
    "all_ath = athelete_df.Age.dropna()\n",
    "gold_ath = athelete_df[athelete_df['Medal'] == 'Gold']['Age'].dropna()\n",
    "silver_ath = athelete_df[athelete_df['Medal'] == 'Silver']['Age'].dropna()\n",
    "bronze_ath = athelete_df[athelete_df['Medal'] == 'Bronze']['Age'].dropna()"
   ]
  },
  {
   "cell_type": "code",
   "execution_count": 294,
   "id": "57411631",
   "metadata": {},
   "outputs": [
    {
     "data": {
      "application/vnd.plotly.v1+json": {
       "config": {
        "plotlyServerURL": "https://plot.ly"
       },
       "data": [
        {
         "legendgroup": "Overall Age",
         "marker": {
          "color": "rgb(31, 119, 180)"
         },
         "mode": "lines",
         "name": "Overall Age",
         "showlegend": true,
         "type": "scatter",
         "x": [
          10,
          10.174,
          10.348,
          10.522,
          10.696,
          10.87,
          11.044,
          11.218,
          11.392,
          11.566,
          11.74,
          11.914,
          12.088000000000001,
          12.262,
          12.436,
          12.61,
          12.783999999999999,
          12.958,
          13.132,
          13.306000000000001,
          13.48,
          13.654,
          13.828,
          14.001999999999999,
          14.176,
          14.35,
          14.524000000000001,
          14.698,
          14.872,
          15.046,
          15.219999999999999,
          15.394,
          15.568,
          15.742,
          15.916,
          16.09,
          16.264,
          16.438,
          16.612000000000002,
          16.786,
          16.96,
          17.134,
          17.308,
          17.482,
          17.656,
          17.83,
          18.003999999999998,
          18.178,
          18.352,
          18.526,
          18.7,
          18.874000000000002,
          19.048000000000002,
          19.222,
          19.396,
          19.57,
          19.744,
          19.918,
          20.092,
          20.266,
          20.439999999999998,
          20.614,
          20.788,
          20.962,
          21.136,
          21.310000000000002,
          21.484,
          21.658,
          21.832,
          22.006,
          22.18,
          22.354,
          22.528,
          22.701999999999998,
          22.875999999999998,
          23.05,
          23.224,
          23.398,
          23.572,
          23.746000000000002,
          23.92,
          24.094,
          24.268,
          24.442,
          24.616,
          24.79,
          24.964,
          25.137999999999998,
          25.311999999999998,
          25.486,
          25.66,
          25.834,
          26.008,
          26.182,
          26.356,
          26.53,
          26.704,
          26.878,
          27.052,
          27.226,
          27.4,
          27.574,
          27.748,
          27.922,
          28.096,
          28.27,
          28.444,
          28.618,
          28.792,
          28.966,
          29.14,
          29.314,
          29.488,
          29.662,
          29.836,
          30.01,
          30.184,
          30.358,
          30.532,
          30.706,
          30.88,
          31.054,
          31.228,
          31.402,
          31.576,
          31.75,
          31.924,
          32.098,
          32.272,
          32.446,
          32.620000000000005,
          32.794,
          32.968,
          33.141999999999996,
          33.316,
          33.489999999999995,
          33.664,
          33.838,
          34.012,
          34.186,
          34.36,
          34.534,
          34.708,
          34.882000000000005,
          35.056,
          35.230000000000004,
          35.403999999999996,
          35.578,
          35.751999999999995,
          35.926,
          36.1,
          36.274,
          36.448,
          36.622,
          36.796,
          36.97,
          37.144,
          37.318,
          37.492000000000004,
          37.666,
          37.84,
          38.013999999999996,
          38.188,
          38.361999999999995,
          38.536,
          38.71,
          38.884,
          39.058,
          39.232,
          39.406,
          39.58,
          39.754000000000005,
          39.928,
          40.102000000000004,
          40.275999999999996,
          40.45,
          40.623999999999995,
          40.798,
          40.972,
          41.146,
          41.32,
          41.494,
          41.668,
          41.842,
          42.016,
          42.19,
          42.364,
          42.538,
          42.712,
          42.886,
          43.06,
          43.234,
          43.408,
          43.582,
          43.756,
          43.93,
          44.104,
          44.278,
          44.452,
          44.626,
          44.8,
          44.974,
          45.148,
          45.322,
          45.496,
          45.67,
          45.844,
          46.018,
          46.192,
          46.366,
          46.54,
          46.714,
          46.888,
          47.062,
          47.236,
          47.41,
          47.584,
          47.758,
          47.932,
          48.106,
          48.28,
          48.454,
          48.628,
          48.802,
          48.976,
          49.15,
          49.324,
          49.498,
          49.672,
          49.846,
          50.02,
          50.194,
          50.368,
          50.542,
          50.716,
          50.89,
          51.064,
          51.238,
          51.412,
          51.586,
          51.76,
          51.934,
          52.108,
          52.282,
          52.456,
          52.63,
          52.804,
          52.978,
          53.152,
          53.326,
          53.5,
          53.674,
          53.848,
          54.022,
          54.196,
          54.37,
          54.544,
          54.718,
          54.892,
          55.066,
          55.24,
          55.414,
          55.588,
          55.762,
          55.936,
          56.11,
          56.284,
          56.458,
          56.632,
          56.806,
          56.98,
          57.154,
          57.328,
          57.502,
          57.676,
          57.85,
          58.024,
          58.198,
          58.372,
          58.546,
          58.72,
          58.894,
          59.068,
          59.242,
          59.416,
          59.59,
          59.764,
          59.938,
          60.112,
          60.286,
          60.46,
          60.634,
          60.808,
          60.982,
          61.156,
          61.33,
          61.504,
          61.678,
          61.852,
          62.026,
          62.2,
          62.374,
          62.548,
          62.722,
          62.896,
          63.07,
          63.244,
          63.418,
          63.592,
          63.766,
          63.94,
          64.114,
          64.288,
          64.462,
          64.636,
          64.81,
          64.98400000000001,
          65.158,
          65.332,
          65.506,
          65.68,
          65.854,
          66.02799999999999,
          66.202,
          66.376,
          66.55,
          66.72399999999999,
          66.898,
          67.072,
          67.24600000000001,
          67.42,
          67.594,
          67.768,
          67.94200000000001,
          68.116,
          68.28999999999999,
          68.464,
          68.638,
          68.812,
          68.98599999999999,
          69.16,
          69.334,
          69.50800000000001,
          69.682,
          69.856,
          70.03,
          70.20400000000001,
          70.378,
          70.55199999999999,
          70.726,
          70.9,
          71.074,
          71.24799999999999,
          71.422,
          71.596,
          71.77000000000001,
          71.944,
          72.118,
          72.292,
          72.46600000000001,
          72.64,
          72.814,
          72.988,
          73.162,
          73.336,
          73.50999999999999,
          73.684,
          73.858,
          74.032,
          74.206,
          74.38,
          74.554,
          74.728,
          74.902,
          75.076,
          75.25,
          75.424,
          75.598,
          75.772,
          75.946,
          76.12,
          76.294,
          76.468,
          76.642,
          76.816,
          76.99,
          77.164,
          77.338,
          77.512,
          77.686,
          77.86,
          78.034,
          78.208,
          78.382,
          78.556,
          78.73,
          78.904,
          79.078,
          79.252,
          79.426,
          79.6,
          79.774,
          79.948,
          80.122,
          80.296,
          80.47,
          80.644,
          80.818,
          80.992,
          81.166,
          81.34,
          81.514,
          81.688,
          81.862,
          82.036,
          82.21,
          82.384,
          82.558,
          82.732,
          82.906,
          83.08,
          83.254,
          83.428,
          83.602,
          83.776,
          83.95,
          84.124,
          84.298,
          84.472,
          84.646,
          84.82,
          84.994,
          85.168,
          85.342,
          85.516,
          85.69,
          85.864,
          86.038,
          86.212,
          86.386,
          86.56,
          86.734,
          86.908,
          87.082,
          87.256,
          87.43,
          87.604,
          87.778,
          87.952,
          88.126,
          88.3,
          88.474,
          88.648,
          88.822,
          88.996,
          89.17,
          89.344,
          89.518,
          89.692,
          89.866,
          90.04,
          90.214,
          90.388,
          90.562,
          90.736,
          90.91,
          91.084,
          91.258,
          91.432,
          91.606,
          91.78,
          91.954,
          92.128,
          92.302,
          92.476,
          92.65,
          92.824,
          92.998,
          93.172,
          93.346,
          93.52,
          93.694,
          93.868,
          94.042,
          94.216,
          94.39,
          94.564,
          94.738,
          94.912,
          95.086,
          95.26,
          95.434,
          95.608,
          95.782,
          95.956,
          96.13,
          96.304,
          96.478,
          96.652,
          96.826
         ],
         "xaxis": "x",
         "y": {
          "bdata": "q1+rgfBt5j4yWa9pfDzsPjhc7Y7N3/E+gY+BdbD29j6OoHv0Jg3+PikcUNQBBQQ/GYNzOxMGCz84V4K2XVESP6AblA36sxg/0tLCHuN3ID/6TWbf/rIlP9hCSCmPXSw/94oR+4J3Mj/Dh8IfZPU3Pw8+Q/zV3T4/jD1ZQgysQz+BCZsCk8xIPwYAEPYjBU8/h3X4oRdTUz8Wg8KVF/9XP0y26y+6l10/mLN8BZoJYj9FeCRUu7JlP9hfne6L0mk/WQWtsMOJbj/wYyLzDPxxP6YsmBb7DHU/oVo9HopeeD8zFGi6wNB7PxJ/4KumWH8/Td9nhmKGgT/FR2hL0oiDP+dYpO+UuoU/WrjrYvQOiD9eaA9+VHKKP4acOE6Y4Yw/mem0odRzjz/MedJzpSSRP+qMgOZwt5I/FHR0t29qlD+w74GTFjOWP6C4sAS3FJg/w0FPiswimj8lmgmMUW+cP150AgAX9p4/iJSHIYLOoD8o9bGvlyaiP1wiqQowhqM/qGxXcLn8pD+NE+KULZWmP2yPpxyjRqg/6bkD+074qT8pL1xIv5erP0xmUDdsK60/3FPeN7PMrj8VA00zbkawP0/pnEkyMLE/49oXaecTsj9L3GpTc+eyP4tOGV3PsLM/6UCpDPF+tD/EjV0RHFe1Py7yQNMgKrY/Kv4Vymzetj/mTA6wcma3PwIO/cL0zLc/yOGnnuApuD+m35brUIq4P4ylNHkS5Lg/ZVX0moohuT8WxW/PeDm5PzyIHpZyObk/vXUc59Q3uT8hwCnk4ju5P8RL/F1jNbk/fgTNY+QMuT/39ZpG57u4P4twx2L5U7g/aW7oFbjttz+8dlBDvJG3PxL/JSUfM7c/lqdv2TvAtj9ounkVJje2Px3A7olaqLU/wkEx97sltT/5GtrVnrC0P70pSpzEObQ/JHieFISysz+zm3WzcByzP4u7QaFMh7I/xvc1hFgAsj8Usyr+JoWxP0HhOJ5xB7E/aoyhWPh8sD9Co2G8c9SvPxWA7k1suq4/0gNKClW9rT8vhxikYdOsP0GriNL+46s/ohqi7pLiqj/EvbYur9qpPyMKTOT34ag/xNTP/DQAqD9YN8rSMyenP+Smz4IZQqY/H2pbiwhLpT+W9emam1CkP/iTjdfWZqM/00+nu2GUoj9UTFVgHM+hP0R4TZW5CaE/Hx/mMYdCoD/Pzx+n7AefPxZXGtp+r50/9xH8Z9h2nD8psiv110SbP9hi1yWMBZo/ObVaY1C9mD+8d7gMnoKXP39uxVTpZpY/VuuH001nlT8d8Za+aXOUP/PC2zW3gJM/W1Ryt/yUkj/cvNme772RP/dyr9vBAJE/IxhSUNVTkD8+EmvuMVGPP6h3x1049I0/WSl8KamhjD/jIAxDDXGLP96QSL6+Z4o/QRMJ5ll1iT/Z20oC3YaIP4tn1lgOmoc/Aes3xGS8hj+27ALFIPiFP2/v3mY7RYU/cV5KA52OhD//InhsucWDPxRYDyrA74I/IQySLDEfgj9VLkjzeGGBP2AN62fJs4A/8vHkeHQJgD+Y4dS7w7Z+P/f5eziaX30/1CLpISomfD8dXd0bHRV7P+Z2Qi5qH3o/3P29gx4weT9y79Fc0kB4PwfQo1eRXnc/sgN/EG2Zdj9qB2GQ1PF1P+WXAq7RV3U/UZ6EtOi7dD/0ZW45ih50P4zhTjyojXM/g91wcPoTcz8T5J5tmKxyP82gABn+R3I/M8Zp/k7ccT9nh28H7W5xP3AU1FFgDXE/KRPbKs69cD9qhXMM63dwPyusXXeRLXA/MeqFWjSybz+fjDudbQNvPx/BzumRYm4/DF1Tb/jNbT9vb5EGqiptPz3yGrpQXGw/ROMlDsRgaz+lXGKjyFNqP/3MSOWDWGk///yuqRiAaD8iGBC4RMVnP3dAe2EtHWc/Qo8Y9iCIZj/j4pQq9g9mP/BRoTDat2U/eiWUlLlxZT+9hhAopSZlP0KTV6sPymQ/1Dz2FHhjZD8sLTlDMgRkPxwUmNcntGM/Ny9rpK9pYz+jAcZZXBRjP4rR1eBxrmI/YaCMOylCYj+pXmiohN1hP5qHSzIngmE/Tw57Y4QiYT+Rh/ShOq9gP79DO2prJmA/ynud3ZIqXz+K2NFLxxVePxwxOOqbFF0/6j4epCYUXD+k2Egv8ABbP8e3Bchb3lk/G6zA5ZTFWD8MqDMTcs9XP2xYxYKJAVc/DytP1KlQVj+cAZhSu7JVP7/Y0HufKlU/AhOa9H7BVD9aCO+0vXZUPxKkcLQbOlQ/UYe/cbj3Uz+RnCEvialTP0qnX/mbW1M/E97C0a8eUz8UsZh2bvdSPyvC/DKO21I/EncB2na+Uj+xSwCIEJ5SP0MmQvWbgFI/zXYXeH1lUj+SdZeaKzpSP7+f+VxV4VE/6fzR6+FHUT//R8HS53RQP0jgkQ4nDE8/J2IdXrw4TT+BqDnaNpVLP6kcfaK+Jko/+X4+PGrnSD+gyH23I9pHP4ViAJzvCUc/CoonMCh7Rj/A1AICdiNGP0nCylF58kU/RLCKKuDfRT/NBs3c4OxFP7FNOsgQFkY/k7wkgt5FRj+rhDEsVVlGPy/61yzpNUY/TaXXehTcRT+DXsJbOGRFPyLAheNe6EQ/7cBAyiBwRD+66RhP4vBDPy2ZZ6d6X0M/NR7yGmy/Qj8aQSpfISBCPyvxKBGIjEE/kZUeh3H/QD9Foty5PmlAPwmPHvCwgT8/e0bMp2cdPj+wYeY7Uc88P29QsxMbvDs/nbvX0wPwOj9xmtpXWWQ6P1sOYkM5EDo/vbnWfgztOT9x834cCuk5PysQ4f1F2jk/Ec/zj9aHOT9FeMAhncg4P7t+d8+enzc/6j+d96Q9Nj9XiDVxN+c0P2CDBiT91DM/3I2X/f8kMz8SOEDKdN8yPxwwIEvv/zI/F6kePQB2Mz/FXc6JyiA0P0bDr2dL0zQ/IXi/V19mNT+DUEJiyMs1PxN31oS2DzY/U/287ydFNj/2dWToiG42PzUcTlfEeDY/zUyB2zJNNj/zjN4cGOg1PypZ4ygEXTU/HVZ/jQDFND8pL2lVwyg0P0deufp8fDM/2Xm0xIawMj8kWuz5psUxPxVSvotz0TA/mEfovaPgLz/eyJE0QWguP75tjZWQPi0/Lulw2SVaLD+Nwy5DkrUrP3tz2wPBTSs/mU2lbcMRKz+dVdir09sqP5MsuH5MgSo/DE5xgcLsKT8A8SmlIygpP6+ojUelSyg/qMBUP7lhJz+xkEKUg1smPzTbJOQOISU/eZmqIN+tIz/LbOG7CiAiP7F0k5JBriA/qM4lHncfHz8vS155FNMdP/Lp5IDTkx0/jMJvn6xVHj/V2uJsvuQfPydOJ/mg8SA/ViA4aB3sIT9MU6+8yasiP9nUoqk/FyM/CK5ciyw4Iz/P10A04yojP88o5rD+AyM/Y7NiUkzCIj+Wo8wrklciPxMzGg9AvSE/L1qCcOX/ID+D5pBc/TYgPwM5kalD5R4/W0MYSnFjHT9F5/MHWdIbP4fm/XieJho/BJTMpxtvGD9YvoVA+ccWP3ac7XXRQRU/BIOGP/HWEz/fEmMWtXcSP5TVRLhZHxE/YnPTZwy5Dz8AoELrd48NP3CC/kKs5ws/LfoFeCzPCj9ZZGL0pUUKP4RR1z93Swo/C6gcsgDjCj+PbYgacggMP6CMvTo+sA0/8Qq+c6bQDz+xNrEqBjMRP53aMcsgsBI/GAXlGDtAFD/E3w9FCaUVP2ILsBXPkRY/XImWI4LOFj/1kkAX7FQWP3GtKUZvUBU/acHJmhAAFD9Mx7Ixh5ISPxLm3J4aFxE/67TIaF0UDz+kG0fpJdoLP1ooo16/pQg/w0MMKF60BT9F6HVctzoDP2+2PRwwUAE/ssSCk4Pg/z4U3EeN0A3+PnzakuOY8Pw+gZIIr6ZB/D5sBQjoC677Pn9817Lv7Po+9hdUGZ/c+T7v/KhEto34PnoaXROAMPc+aOOSbFzz9T6RWgms0+z0Pn2D6TevHfQ+ZKiLznV/8z7SkyoVGgvzPm+19TR6sfI+Azo6CoVS8j44fhn6G8PxPr5tC8kY4vA+YjQeBS1X7z5MLv9XSHLsPnyGno+QXOk+uy2OmbFD5j56dEhbHSzjPibQU2YoBuA+zi58srOh2T4/3UJ/4ljTPlpWqHq+Q8s+lAl4LbfQwT4pzstH/KC1PmSo/A7KIak+h6m7+lHEnz5+JzYETwSdPuPLYc6ry6Q+f1pN1/G2sT7fxo0zgqm9Phjpvf8JHcc+f/Y7oESY0D4/4C4GMvzVPrsZG6DDBds+KH2zC24W3z7CCWdQp+/gPuWbtRjBtuE+tlmAtQD/4T75aopVc9zhPmQjHkCzROE+qHaelygZ4D5yh9V/vY7cPqyAfcYZzNc+1R/Q0CRy0j6ZHgQIvWnKPsgZ+rEEY8E+tfuztwf8tD5jQv7JMy2nPtiG2yI1Zpc+2Ucb9ceUhT5UOUioFS1yPjq8gEmp81s+mjndVYeeQz7KIFbqhSMpPvjkJ9JUZg0+Uy4L95Fh7z1doSI0OpLOPSK1zFV6Lqs9uLNMioIQhj3kT9ybU5BgPcOSwYqwJkE9Se0xB3x4Uz0Asdvd2Ot5PbxICX0RbqA9l6914JgHwz31pO0UwR3kPQH20wxTaAM+1GFleaEWIT7ogOUk5nY7Pn/UswqKJFQ+dfpVFhj3aj5gz30eCXmAPjj0PWdIXpI+8nvFWmaxoj4msemMoVyxPgXtTU0jb70+xYIgTmnFxj51h73F6RPQPpDA2uuDuNQ+oQj7C0Nf2D4QOTgyvynaPt6wsJzwodk+DvTBvV/r1j7MTuLYGbTSPtRySuon3Ms+Kk9LKO7vwj7sL5+z6363PqSRnkoCm6o+V4WBp9Z+mz6ww5/m7+6JPvZgZSvXUnY+CkCIJLSJYT628XJXRSZJPnLX10YSdTA+XQ9QakyoEz7uaN9H0231PQveblrmUdU9Xsehq9Zbsz2xKpq87AqQPQERAd1TRGg94i7ZjifAQD3TK7WkQRsVPSjG69NhY+g83f7u5nztwDwrIw0eEInRPGrRwfpho/48WPMYJf+AKT1vKjEidmNTPZZ4W9WS53o9TdHfLmsJoT18+TDgKLHDPRZWjBX6xeQ95fygkhwABD5klr8DNJMhPmeRB7r6MDw+5qyBPjKjVD5959j5uZRrPoau+uVJ04A++uO/6oC+kj6kDb7YyxKjPg++xyHQvLE+HWmOqqItvj5S7uv9JYXHPkCzDygq1tA+jHWypKI61j42ahMn+jvbPkQHgM2YPt8+/uCqww/84D4CkyibnbzhPqDu7Ky2/+E+QLzm7z3Y4T6EJOWDaTrhPg==",
          "dtype": "f8"
         },
         "yaxis": "y"
        },
        {
         "legendgroup": "Gold Medalist",
         "marker": {
          "color": "rgb(255, 127, 14)"
         },
         "mode": "lines",
         "name": "Gold Medalist",
         "showlegend": true,
         "type": "scatter",
         "x": [
          13,
          13.102,
          13.204,
          13.306,
          13.408,
          13.51,
          13.612,
          13.714,
          13.816,
          13.918,
          14.02,
          14.122,
          14.224,
          14.326,
          14.428,
          14.53,
          14.632,
          14.734,
          14.836,
          14.938,
          15.04,
          15.142,
          15.244,
          15.346,
          15.448,
          15.55,
          15.652000000000001,
          15.754,
          15.856,
          15.958,
          16.06,
          16.162,
          16.264,
          16.366,
          16.468,
          16.57,
          16.672,
          16.774,
          16.876,
          16.978,
          17.08,
          17.182000000000002,
          17.284,
          17.386,
          17.488,
          17.59,
          17.692,
          17.794,
          17.896,
          17.998,
          18.1,
          18.201999999999998,
          18.304000000000002,
          18.406,
          18.508,
          18.61,
          18.712,
          18.814,
          18.916,
          19.018,
          19.12,
          19.222,
          19.323999999999998,
          19.426000000000002,
          19.528,
          19.63,
          19.732,
          19.834,
          19.936,
          20.038,
          20.14,
          20.242,
          20.344,
          20.445999999999998,
          20.548000000000002,
          20.65,
          20.752,
          20.854,
          20.956,
          21.058,
          21.16,
          21.262,
          21.364,
          21.466,
          21.567999999999998,
          21.67,
          21.772,
          21.874000000000002,
          21.976,
          22.078,
          22.18,
          22.282,
          22.384,
          22.486,
          22.588,
          22.689999999999998,
          22.792,
          22.894,
          22.996000000000002,
          23.098,
          23.2,
          23.302,
          23.404,
          23.506,
          23.608,
          23.71,
          23.811999999999998,
          23.914,
          24.016,
          24.118000000000002,
          24.22,
          24.322,
          24.424,
          24.526,
          24.628,
          24.73,
          24.832,
          24.933999999999997,
          25.036,
          25.137999999999998,
          25.240000000000002,
          25.342,
          25.444000000000003,
          25.546,
          25.648,
          25.75,
          25.852,
          25.954,
          26.055999999999997,
          26.158,
          26.259999999999998,
          26.362000000000002,
          26.464,
          26.566000000000003,
          26.668,
          26.77,
          26.872,
          26.974,
          27.076,
          27.178,
          27.28,
          27.381999999999998,
          27.484,
          27.586,
          27.688000000000002,
          27.79,
          27.892,
          27.994,
          28.096,
          28.198,
          28.3,
          28.402,
          28.503999999999998,
          28.606,
          28.708,
          28.810000000000002,
          28.912,
          29.014,
          29.116,
          29.218,
          29.32,
          29.422,
          29.524,
          29.626,
          29.728,
          29.83,
          29.932,
          30.034,
          30.136,
          30.238,
          30.34,
          30.442,
          30.544,
          30.646,
          30.748,
          30.85,
          30.952,
          31.054,
          31.156,
          31.258,
          31.36,
          31.462,
          31.564,
          31.666,
          31.768,
          31.87,
          31.972,
          32.074,
          32.176,
          32.278,
          32.379999999999995,
          32.482,
          32.584,
          32.686,
          32.788,
          32.89,
          32.992000000000004,
          33.094,
          33.196,
          33.298,
          33.4,
          33.501999999999995,
          33.604,
          33.706,
          33.808,
          33.91,
          34.012,
          34.114000000000004,
          34.216,
          34.318,
          34.42,
          34.522,
          34.623999999999995,
          34.726,
          34.828,
          34.93,
          35.032,
          35.134,
          35.236000000000004,
          35.338,
          35.44,
          35.542,
          35.644,
          35.745999999999995,
          35.848,
          35.95,
          36.052,
          36.153999999999996,
          36.256,
          36.358000000000004,
          36.46,
          36.562,
          36.664,
          36.766,
          36.867999999999995,
          36.97,
          37.072,
          37.174,
          37.275999999999996,
          37.378,
          37.480000000000004,
          37.582,
          37.684,
          37.786,
          37.888000000000005,
          37.989999999999995,
          38.092,
          38.194,
          38.296,
          38.397999999999996,
          38.5,
          38.602000000000004,
          38.704,
          38.806,
          38.908,
          39.010000000000005,
          39.111999999999995,
          39.214,
          39.316,
          39.418,
          39.519999999999996,
          39.622,
          39.724000000000004,
          39.826,
          39.928,
          40.03,
          40.132000000000005,
          40.234,
          40.336,
          40.438,
          40.54,
          40.641999999999996,
          40.744,
          40.846000000000004,
          40.948,
          41.05,
          41.152,
          41.254000000000005,
          41.356,
          41.458,
          41.56,
          41.662,
          41.763999999999996,
          41.866,
          41.968,
          42.07,
          42.172,
          42.274,
          42.376000000000005,
          42.478,
          42.58,
          42.682,
          42.784,
          42.885999999999996,
          42.988,
          43.09,
          43.192,
          43.294,
          43.396,
          43.498000000000005,
          43.6,
          43.702,
          43.804,
          43.906,
          44.007999999999996,
          44.11,
          44.212,
          44.314,
          44.416,
          44.518,
          44.620000000000005,
          44.722,
          44.824,
          44.926,
          45.028,
          45.13,
          45.232,
          45.334,
          45.436,
          45.538,
          45.64,
          45.742,
          45.844,
          45.946,
          46.048,
          46.15,
          46.252,
          46.354,
          46.456,
          46.558,
          46.66,
          46.762,
          46.864,
          46.966,
          47.068,
          47.17,
          47.272,
          47.374,
          47.476,
          47.578,
          47.68,
          47.782,
          47.884,
          47.986,
          48.088,
          48.19,
          48.292,
          48.394,
          48.496,
          48.598,
          48.7,
          48.802,
          48.904,
          49.006,
          49.108,
          49.21,
          49.312,
          49.414,
          49.516,
          49.618,
          49.72,
          49.822,
          49.924,
          50.026,
          50.128,
          50.23,
          50.332,
          50.434,
          50.536,
          50.638,
          50.74,
          50.842,
          50.944,
          51.046,
          51.148,
          51.25,
          51.352,
          51.454,
          51.556,
          51.658,
          51.76,
          51.862,
          51.964,
          52.066,
          52.168,
          52.27,
          52.372,
          52.474,
          52.576,
          52.678,
          52.78,
          52.882,
          52.984,
          53.086,
          53.188,
          53.29,
          53.392,
          53.494,
          53.596,
          53.698,
          53.8,
          53.902,
          54.004,
          54.106,
          54.208,
          54.31,
          54.412,
          54.514,
          54.616,
          54.718,
          54.82,
          54.922,
          55.024,
          55.126,
          55.228,
          55.33,
          55.432,
          55.534,
          55.636,
          55.738,
          55.84,
          55.942,
          56.044,
          56.146,
          56.248,
          56.35,
          56.452,
          56.554,
          56.656,
          56.758,
          56.86,
          56.962,
          57.064,
          57.166,
          57.268,
          57.37,
          57.472,
          57.574,
          57.676,
          57.778,
          57.88,
          57.982,
          58.084,
          58.186,
          58.288,
          58.39,
          58.492,
          58.594,
          58.696,
          58.798,
          58.9,
          59.002,
          59.104,
          59.206,
          59.308,
          59.41,
          59.512,
          59.614,
          59.716,
          59.818,
          59.92,
          60.022,
          60.124,
          60.226,
          60.328,
          60.43,
          60.532,
          60.634,
          60.736,
          60.838,
          60.94,
          61.042,
          61.144,
          61.246,
          61.348,
          61.45,
          61.552,
          61.654,
          61.756,
          61.858,
          61.96,
          62.062,
          62.164,
          62.266,
          62.368,
          62.47,
          62.572,
          62.674,
          62.776,
          62.878,
          62.98,
          63.082,
          63.184,
          63.286,
          63.388,
          63.49,
          63.592,
          63.694,
          63.796,
          63.898
         ],
         "xaxis": "x",
         "y": {
          "bdata": "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",
          "dtype": "f8"
         },
         "yaxis": "y"
        },
        {
         "legendgroup": "Silver Medalist",
         "marker": {
          "color": "rgb(44, 160, 44)"
         },
         "mode": "lines",
         "name": "Silver Medalist",
         "showlegend": true,
         "type": "scatter",
         "x": [
          11,
          11.124,
          11.248,
          11.372,
          11.496,
          11.62,
          11.744,
          11.868,
          11.992,
          12.116,
          12.24,
          12.364,
          12.488,
          12.612,
          12.736,
          12.86,
          12.984,
          13.108,
          13.232,
          13.356,
          13.48,
          13.604,
          13.728,
          13.852,
          13.975999999999999,
          14.1,
          14.224,
          14.347999999999999,
          14.472,
          14.596,
          14.72,
          14.844,
          14.968,
          15.091999999999999,
          15.216000000000001,
          15.34,
          15.464,
          15.588000000000001,
          15.712,
          15.836,
          15.96,
          16.084,
          16.208,
          16.332,
          16.456,
          16.58,
          16.704,
          16.828,
          16.951999999999998,
          17.076,
          17.2,
          17.323999999999998,
          17.448,
          17.572,
          17.695999999999998,
          17.82,
          17.944,
          18.067999999999998,
          18.192,
          18.316,
          18.44,
          18.564,
          18.688,
          18.812,
          18.936,
          19.060000000000002,
          19.183999999999997,
          19.308,
          19.432000000000002,
          19.555999999999997,
          19.68,
          19.804000000000002,
          19.928,
          20.052,
          20.176000000000002,
          20.3,
          20.424,
          20.548000000000002,
          20.672,
          20.796,
          20.92,
          21.044,
          21.168,
          21.292,
          21.416,
          21.54,
          21.664,
          21.788,
          21.912,
          22.036,
          22.16,
          22.284,
          22.408,
          22.532,
          22.656,
          22.78,
          22.904,
          23.028,
          23.152,
          23.276,
          23.4,
          23.524,
          23.648,
          23.772,
          23.896,
          24.02,
          24.144,
          24.268,
          24.392,
          24.516,
          24.64,
          24.764,
          24.887999999999998,
          25.012,
          25.136,
          25.259999999999998,
          25.384,
          25.508,
          25.631999999999998,
          25.756,
          25.880000000000003,
          26.003999999999998,
          26.128,
          26.252000000000002,
          26.375999999999998,
          26.5,
          26.624000000000002,
          26.747999999999998,
          26.872,
          26.996000000000002,
          27.12,
          27.244,
          27.368,
          27.492,
          27.616,
          27.74,
          27.864,
          27.988,
          28.112,
          28.236,
          28.36,
          28.484,
          28.608,
          28.732,
          28.856,
          28.98,
          29.104,
          29.228,
          29.352,
          29.476,
          29.6,
          29.724,
          29.848,
          29.972,
          30.096,
          30.22,
          30.344,
          30.468,
          30.592,
          30.716,
          30.84,
          30.964,
          31.088,
          31.212,
          31.336,
          31.46,
          31.584,
          31.708,
          31.832,
          31.956,
          32.08,
          32.204,
          32.328,
          32.452,
          32.576,
          32.7,
          32.824,
          32.948,
          33.072,
          33.196,
          33.32,
          33.444,
          33.568,
          33.692,
          33.816,
          33.94,
          34.064,
          34.188,
          34.312,
          34.436,
          34.56,
          34.684,
          34.808,
          34.932,
          35.056,
          35.18,
          35.304,
          35.428,
          35.552,
          35.676,
          35.8,
          35.924,
          36.048,
          36.172,
          36.296,
          36.42,
          36.544,
          36.668,
          36.792,
          36.916,
          37.04,
          37.164,
          37.288,
          37.412,
          37.536,
          37.66,
          37.784,
          37.908,
          38.032,
          38.156,
          38.28,
          38.403999999999996,
          38.528,
          38.652,
          38.775999999999996,
          38.9,
          39.024,
          39.147999999999996,
          39.272,
          39.396,
          39.519999999999996,
          39.644,
          39.768,
          39.891999999999996,
          40.016,
          40.14,
          40.263999999999996,
          40.388000000000005,
          40.512,
          40.635999999999996,
          40.760000000000005,
          40.884,
          41.007999999999996,
          41.132000000000005,
          41.256,
          41.379999999999995,
          41.504000000000005,
          41.628,
          41.751999999999995,
          41.876000000000005,
          42,
          42.123999999999995,
          42.248000000000005,
          42.372,
          42.495999999999995,
          42.620000000000005,
          42.744,
          42.867999999999995,
          42.992000000000004,
          43.116,
          43.24,
          43.364,
          43.488,
          43.612,
          43.736,
          43.86,
          43.984,
          44.108,
          44.232,
          44.356,
          44.48,
          44.604,
          44.728,
          44.852,
          44.976,
          45.1,
          45.224,
          45.348,
          45.472,
          45.596,
          45.72,
          45.844,
          45.968,
          46.092,
          46.216,
          46.34,
          46.464,
          46.588,
          46.712,
          46.836,
          46.96,
          47.084,
          47.208,
          47.332,
          47.456,
          47.58,
          47.704,
          47.828,
          47.952,
          48.076,
          48.2,
          48.324,
          48.448,
          48.572,
          48.696,
          48.82,
          48.944,
          49.068,
          49.192,
          49.316,
          49.44,
          49.564,
          49.688,
          49.812,
          49.936,
          50.06,
          50.184,
          50.308,
          50.432,
          50.556,
          50.68,
          50.804,
          50.928,
          51.052,
          51.176,
          51.3,
          51.424,
          51.548,
          51.672,
          51.796,
          51.92,
          52.044,
          52.168,
          52.292,
          52.416,
          52.54,
          52.664,
          52.788,
          52.912,
          53.036,
          53.16,
          53.284,
          53.408,
          53.532,
          53.656,
          53.78,
          53.904,
          54.028,
          54.152,
          54.276,
          54.4,
          54.524,
          54.648,
          54.772,
          54.896,
          55.02,
          55.144,
          55.268,
          55.392,
          55.516,
          55.64,
          55.764,
          55.888,
          56.012,
          56.136,
          56.26,
          56.384,
          56.508,
          56.632,
          56.756,
          56.88,
          57.004,
          57.128,
          57.252,
          57.376,
          57.5,
          57.624,
          57.748,
          57.872,
          57.996,
          58.12,
          58.244,
          58.368,
          58.492,
          58.616,
          58.74,
          58.864,
          58.988,
          59.112,
          59.236,
          59.36,
          59.484,
          59.608,
          59.732,
          59.856,
          59.98,
          60.104,
          60.228,
          60.352,
          60.476,
          60.6,
          60.724,
          60.848,
          60.972,
          61.096,
          61.22,
          61.344,
          61.468,
          61.592,
          61.716,
          61.84,
          61.964,
          62.088,
          62.212,
          62.336,
          62.46,
          62.584,
          62.708,
          62.832,
          62.956,
          63.08,
          63.204,
          63.328,
          63.452,
          63.576,
          63.7,
          63.824,
          63.948,
          64.072,
          64.196,
          64.32,
          64.444,
          64.568,
          64.69200000000001,
          64.816,
          64.94,
          65.064,
          65.188,
          65.312,
          65.436,
          65.56,
          65.684,
          65.80799999999999,
          65.932,
          66.056,
          66.18,
          66.304,
          66.428,
          66.55199999999999,
          66.676,
          66.8,
          66.924,
          67.048,
          67.172,
          67.29599999999999,
          67.42,
          67.544,
          67.668,
          67.792,
          67.916,
          68.03999999999999,
          68.164,
          68.288,
          68.412,
          68.536,
          68.66,
          68.78399999999999,
          68.908,
          69.032,
          69.156,
          69.28,
          69.404,
          69.52799999999999,
          69.652,
          69.77600000000001,
          69.9,
          70.024,
          70.148,
          70.27199999999999,
          70.396,
          70.52000000000001,
          70.644,
          70.768,
          70.892,
          71.01599999999999,
          71.14,
          71.26400000000001,
          71.388,
          71.512,
          71.636,
          71.75999999999999,
          71.884,
          72.00800000000001,
          72.132,
          72.256,
          72.38,
          72.50399999999999,
          72.628,
          72.75200000000001,
          72.876
         ],
         "xaxis": "x",
         "y": {
          "bdata": "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",
          "dtype": "f8"
         },
         "yaxis": "y"
        },
        {
         "legendgroup": "Bronze Medalist",
         "marker": {
          "color": "rgb(214, 39, 40)"
         },
         "mode": "lines",
         "name": "Bronze Medalist",
         "showlegend": true,
         "type": "scatter",
         "x": [
          10,
          10.124,
          10.248,
          10.372,
          10.496,
          10.62,
          10.744,
          10.868,
          10.992,
          11.116,
          11.24,
          11.364,
          11.488,
          11.612,
          11.736,
          11.86,
          11.984,
          12.108,
          12.232,
          12.356,
          12.48,
          12.604,
          12.728,
          12.852,
          12.975999999999999,
          13.1,
          13.224,
          13.347999999999999,
          13.472,
          13.596,
          13.72,
          13.844,
          13.968,
          14.091999999999999,
          14.216000000000001,
          14.34,
          14.464,
          14.588000000000001,
          14.712,
          14.836,
          14.96,
          15.084,
          15.208,
          15.332,
          15.456,
          15.58,
          15.704,
          15.828,
          15.952,
          16.076,
          16.2,
          16.323999999999998,
          16.448,
          16.572,
          16.695999999999998,
          16.82,
          16.944,
          17.067999999999998,
          17.192,
          17.316,
          17.44,
          17.564,
          17.688,
          17.812,
          17.936,
          18.060000000000002,
          18.183999999999997,
          18.308,
          18.432000000000002,
          18.555999999999997,
          18.68,
          18.804000000000002,
          18.928,
          19.052,
          19.176000000000002,
          19.3,
          19.424,
          19.548000000000002,
          19.672,
          19.796,
          19.92,
          20.044,
          20.168,
          20.292,
          20.416,
          20.54,
          20.664,
          20.788,
          20.912,
          21.036,
          21.16,
          21.284,
          21.408,
          21.532,
          21.656,
          21.78,
          21.904,
          22.028,
          22.152,
          22.276,
          22.4,
          22.524,
          22.648,
          22.772,
          22.896,
          23.02,
          23.144,
          23.268,
          23.392,
          23.516,
          23.64,
          23.764,
          23.887999999999998,
          24.012,
          24.136,
          24.259999999999998,
          24.384,
          24.508,
          24.631999999999998,
          24.756,
          24.880000000000003,
          25.003999999999998,
          25.128,
          25.252000000000002,
          25.375999999999998,
          25.5,
          25.624000000000002,
          25.747999999999998,
          25.872,
          25.996000000000002,
          26.12,
          26.244,
          26.368,
          26.492,
          26.616,
          26.74,
          26.864,
          26.988,
          27.112,
          27.236,
          27.36,
          27.484,
          27.608,
          27.732,
          27.856,
          27.98,
          28.104,
          28.228,
          28.352,
          28.476,
          28.6,
          28.724,
          28.848,
          28.972,
          29.096,
          29.22,
          29.344,
          29.468,
          29.592,
          29.716,
          29.84,
          29.964,
          30.088,
          30.212,
          30.336,
          30.46,
          30.584,
          30.708,
          30.832,
          30.956,
          31.08,
          31.204,
          31.328,
          31.452,
          31.576,
          31.7,
          31.824,
          31.948,
          32.072,
          32.196,
          32.32,
          32.444,
          32.568,
          32.692,
          32.816,
          32.94,
          33.064,
          33.188,
          33.312,
          33.436,
          33.56,
          33.684,
          33.808,
          33.932,
          34.056,
          34.18,
          34.304,
          34.428,
          34.552,
          34.676,
          34.8,
          34.924,
          35.048,
          35.172,
          35.296,
          35.42,
          35.544,
          35.668,
          35.792,
          35.916,
          36.04,
          36.164,
          36.288,
          36.412,
          36.536,
          36.66,
          36.784,
          36.908,
          37.032,
          37.156,
          37.28,
          37.403999999999996,
          37.528,
          37.652,
          37.775999999999996,
          37.9,
          38.024,
          38.147999999999996,
          38.272,
          38.396,
          38.519999999999996,
          38.644,
          38.768,
          38.891999999999996,
          39.016,
          39.14,
          39.263999999999996,
          39.388000000000005,
          39.512,
          39.635999999999996,
          39.760000000000005,
          39.884,
          40.007999999999996,
          40.132000000000005,
          40.256,
          40.379999999999995,
          40.504000000000005,
          40.628,
          40.751999999999995,
          40.876000000000005,
          41,
          41.123999999999995,
          41.248000000000005,
          41.372,
          41.495999999999995,
          41.620000000000005,
          41.744,
          41.867999999999995,
          41.992000000000004,
          42.116,
          42.24,
          42.364,
          42.488,
          42.612,
          42.736,
          42.86,
          42.984,
          43.108,
          43.232,
          43.356,
          43.48,
          43.604,
          43.728,
          43.852,
          43.976,
          44.1,
          44.224,
          44.348,
          44.472,
          44.596,
          44.72,
          44.844,
          44.968,
          45.092,
          45.216,
          45.34,
          45.464,
          45.588,
          45.712,
          45.836,
          45.96,
          46.084,
          46.208,
          46.332,
          46.456,
          46.58,
          46.704,
          46.828,
          46.952,
          47.076,
          47.2,
          47.324,
          47.448,
          47.572,
          47.696,
          47.82,
          47.944,
          48.068,
          48.192,
          48.316,
          48.44,
          48.564,
          48.688,
          48.812,
          48.936,
          49.06,
          49.184,
          49.308,
          49.432,
          49.556,
          49.68,
          49.804,
          49.928,
          50.052,
          50.176,
          50.3,
          50.424,
          50.548,
          50.672,
          50.796,
          50.92,
          51.044,
          51.168,
          51.292,
          51.416,
          51.54,
          51.664,
          51.788,
          51.912,
          52.036,
          52.16,
          52.284,
          52.408,
          52.532,
          52.656,
          52.78,
          52.904,
          53.028,
          53.152,
          53.276,
          53.4,
          53.524,
          53.648,
          53.772,
          53.896,
          54.02,
          54.144,
          54.268,
          54.392,
          54.516,
          54.64,
          54.764,
          54.888,
          55.012,
          55.136,
          55.26,
          55.384,
          55.508,
          55.632,
          55.756,
          55.88,
          56.004,
          56.128,
          56.252,
          56.376,
          56.5,
          56.624,
          56.748,
          56.872,
          56.996,
          57.12,
          57.244,
          57.368,
          57.492,
          57.616,
          57.74,
          57.864,
          57.988,
          58.112,
          58.236,
          58.36,
          58.484,
          58.608,
          58.732,
          58.856,
          58.98,
          59.104,
          59.228,
          59.352,
          59.476,
          59.6,
          59.724,
          59.848,
          59.972,
          60.096,
          60.22,
          60.344,
          60.468,
          60.592,
          60.716,
          60.84,
          60.964,
          61.088,
          61.212,
          61.336,
          61.46,
          61.584,
          61.708,
          61.832,
          61.956,
          62.08,
          62.204,
          62.328,
          62.452,
          62.576,
          62.7,
          62.824,
          62.948,
          63.072,
          63.196,
          63.32,
          63.444,
          63.568,
          63.692,
          63.816,
          63.94,
          64.064,
          64.188,
          64.312,
          64.436,
          64.56,
          64.684,
          64.80799999999999,
          64.932,
          65.056,
          65.18,
          65.304,
          65.428,
          65.55199999999999,
          65.676,
          65.8,
          65.924,
          66.048,
          66.172,
          66.29599999999999,
          66.42,
          66.544,
          66.668,
          66.792,
          66.916,
          67.03999999999999,
          67.164,
          67.288,
          67.412,
          67.536,
          67.66,
          67.78399999999999,
          67.908,
          68.032,
          68.156,
          68.28,
          68.404,
          68.52799999999999,
          68.652,
          68.77600000000001,
          68.9,
          69.024,
          69.148,
          69.27199999999999,
          69.396,
          69.52000000000001,
          69.644,
          69.768,
          69.892,
          70.01599999999999,
          70.14,
          70.26400000000001,
          70.388,
          70.512,
          70.636,
          70.75999999999999,
          70.884,
          71.00800000000001,
          71.132,
          71.256,
          71.38,
          71.50399999999999,
          71.628,
          71.75200000000001,
          71.876
         ],
         "xaxis": "x",
         "y": {
          "bdata": "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",
          "dtype": "f8"
         },
         "yaxis": "y"
        }
       ],
       "layout": {
        "barmode": "overlay",
        "hovermode": "closest",
        "legend": {
         "traceorder": "reversed"
        },
        "template": {
         "data": {
          "bar": [
           {
            "error_x": {
             "color": "#2a3f5f"
            },
            "error_y": {
             "color": "#2a3f5f"
            },
            "marker": {
             "line": {
              "color": "#E5ECF6",
              "width": 0.5
             },
             "pattern": {
              "fillmode": "overlay",
              "size": 10,
              "solidity": 0.2
             }
            },
            "type": "bar"
           }
          ],
          "barpolar": [
           {
            "marker": {
             "line": {
              "color": "#E5ECF6",
              "width": 0.5
             },
             "pattern": {
              "fillmode": "overlay",
              "size": 10,
              "solidity": 0.2
             }
            },
            "type": "barpolar"
           }
          ],
          "carpet": [
           {
            "aaxis": {
             "endlinecolor": "#2a3f5f",
             "gridcolor": "white",
             "linecolor": "white",
             "minorgridcolor": "white",
             "startlinecolor": "#2a3f5f"
            },
            "baxis": {
             "endlinecolor": "#2a3f5f",
             "gridcolor": "white",
             "linecolor": "white",
             "minorgridcolor": "white",
             "startlinecolor": "#2a3f5f"
            },
            "type": "carpet"
           }
          ],
          "choropleth": [
           {
            "colorbar": {
             "outlinewidth": 0,
             "ticks": ""
            },
            "type": "choropleth"
           }
          ],
          "contour": [
           {
            "colorbar": {
             "outlinewidth": 0,
             "ticks": ""
            },
            "colorscale": [
             [
              0,
              "#0d0887"
             ],
             [
              0.1111111111111111,
              "#46039f"
             ],
             [
              0.2222222222222222,
              "#7201a8"
             ],
             [
              0.3333333333333333,
              "#9c179e"
             ],
             [
              0.4444444444444444,
              "#bd3786"
             ],
             [
              0.5555555555555556,
              "#d8576b"
             ],
             [
              0.6666666666666666,
              "#ed7953"
             ],
             [
              0.7777777777777778,
              "#fb9f3a"
             ],
             [
              0.8888888888888888,
              "#fdca26"
             ],
             [
              1,
              "#f0f921"
             ]
            ],
            "type": "contour"
           }
          ],
          "contourcarpet": [
           {
            "colorbar": {
             "outlinewidth": 0,
             "ticks": ""
            },
            "type": "contourcarpet"
           }
          ],
          "heatmap": [
           {
            "colorbar": {
             "outlinewidth": 0,
             "ticks": ""
            },
            "colorscale": [
             [
              0,
              "#0d0887"
             ],
             [
              0.1111111111111111,
              "#46039f"
             ],
             [
              0.2222222222222222,
              "#7201a8"
             ],
             [
              0.3333333333333333,
              "#9c179e"
             ],
             [
              0.4444444444444444,
              "#bd3786"
             ],
             [
              0.5555555555555556,
              "#d8576b"
             ],
             [
              0.6666666666666666,
              "#ed7953"
             ],
             [
              0.7777777777777778,
              "#fb9f3a"
             ],
             [
              0.8888888888888888,
              "#fdca26"
             ],
             [
              1,
              "#f0f921"
             ]
            ],
            "type": "heatmap"
           }
          ],
          "histogram": [
           {
            "marker": {
             "pattern": {
              "fillmode": "overlay",
              "size": 10,
              "solidity": 0.2
             }
            },
            "type": "histogram"
           }
          ],
          "histogram2d": [
           {
            "colorbar": {
             "outlinewidth": 0,
             "ticks": ""
            },
            "colorscale": [
             [
              0,
              "#0d0887"
             ],
             [
              0.1111111111111111,
              "#46039f"
             ],
             [
              0.2222222222222222,
              "#7201a8"
             ],
             [
              0.3333333333333333,
              "#9c179e"
             ],
             [
              0.4444444444444444,
              "#bd3786"
             ],
             [
              0.5555555555555556,
              "#d8576b"
             ],
             [
              0.6666666666666666,
              "#ed7953"
             ],
             [
              0.7777777777777778,
              "#fb9f3a"
             ],
             [
              0.8888888888888888,
              "#fdca26"
             ],
             [
              1,
              "#f0f921"
             ]
            ],
            "type": "histogram2d"
           }
          ],
          "histogram2dcontour": [
           {
            "colorbar": {
             "outlinewidth": 0,
             "ticks": ""
            },
            "colorscale": [
             [
              0,
              "#0d0887"
             ],
             [
              0.1111111111111111,
              "#46039f"
             ],
             [
              0.2222222222222222,
              "#7201a8"
             ],
             [
              0.3333333333333333,
              "#9c179e"
             ],
             [
              0.4444444444444444,
              "#bd3786"
             ],
             [
              0.5555555555555556,
              "#d8576b"
             ],
             [
              0.6666666666666666,
              "#ed7953"
             ],
             [
              0.7777777777777778,
              "#fb9f3a"
             ],
             [
              0.8888888888888888,
              "#fdca26"
             ],
             [
              1,
              "#f0f921"
             ]
            ],
            "type": "histogram2dcontour"
           }
          ],
          "mesh3d": [
           {
            "colorbar": {
             "outlinewidth": 0,
             "ticks": ""
            },
            "type": "mesh3d"
           }
          ],
          "parcoords": [
           {
            "line": {
             "colorbar": {
              "outlinewidth": 0,
              "ticks": ""
             }
            },
            "type": "parcoords"
           }
          ],
          "pie": [
           {
            "automargin": true,
            "type": "pie"
           }
          ],
          "scatter": [
           {
            "fillpattern": {
             "fillmode": "overlay",
             "size": 10,
             "solidity": 0.2
            },
            "type": "scatter"
           }
          ],
          "scatter3d": [
           {
            "line": {
             "colorbar": {
              "outlinewidth": 0,
              "ticks": ""
             }
            },
            "marker": {
             "colorbar": {
              "outlinewidth": 0,
              "ticks": ""
             }
            },
            "type": "scatter3d"
           }
          ],
          "scattercarpet": [
           {
            "marker": {
             "colorbar": {
              "outlinewidth": 0,
              "ticks": ""
             }
            },
            "type": "scattercarpet"
           }
          ],
          "scattergeo": [
           {
            "marker": {
             "colorbar": {
              "outlinewidth": 0,
              "ticks": ""
             }
            },
            "type": "scattergeo"
           }
          ],
          "scattergl": [
           {
            "marker": {
             "colorbar": {
              "outlinewidth": 0,
              "ticks": ""
             }
            },
            "type": "scattergl"
           }
          ],
          "scattermap": [
           {
            "marker": {
             "colorbar": {
              "outlinewidth": 0,
              "ticks": ""
             }
            },
            "type": "scattermap"
           }
          ],
          "scattermapbox": [
           {
            "marker": {
             "colorbar": {
              "outlinewidth": 0,
              "ticks": ""
             }
            },
            "type": "scattermapbox"
           }
          ],
          "scatterpolar": [
           {
            "marker": {
             "colorbar": {
              "outlinewidth": 0,
              "ticks": ""
             }
            },
            "type": "scatterpolar"
           }
          ],
          "scatterpolargl": [
           {
            "marker": {
             "colorbar": {
              "outlinewidth": 0,
              "ticks": ""
             }
            },
            "type": "scatterpolargl"
           }
          ],
          "scatterternary": [
           {
            "marker": {
             "colorbar": {
              "outlinewidth": 0,
              "ticks": ""
             }
            },
            "type": "scatterternary"
           }
          ],
          "surface": [
           {
            "colorbar": {
             "outlinewidth": 0,
             "ticks": ""
            },
            "colorscale": [
             [
              0,
              "#0d0887"
             ],
             [
              0.1111111111111111,
              "#46039f"
             ],
             [
              0.2222222222222222,
              "#7201a8"
             ],
             [
              0.3333333333333333,
              "#9c179e"
             ],
             [
              0.4444444444444444,
              "#bd3786"
             ],
             [
              0.5555555555555556,
              "#d8576b"
             ],
             [
              0.6666666666666666,
              "#ed7953"
             ],
             [
              0.7777777777777778,
              "#fb9f3a"
             ],
             [
              0.8888888888888888,
              "#fdca26"
             ],
             [
              1,
              "#f0f921"
             ]
            ],
            "type": "surface"
           }
          ],
          "table": [
           {
            "cells": {
             "fill": {
              "color": "#EBF0F8"
             },
             "line": {
              "color": "white"
             }
            },
            "header": {
             "fill": {
              "color": "#C8D4E3"
             },
             "line": {
              "color": "white"
             }
            },
            "type": "table"
           }
          ]
         },
         "layout": {
          "annotationdefaults": {
           "arrowcolor": "#2a3f5f",
           "arrowhead": 0,
           "arrowwidth": 1
          },
          "autotypenumbers": "strict",
          "coloraxis": {
           "colorbar": {
            "outlinewidth": 0,
            "ticks": ""
           }
          },
          "colorscale": {
           "diverging": [
            [
             0,
             "#8e0152"
            ],
            [
             0.1,
             "#c51b7d"
            ],
            [
             0.2,
             "#de77ae"
            ],
            [
             0.3,
             "#f1b6da"
            ],
            [
             0.4,
             "#fde0ef"
            ],
            [
             0.5,
             "#f7f7f7"
            ],
            [
             0.6,
             "#e6f5d0"
            ],
            [
             0.7,
             "#b8e186"
            ],
            [
             0.8,
             "#7fbc41"
            ],
            [
             0.9,
             "#4d9221"
            ],
            [
             1,
             "#276419"
            ]
           ],
           "sequential": [
            [
             0,
             "#0d0887"
            ],
            [
             0.1111111111111111,
             "#46039f"
            ],
            [
             0.2222222222222222,
             "#7201a8"
            ],
            [
             0.3333333333333333,
             "#9c179e"
            ],
            [
             0.4444444444444444,
             "#bd3786"
            ],
            [
             0.5555555555555556,
             "#d8576b"
            ],
            [
             0.6666666666666666,
             "#ed7953"
            ],
            [
             0.7777777777777778,
             "#fb9f3a"
            ],
            [
             0.8888888888888888,
             "#fdca26"
            ],
            [
             1,
             "#f0f921"
            ]
           ],
           "sequentialminus": [
            [
             0,
             "#0d0887"
            ],
            [
             0.1111111111111111,
             "#46039f"
            ],
            [
             0.2222222222222222,
             "#7201a8"
            ],
            [
             0.3333333333333333,
             "#9c179e"
            ],
            [
             0.4444444444444444,
             "#bd3786"
            ],
            [
             0.5555555555555556,
             "#d8576b"
            ],
            [
             0.6666666666666666,
             "#ed7953"
            ],
            [
             0.7777777777777778,
             "#fb9f3a"
            ],
            [
             0.8888888888888888,
             "#fdca26"
            ],
            [
             1,
             "#f0f921"
            ]
           ]
          },
          "colorway": [
           "#636efa",
           "#EF553B",
           "#00cc96",
           "#ab63fa",
           "#FFA15A",
           "#19d3f3",
           "#FF6692",
           "#B6E880",
           "#FF97FF",
           "#FECB52"
          ],
          "font": {
           "color": "#2a3f5f"
          },
          "geo": {
           "bgcolor": "white",
           "lakecolor": "white",
           "landcolor": "#E5ECF6",
           "showlakes": true,
           "showland": true,
           "subunitcolor": "white"
          },
          "hoverlabel": {
           "align": "left"
          },
          "hovermode": "closest",
          "mapbox": {
           "style": "light"
          },
          "paper_bgcolor": "white",
          "plot_bgcolor": "#E5ECF6",
          "polar": {
           "angularaxis": {
            "gridcolor": "white",
            "linecolor": "white",
            "ticks": ""
           },
           "bgcolor": "#E5ECF6",
           "radialaxis": {
            "gridcolor": "white",
            "linecolor": "white",
            "ticks": ""
           }
          },
          "scene": {
           "xaxis": {
            "backgroundcolor": "#E5ECF6",
            "gridcolor": "white",
            "gridwidth": 2,
            "linecolor": "white",
            "showbackground": true,
            "ticks": "",
            "zerolinecolor": "white"
           },
           "yaxis": {
            "backgroundcolor": "#E5ECF6",
            "gridcolor": "white",
            "gridwidth": 2,
            "linecolor": "white",
            "showbackground": true,
            "ticks": "",
            "zerolinecolor": "white"
           },
           "zaxis": {
            "backgroundcolor": "#E5ECF6",
            "gridcolor": "white",
            "gridwidth": 2,
            "linecolor": "white",
            "showbackground": true,
            "ticks": "",
            "zerolinecolor": "white"
           }
          },
          "shapedefaults": {
           "line": {
            "color": "#2a3f5f"
           }
          },
          "ternary": {
           "aaxis": {
            "gridcolor": "white",
            "linecolor": "white",
            "ticks": ""
           },
           "baxis": {
            "gridcolor": "white",
            "linecolor": "white",
            "ticks": ""
           },
           "bgcolor": "#E5ECF6",
           "caxis": {
            "gridcolor": "white",
            "linecolor": "white",
            "ticks": ""
           }
          },
          "title": {
           "x": 0.05
          },
          "xaxis": {
           "automargin": true,
           "gridcolor": "white",
           "linecolor": "white",
           "ticks": "",
           "title": {
            "standoff": 15
           },
           "zerolinecolor": "white",
           "zerolinewidth": 2
          },
          "yaxis": {
           "automargin": true,
           "gridcolor": "white",
           "linecolor": "white",
           "ticks": "",
           "title": {
            "standoff": 15
           },
           "zerolinecolor": "white",
           "zerolinewidth": 2
          }
         }
        },
        "xaxis": {
         "anchor": "y2",
         "domain": [
          0,
          1
         ],
         "zeroline": false
        },
        "yaxis": {
         "anchor": "free",
         "domain": [
          0,
          1
         ],
         "position": 0
        }
       }
      }
     },
     "metadata": {},
     "output_type": "display_data"
    }
   ],
   "source": [
    "fig = ff.create_distplot([all_ath , gold_ath,silver_ath,bronze_ath],['Overall Age','Gold Medalist','Silver Medalist','Bronze Medalist'],show_hist=False,show_rug=False)\n",
    "fig.show()"
   ]
  },
  {
   "cell_type": "code",
   "execution_count": 295,
   "id": "11e0b862",
   "metadata": {},
   "outputs": [
    {
     "data": {
      "text/plain": [
       "3         34.0\n",
       "33        27.0\n",
       "60        25.0\n",
       "111       23.0\n",
       "116       22.0\n",
       "          ... \n",
       "222253    22.0\n",
       "222334    22.0\n",
       "222429    19.0\n",
       "222463    23.0\n",
       "222526    21.0\n",
       "Name: Age, Length: 5570, dtype: float64"
      ]
     },
     "execution_count": 295,
     "metadata": {},
     "output_type": "execute_result"
    }
   ],
   "source": [
    "athelete_df[athelete_df['Medal'] == 'Gold']['Age'].dropna()"
   ]
  },
  {
   "cell_type": "code",
   "execution_count": 296,
   "id": "8dcef5c2",
   "metadata": {},
   "outputs": [
    {
     "ename": "ValueError",
     "evalue": "min() iterable argument is empty",
     "output_type": "error",
     "traceback": [
      "\u001b[31m---------------------------------------------------------------------------\u001b[39m",
      "\u001b[31mValueError\u001b[39m                                Traceback (most recent call last)",
      "\u001b[36mCell\u001b[39m\u001b[36m \u001b[39m\u001b[32mIn[296]\u001b[39m\u001b[32m, line 10\u001b[39m\n\u001b[32m      7\u001b[39m     x.append(temp_df[temp_df[\u001b[33m'\u001b[39m\u001b[33mMedal\u001b[39m\u001b[33m'\u001b[39m] == \u001b[33m'\u001b[39m\u001b[33mGold\u001b[39m\u001b[33m'\u001b[39m][\u001b[33m'\u001b[39m\u001b[33mAge\u001b[39m\u001b[33m'\u001b[39m].dropna())\n\u001b[32m      8\u001b[39m     name.append(sport)\n\u001b[32m---> \u001b[39m\u001b[32m10\u001b[39m fig = \u001b[43mff\u001b[49m\u001b[43m.\u001b[49m\u001b[43mcreate_distplot\u001b[49m\u001b[43m(\u001b[49m\u001b[43mx\u001b[49m\u001b[43m,\u001b[49m\u001b[43mname\u001b[49m\u001b[43m,\u001b[49m\u001b[43mshow_hist\u001b[49m\u001b[43m=\u001b[49m\u001b[38;5;28;43;01mFalse\u001b[39;49;00m\u001b[43m,\u001b[49m\u001b[43mshow_rug\u001b[49m\u001b[43m=\u001b[49m\u001b[38;5;28;43;01mFalse\u001b[39;49;00m\u001b[43m)\u001b[49m\n\u001b[32m     11\u001b[39m \u001b[38;5;66;03m# fig.update_layout(autosize=False,width=1000,height=600)\u001b[39;00m\n\u001b[32m     12\u001b[39m \u001b[38;5;66;03m# fig.show()\u001b[39;00m\n",
      "\u001b[36mFile \u001b[39m\u001b[32mc:\\Users\\ADMIN\\anaconda3\\envs\\Machine_Learning\\Lib\\site-packages\\plotly\\figure_factory\\_distplot.py:216\u001b[39m, in \u001b[36mcreate_distplot\u001b[39m\u001b[34m(hist_data, group_labels, bin_size, curve_type, colors, rug_text, histnorm, show_hist, show_curve, show_rug)\u001b[39m\n\u001b[32m    204\u001b[39m         curve = _Distplot(\n\u001b[32m    205\u001b[39m             hist_data,\n\u001b[32m    206\u001b[39m             histnorm,\n\u001b[32m   (...)\u001b[39m\u001b[32m    213\u001b[39m             show_curve,\n\u001b[32m    214\u001b[39m         ).make_normal()\n\u001b[32m    215\u001b[39m     \u001b[38;5;28;01melse\u001b[39;00m:\n\u001b[32m--> \u001b[39m\u001b[32m216\u001b[39m         curve = \u001b[43m_Distplot\u001b[49m\u001b[43m(\u001b[49m\n\u001b[32m    217\u001b[39m \u001b[43m            \u001b[49m\u001b[43mhist_data\u001b[49m\u001b[43m,\u001b[49m\n\u001b[32m    218\u001b[39m \u001b[43m            \u001b[49m\u001b[43mhistnorm\u001b[49m\u001b[43m,\u001b[49m\n\u001b[32m    219\u001b[39m \u001b[43m            \u001b[49m\u001b[43mgroup_labels\u001b[49m\u001b[43m,\u001b[49m\n\u001b[32m    220\u001b[39m \u001b[43m            \u001b[49m\u001b[43mbin_size\u001b[49m\u001b[43m,\u001b[49m\n\u001b[32m    221\u001b[39m \u001b[43m            \u001b[49m\u001b[43mcurve_type\u001b[49m\u001b[43m,\u001b[49m\n\u001b[32m    222\u001b[39m \u001b[43m            \u001b[49m\u001b[43mcolors\u001b[49m\u001b[43m,\u001b[49m\n\u001b[32m    223\u001b[39m \u001b[43m            \u001b[49m\u001b[43mrug_text\u001b[49m\u001b[43m,\u001b[49m\n\u001b[32m    224\u001b[39m \u001b[43m            \u001b[49m\u001b[43mshow_hist\u001b[49m\u001b[43m,\u001b[49m\n\u001b[32m    225\u001b[39m \u001b[43m            \u001b[49m\u001b[43mshow_curve\u001b[49m\u001b[43m,\u001b[49m\n\u001b[32m    226\u001b[39m \u001b[43m        \u001b[49m\u001b[43m)\u001b[49m.make_kde()\n\u001b[32m    228\u001b[39m     data.append(curve)\n\u001b[32m    230\u001b[39m \u001b[38;5;28;01mif\u001b[39;00m show_rug:\n",
      "\u001b[36mFile \u001b[39m\u001b[32mc:\\Users\\ADMIN\\anaconda3\\envs\\Machine_Learning\\Lib\\site-packages\\plotly\\figure_factory\\_distplot.py:316\u001b[39m, in \u001b[36m_Distplot.__init__\u001b[39m\u001b[34m(self, hist_data, histnorm, group_labels, bin_size, curve_type, colors, rug_text, show_hist, show_curve)\u001b[39m\n\u001b[32m    313\u001b[39m \u001b[38;5;28mself\u001b[39m.curve_y = [\u001b[38;5;28;01mNone\u001b[39;00m] * \u001b[38;5;28mself\u001b[39m.trace_number\n\u001b[32m    315\u001b[39m \u001b[38;5;28;01mfor\u001b[39;00m trace \u001b[38;5;129;01min\u001b[39;00m \u001b[38;5;28mself\u001b[39m.hist_data:\n\u001b[32m--> \u001b[39m\u001b[32m316\u001b[39m     \u001b[38;5;28mself\u001b[39m.start.append(\u001b[38;5;28;43mmin\u001b[39;49m\u001b[43m(\u001b[49m\u001b[43mtrace\u001b[49m\u001b[43m)\u001b[49m * \u001b[32m1.0\u001b[39m)\n\u001b[32m    317\u001b[39m     \u001b[38;5;28mself\u001b[39m.end.append(\u001b[38;5;28mmax\u001b[39m(trace) * \u001b[32m1.0\u001b[39m)\n",
      "\u001b[31mValueError\u001b[39m: min() iterable argument is empty"
     ]
    }
   ],
   "source": [
    "x = []\n",
    "name = []\n",
    "famous_sport = ['Basketball','Judo','Football','Tug-Of-War','Athletics','Swimming','Badminton','Sailing','Gymnastics','Art Competitions','Handball','Weightlifting','Wrestling','Water Polo','Hockey','Rowing','Fencing','Equestrianism','Shooting','Boxing','Taekwondo','Cycling','Diving','Canoeing','Tennis','Modern Pentathlon','Golf','Softball','Archery','Volleyball','Synchronized Swimming','Table Tennis','Baseball','Rhythmic Gymnastics','Rugby Sevens','Trampolining','Beach Volleyball','Triathlon','Rugby','Lacrosse','Polo','Cricket','Ice Hockey','Racquets','Motorboating','Croquet','Figure Skating','Jeu De Paume','Roque','Basque Pelota','Alpinism','Aeronautics']\n",
    "\n",
    "for sport in famous_sport:\n",
    "    temp_df = athelete_df[athelete_df['Sport'] == sport]\n",
    "    x.append(temp_df[temp_df['Medal'] == 'Gold']['Age'].dropna())\n",
    "    name.append(sport)\n",
    "\n",
    "fig = ff.create_distplot(x,name,show_hist=False,show_rug=False)\n",
    "# fig.update_layout(autosize=False,width=1000,height=600)\n",
    "# fig.show()"
   ]
  }
 ],
 "metadata": {
  "kernelspec": {
   "display_name": "Machine_Learning",
   "language": "python",
   "name": "python3"
  },
  "language_info": {
   "codemirror_mode": {
    "name": "ipython",
    "version": 3
   },
   "file_extension": ".py",
   "mimetype": "text/x-python",
   "name": "python",
   "nbconvert_exporter": "python",
   "pygments_lexer": "ipython3",
   "version": "3.13.5"
  }
 },
 "nbformat": 4,
 "nbformat_minor": 5
}
